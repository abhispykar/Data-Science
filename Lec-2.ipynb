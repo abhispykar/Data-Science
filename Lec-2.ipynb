{
  "metadata": {
    "language_info": {
      "codemirror_mode": {
        "name": "python",
        "version": 3
      },
      "file_extension": ".py",
      "mimetype": "text/x-python",
      "name": "python",
      "nbconvert_exporter": "python",
      "pygments_lexer": "ipython3",
      "version": "3.8"
    },
    "kernelspec": {
      "name": "python",
      "display_name": "Python (Pyodide)",
      "language": "python"
    }
  },
  "nbformat_minor": 4,
  "nbformat": 4,
  "cells": [
    {
      "cell_type": "code",
      "source": "num = np.array([67,44,32,16,58,44,27])",
      "metadata": {
        "trusted": true
      },
      "execution_count": 2,
      "outputs": []
    },
    {
      "cell_type": "markdown",
      "source": "### Mean",
      "metadata": {}
    },
    {
      "cell_type": "code",
      "source": "num.mean()",
      "metadata": {
        "trusted": true
      },
      "execution_count": 3,
      "outputs": [
        {
          "execution_count": 3,
          "output_type": "execute_result",
          "data": {
            "text/plain": "41.142857142857146"
          },
          "metadata": {}
        }
      ]
    },
    {
      "cell_type": "code",
      "source": "np.mean(num)",
      "metadata": {
        "trusted": true
      },
      "execution_count": 4,
      "outputs": [
        {
          "execution_count": 4,
          "output_type": "execute_result",
          "data": {
            "text/plain": "41.142857142857146"
          },
          "metadata": {}
        }
      ]
    },
    {
      "cell_type": "code",
      "source": "sum(num)/len(num)",
      "metadata": {
        "trusted": true
      },
      "execution_count": 5,
      "outputs": [
        {
          "execution_count": 5,
          "output_type": "execute_result",
          "data": {
            "text/plain": "41.142857142857146"
          },
          "metadata": {}
        }
      ]
    },
    {
      "cell_type": "markdown",
      "source": "### Meadian",
      "metadata": {}
    },
    {
      "cell_type": "code",
      "source": "np.sort(num)",
      "metadata": {
        "trusted": true
      },
      "execution_count": 7,
      "outputs": [
        {
          "execution_count": 7,
          "output_type": "execute_result",
          "data": {
            "text/plain": "array([16, 27, 32, 44, 44, 58, 67])"
          },
          "metadata": {}
        }
      ]
    },
    {
      "cell_type": "code",
      "source": "np.median(num)",
      "metadata": {
        "trusted": true
      },
      "execution_count": 8,
      "outputs": [
        {
          "execution_count": 8,
          "output_type": "execute_result",
          "data": {
            "text/plain": "44.0"
          },
          "metadata": {}
        }
      ]
    },
    {
      "cell_type": "markdown",
      "source": "### Mode",
      "metadata": {}
    },
    {
      "cell_type": "code",
      "source": "import pandas as pd",
      "metadata": {
        "trusted": true
      },
      "execution_count": 9,
      "outputs": []
    },
    {
      "cell_type": "code",
      "source": "gender = pd.Series(['M','M','F','M','F','M','M','F'])",
      "metadata": {
        "trusted": true
      },
      "execution_count": 11,
      "outputs": []
    },
    {
      "cell_type": "code",
      "source": "gender.value_counts()",
      "metadata": {
        "trusted": true
      },
      "execution_count": 12,
      "outputs": [
        {
          "execution_count": 12,
          "output_type": "execute_result",
          "data": {
            "text/plain": "M    5\nF    3\ndtype: int64"
          },
          "metadata": {}
        }
      ]
    },
    {
      "cell_type": "code",
      "source": "gender.mode()",
      "metadata": {
        "trusted": true
      },
      "execution_count": 13,
      "outputs": [
        {
          "execution_count": 13,
          "output_type": "execute_result",
          "data": {
            "text/plain": "0    M\ndtype: object"
          },
          "metadata": {}
        }
      ]
    },
    {
      "cell_type": "code",
      "source": "ages = pd.Series([22,21,23,22,22,20,21,22,21,22,21,21])",
      "metadata": {
        "trusted": true
      },
      "execution_count": 14,
      "outputs": []
    },
    {
      "cell_type": "code",
      "source": "ages.value_counts()",
      "metadata": {
        "trusted": true
      },
      "execution_count": 15,
      "outputs": [
        {
          "execution_count": 15,
          "output_type": "execute_result",
          "data": {
            "text/plain": "22    5\n21    5\n23    1\n20    1\ndtype: int64"
          },
          "metadata": {}
        }
      ]
    },
    {
      "cell_type": "code",
      "source": "ages.mode()",
      "metadata": {
        "trusted": true
      },
      "execution_count": 16,
      "outputs": [
        {
          "execution_count": 16,
          "output_type": "execute_result",
          "data": {
            "text/plain": "0    21\n1    22\ndtype: int64"
          },
          "metadata": {}
        }
      ]
    },
    {
      "cell_type": "code",
      "source": "x = np.arange(1,91)",
      "metadata": {
        "trusted": true
      },
      "execution_count": 19,
      "outputs": []
    },
    {
      "cell_type": "code",
      "source": "x.mean()",
      "metadata": {
        "trusted": true
      },
      "execution_count": 20,
      "outputs": [
        {
          "execution_count": 20,
          "output_type": "execute_result",
          "data": {
            "text/plain": "45.5"
          },
          "metadata": {}
        }
      ]
    },
    {
      "cell_type": "code",
      "source": "np.median(x)",
      "metadata": {
        "trusted": true
      },
      "execution_count": 21,
      "outputs": [
        {
          "execution_count": 21,
          "output_type": "execute_result",
          "data": {
            "text/plain": "45.5"
          },
          "metadata": {}
        }
      ]
    },
    {
      "cell_type": "markdown",
      "source": "### mid-range",
      "metadata": {}
    },
    {
      "cell_type": "code",
      "source": "(max(num) + min(num)) / 2",
      "metadata": {
        "trusted": true
      },
      "execution_count": 22,
      "outputs": [
        {
          "execution_count": 22,
          "output_type": "execute_result",
          "data": {
            "text/plain": "41.5"
          },
          "metadata": {}
        }
      ]
    },
    {
      "cell_type": "markdown",
      "source": "### dispersion\n",
      "metadata": {}
    },
    {
      "cell_type": "markdown",
      "source": "### mean absolute deviation",
      "metadata": {}
    },
    {
      "cell_type": "code",
      "source": "np.mean(abs(num - num.mean()))",
      "metadata": {
        "trusted": true
      },
      "execution_count": 25,
      "outputs": [
        {
          "execution_count": 25,
          "output_type": "execute_result",
          "data": {
            "text/plain": "13.83673469387755"
          },
          "metadata": {}
        }
      ]
    },
    {
      "cell_type": "code",
      "source": "x = np.ones(10) + 20",
      "metadata": {
        "trusted": true
      },
      "execution_count": 26,
      "outputs": []
    },
    {
      "cell_type": "code",
      "source": "x",
      "metadata": {
        "trusted": true
      },
      "execution_count": 27,
      "outputs": [
        {
          "execution_count": 27,
          "output_type": "execute_result",
          "data": {
            "text/plain": "array([21., 21., 21., 21., 21., 21., 21., 21., 21., 21.])"
          },
          "metadata": {}
        }
      ]
    },
    {
      "cell_type": "code",
      "source": "np.mean(abs(x - x.mean()))",
      "metadata": {
        "trusted": true
      },
      "execution_count": 29,
      "outputs": [
        {
          "execution_count": 29,
          "output_type": "execute_result",
          "data": {
            "text/plain": "0.0"
          },
          "metadata": {}
        }
      ]
    },
    {
      "cell_type": "markdown",
      "source": "### Variance",
      "metadata": {}
    },
    {
      "cell_type": "code",
      "source": "np.mean((num - num.mean()) ** 2)",
      "metadata": {
        "trusted": true
      },
      "execution_count": 30,
      "outputs": [
        {
          "execution_count": 30,
          "output_type": "execute_result",
          "data": {
            "text/plain": "269.265306122449"
          },
          "metadata": {}
        }
      ]
    },
    {
      "cell_type": "markdown",
      "source": "### Standard Deviation",
      "metadata": {}
    },
    {
      "cell_type": "code",
      "source": "np.sqrt(np.mean((num - num.mean()) ** 2))",
      "metadata": {
        "trusted": true
      },
      "execution_count": 31,
      "outputs": [
        {
          "execution_count": 31,
          "output_type": "execute_result",
          "data": {
            "text/plain": "16.409305473494268"
          },
          "metadata": {}
        }
      ]
    },
    {
      "cell_type": "code",
      "source": "num.std()",
      "metadata": {
        "trusted": true
      },
      "execution_count": 32,
      "outputs": [
        {
          "execution_count": 32,
          "output_type": "execute_result",
          "data": {
            "text/plain": "16.409305473494268"
          },
          "metadata": {}
        }
      ]
    },
    {
      "cell_type": "code",
      "source": "np.std(num)",
      "metadata": {
        "trusted": true
      },
      "execution_count": 33,
      "outputs": [
        {
          "execution_count": 33,
          "output_type": "execute_result",
          "data": {
            "text/plain": "16.409305473494268"
          },
          "metadata": {}
        }
      ]
    },
    {
      "cell_type": "markdown",
      "source": "\n# Structured Data Analysis",
      "metadata": {
        "tags": []
      }
    },
    {
      "cell_type": "code",
      "source": "import os\nos.getcwd()",
      "metadata": {
        "trusted": true
      },
      "execution_count": 34,
      "outputs": [
        {
          "execution_count": 34,
          "output_type": "execute_result",
          "data": {
            "text/plain": "'/drive'"
          },
          "metadata": {}
        }
      ]
    },
    {
      "cell_type": "markdown",
      "source": "### import the dataset",
      "metadata": {}
    },
    {
      "cell_type": "code",
      "source": "df = pd.read_csv('imcc.csv')",
      "metadata": {
        "trusted": true
      },
      "execution_count": 36,
      "outputs": []
    },
    {
      "cell_type": "code",
      "source": "df",
      "metadata": {
        "trusted": true
      },
      "execution_count": 37,
      "outputs": [
        {
          "execution_count": 37,
          "output_type": "execute_result",
          "data": {
            "text/plain": "              टाइमस्टँप  roll_num       name    middlename     surname   age  \\\n0   30/05/2023 14:26:35   2201184    Shubham        Kumar        Sinha  23.0   \n1   30/05/2023 14:26:56   2201129     Pranav      Prashant      Modale  25.0   \n2   30/05/2023 14:27:27   2201125    Pratik        Sharad     Masalkar   NaN   \n3   30/05/2023 14:27:43   2201154     Ranvir       Gajanan       Pawar   NaN   \n4   30/05/2023 14:27:48   2201193  Siddhesh         Suresh     Uttekar  21.0   \n5   30/05/2023 14:28:03   2201115     Sairaj       Shirish    Lumpatki  20.0   \n6   30/05/2023 14:28:03   2201110     Rahul          Kumar       Kumar  23.0   \n7   30/05/2023 14:28:06   2201124     Akash      Sambhaji      Markile   NaN   \n8   30/05/2023 14:28:07   2201145     harsh        subhash     patidar  22.0   \n9   30/05/2023 14:28:08   2201105      Omkar        Milind    Kulkarni  22.0   \n10  30/05/2023 14:28:10   2201171    Prajwal        Pramod     Shendge  21.0   \n11  30/05/2023 14:28:10   2201121     tejas    Uttareshwar        mane   NaN   \n12  30/05/2023 14:28:11   2201159    Vaibhav        Kailas        Raut   NaN   \n13  30/05/2023 14:28:13   2201173    Gaurav          Mohan      Shimpi  22.0   \n14  30/05/2023 14:28:15   2201182    sindura         singh     rathore  23.0   \n15  30/05/2023 14:28:15   2201130    Hitesh    Dnyaneshwar   Mohadikar  22.0   \n16  30/05/2023 14:28:16   2201163    Janhavi          Ajit  Sangaonkar   NaN   \n17  30/05/2023 14:28:20   2201195       Raj                      Verma  23.0   \n18  30/05/2023 14:28:25   2201187     Manish       Maruti         Teke  22.0   \n19  30/05/2023 14:28:26   1951022    muskan        shabbir      shipai  21.0   \n20  30/05/2023 14:28:28   2201164  Ashutosh       Ghansham      Saoji   23.0   \n21  30/05/2023 14:28:29   2201133      VIVEK      YESHAVNT        MORE  21.0   \n22  30/05/2023 14:28:32   2201175  Sharvari          Sunil      Shinde  22.0   \n23  30/05/2023 14:28:38   2201190     Leena         Sanjay      Thorat  22.0   \n24  30/05/2023 14:28:41   2201085    vedika   Gorakshanth     kandekar  22.0   \n25  30/05/2023 14:28:47   2201144   Atharva         Jayant    Paradkar  23.0   \n26  30/05/2023 14:28:48   2201196  himanshi                       vyas  22.0   \n27  30/05/2023 14:28:58    220126   Harshita                    Maurya  21.0   \n28  30/05/2023 14:28:59   2201146      Aditi     Pandurang       Patil  21.0   \n29  30/05/2023 14:29:04   2201188    Akshata         vijay      thakre   NaN   \n30  30/05/2023 14:29:03   2201141    Mahima         Lallan         Pal  22.0   \n31  30/05/2023 14:29:06   2201113  Aishwarya        Prasad    Lokhande  22.0   \n32  30/05/2023 14:29:12   2201155    Manali         Prayag      Petare  21.0   \n33  30/05/2023 14:29:16   2201116    Ankita         Tanaji      Madane   NaN   \n34  30/05/2023 14:29:17   2201152       Yash      Rajgonda       Patil  21.0   \n35  30/05/2023 14:29:26   2201139   Apeksha              D       Nimje  21.0   \n36  30/05/2023 14:29:34   2201206   Saurabh         Sanjay        Zute   NaN   \n37  30/05/2023 14:29:43   2201200    Kshitij        Kishor        Wani   NaN   \n38  30/05/2023 14:29:46   2201123   Sandesh        Sudhir      Manohar  22.0   \n39  30/05/2023 14:29:59   2201158      Suyog       Bapurao        Raut  22.0   \n40  30/05/2023 14:30:07   2201104    Prerna          Nitin      Kukade  21.0   \n41  30/05/2023 14:30:15    220143     sakshi       santosh     patidar  22.0   \n42  30/05/2023 14:30:17   2201205     Jyoti              .       Yadav   NaN   \n43  30/05/2023 14:30:20   2201117    NILESH        PRAKASH     MAHAJAN  22.0   \n44  30/05/2023 14:30:26   2201166     Pranav        Pravin     Sarkale  21.0   \n45  30/05/2023 14:30:32   2201167        Raj      Rajendra       kumar  22.0   \n46  30/05/2023 14:30:39   2201157     Nikhil         Ashok       Rande   NaN   \n47  30/05/2023 14:31:04   2201118  ‎ Shubham      ‎ Sanjay      ‎ Mali  21.0   \n48  30/05/2023 14:31:14   2201194  shraddha     jaiprakash       varma  22.0   \n49  30/05/2023 14:31:18   2201106     Priya         Pradip    Kulkarni  22.0   \n50  30/05/2023 14:31:47   2201107    Swapnil         Suhas    Kulkarni  22.0   \n\n     sgpa  gender      favorite_sport  native_city  year_of_passing_10th  \n0    8.29    Male  Cricket , Football        Patna                  2014  \n1    7.80    Male             Cricket         Pune                  2014  \n2    8.31    Male           Badminton         Pune                  2017  \n3    8.00    Male               chess      buldana                  2014  \n4    8.40    Male             cricket         Pune                  2016  \n5    8.71    Male          volleyball   Ahmednagar                  2017  \n6    7.50    Male           Badminton       Ranchi                  2015  \n7    7.79    Male             Cricket        Latur                  2016  \n8    8.00    Male          volleyball       indore                  2016  \n9    9.81    Male    Sachin Tendulkar         Pune                  2018  \n10   7.90    Male             Cricket        Miraj                  2018  \n11   7.85    Male             Cricket     Baramati                  2016  \n12   7.00    Male        Table tennis         Beed                  2016  \n13   8.90    Male             cricket      Shahada                  2017  \n14   8.10  Female             cricket  muzzafarpur                  2017  \n15   8.25    Male             Cricket       Nagpur                  2017  \n16   8.75  Female           Badminton     Kolhapur                  2017  \n17   7.71    Male             Cricket   Jamshedpur                  2017  \n18   8.46    Male             Cricket         Pune                  2016  \n19   8.05  Female             cricket         pune                  2017  \n20   7.54    Male             Cricket        Akola                  2017  \n21   7.60    Male        Table Tennis     Kolhapur                  2017  \n22   7.82  Female             cricket        karad                  2016  \n23   7.89  Female           Badminton       Shirdi                  2017  \n24   8.89  Female                   -   Ahmednagar                  2017  \n25   7.64    Male            Football         Pune                  2016  \n26   8.80  Female             cricket       indore                  2017  \n27   8.61  Female           Vollyball         Pune                  2017  \n28   8.00  Female            Football   Ahmednagar                  2017  \n29  75.00  Female             cricket         pune                  2017  \n30   7.68  Female           badminton        patna                  2015  \n31   9.10  Female           badminton         pune                  2017  \n32   7.90  Female            Football       Sangli                  2017  \n33   7.00  Female             Cricket        karad                  2017  \n34   7.21    Male             Cricket     Kolhapur                  2017  \n35   8.00  Female          Basketball       Nagpur                  2017  \n36   7.50    Male             Cricket     Parbhani                  2016  \n37   7.60    Male             Cricket       Nagpur                  2015  \n38   7.54    Male            Football       Mumbai                  2016  \n39   7.67    Male             cricket         pune                  2017  \n40   7.40  Female           Badminton         Pune                  2017  \n41  10.00  Female             cricket         durg                  2015  \n42   8.14  Female             Cricket        Alwar                  2012  \n43   7.56    Male           BADMINTON      WADGAON                  2017  \n44   7.96    Male              Carrom         Pune                  2017  \n45   9.60    Male             cricket         pune                  2016  \n46   7.00    Male             Kabaddi         Akot                  2016  \n47   9.15    Male           ‎ Cricket       ‎ Pune                  2017  \n48   7.89  Female           badminton         wani                  2017  \n49   8.00  Female           Badminton         Pune                  2017  \n50   7.28    Male             Cricket         Pune                  2016  ",
            "text/html": "<div>\n<style scoped>\n    .dataframe tbody tr th:only-of-type {\n        vertical-align: middle;\n    }\n\n    .dataframe tbody tr th {\n        vertical-align: top;\n    }\n\n    .dataframe thead th {\n        text-align: right;\n    }\n</style>\n<table border=\"1\" class=\"dataframe\">\n  <thead>\n    <tr style=\"text-align: right;\">\n      <th></th>\n      <th>टाइमस्टँप</th>\n      <th>roll_num</th>\n      <th>name</th>\n      <th>middlename</th>\n      <th>surname</th>\n      <th>age</th>\n      <th>sgpa</th>\n      <th>gender</th>\n      <th>favorite_sport</th>\n      <th>native_city</th>\n      <th>year_of_passing_10th</th>\n    </tr>\n  </thead>\n  <tbody>\n    <tr>\n      <th>0</th>\n      <td>30/05/2023 14:26:35</td>\n      <td>2201184</td>\n      <td>Shubham</td>\n      <td>Kumar</td>\n      <td>Sinha</td>\n      <td>23.0</td>\n      <td>8.29</td>\n      <td>Male</td>\n      <td>Cricket , Football</td>\n      <td>Patna</td>\n      <td>2014</td>\n    </tr>\n    <tr>\n      <th>1</th>\n      <td>30/05/2023 14:26:56</td>\n      <td>2201129</td>\n      <td>Pranav</td>\n      <td>Prashant</td>\n      <td>Modale</td>\n      <td>25.0</td>\n      <td>7.80</td>\n      <td>Male</td>\n      <td>Cricket</td>\n      <td>Pune</td>\n      <td>2014</td>\n    </tr>\n    <tr>\n      <th>2</th>\n      <td>30/05/2023 14:27:27</td>\n      <td>2201125</td>\n      <td>Pratik</td>\n      <td>Sharad</td>\n      <td>Masalkar</td>\n      <td>NaN</td>\n      <td>8.31</td>\n      <td>Male</td>\n      <td>Badminton</td>\n      <td>Pune</td>\n      <td>2017</td>\n    </tr>\n    <tr>\n      <th>3</th>\n      <td>30/05/2023 14:27:43</td>\n      <td>2201154</td>\n      <td>Ranvir</td>\n      <td>Gajanan</td>\n      <td>Pawar</td>\n      <td>NaN</td>\n      <td>8.00</td>\n      <td>Male</td>\n      <td>chess</td>\n      <td>buldana</td>\n      <td>2014</td>\n    </tr>\n    <tr>\n      <th>4</th>\n      <td>30/05/2023 14:27:48</td>\n      <td>2201193</td>\n      <td>Siddhesh</td>\n      <td>Suresh</td>\n      <td>Uttekar</td>\n      <td>21.0</td>\n      <td>8.40</td>\n      <td>Male</td>\n      <td>cricket</td>\n      <td>Pune</td>\n      <td>2016</td>\n    </tr>\n    <tr>\n      <th>5</th>\n      <td>30/05/2023 14:28:03</td>\n      <td>2201115</td>\n      <td>Sairaj</td>\n      <td>Shirish</td>\n      <td>Lumpatki</td>\n      <td>20.0</td>\n      <td>8.71</td>\n      <td>Male</td>\n      <td>volleyball</td>\n      <td>Ahmednagar</td>\n      <td>2017</td>\n    </tr>\n    <tr>\n      <th>6</th>\n      <td>30/05/2023 14:28:03</td>\n      <td>2201110</td>\n      <td>Rahul</td>\n      <td>Kumar</td>\n      <td>Kumar</td>\n      <td>23.0</td>\n      <td>7.50</td>\n      <td>Male</td>\n      <td>Badminton</td>\n      <td>Ranchi</td>\n      <td>2015</td>\n    </tr>\n    <tr>\n      <th>7</th>\n      <td>30/05/2023 14:28:06</td>\n      <td>2201124</td>\n      <td>Akash</td>\n      <td>Sambhaji</td>\n      <td>Markile</td>\n      <td>NaN</td>\n      <td>7.79</td>\n      <td>Male</td>\n      <td>Cricket</td>\n      <td>Latur</td>\n      <td>2016</td>\n    </tr>\n    <tr>\n      <th>8</th>\n      <td>30/05/2023 14:28:07</td>\n      <td>2201145</td>\n      <td>harsh</td>\n      <td>subhash</td>\n      <td>patidar</td>\n      <td>22.0</td>\n      <td>8.00</td>\n      <td>Male</td>\n      <td>volleyball</td>\n      <td>indore</td>\n      <td>2016</td>\n    </tr>\n    <tr>\n      <th>9</th>\n      <td>30/05/2023 14:28:08</td>\n      <td>2201105</td>\n      <td>Omkar</td>\n      <td>Milind</td>\n      <td>Kulkarni</td>\n      <td>22.0</td>\n      <td>9.81</td>\n      <td>Male</td>\n      <td>Sachin Tendulkar</td>\n      <td>Pune</td>\n      <td>2018</td>\n    </tr>\n    <tr>\n      <th>10</th>\n      <td>30/05/2023 14:28:10</td>\n      <td>2201171</td>\n      <td>Prajwal</td>\n      <td>Pramod</td>\n      <td>Shendge</td>\n      <td>21.0</td>\n      <td>7.90</td>\n      <td>Male</td>\n      <td>Cricket</td>\n      <td>Miraj</td>\n      <td>2018</td>\n    </tr>\n    <tr>\n      <th>11</th>\n      <td>30/05/2023 14:28:10</td>\n      <td>2201121</td>\n      <td>tejas</td>\n      <td>Uttareshwar</td>\n      <td>mane</td>\n      <td>NaN</td>\n      <td>7.85</td>\n      <td>Male</td>\n      <td>Cricket</td>\n      <td>Baramati</td>\n      <td>2016</td>\n    </tr>\n    <tr>\n      <th>12</th>\n      <td>30/05/2023 14:28:11</td>\n      <td>2201159</td>\n      <td>Vaibhav</td>\n      <td>Kailas</td>\n      <td>Raut</td>\n      <td>NaN</td>\n      <td>7.00</td>\n      <td>Male</td>\n      <td>Table tennis</td>\n      <td>Beed</td>\n      <td>2016</td>\n    </tr>\n    <tr>\n      <th>13</th>\n      <td>30/05/2023 14:28:13</td>\n      <td>2201173</td>\n      <td>Gaurav</td>\n      <td>Mohan</td>\n      <td>Shimpi</td>\n      <td>22.0</td>\n      <td>8.90</td>\n      <td>Male</td>\n      <td>cricket</td>\n      <td>Shahada</td>\n      <td>2017</td>\n    </tr>\n    <tr>\n      <th>14</th>\n      <td>30/05/2023 14:28:15</td>\n      <td>2201182</td>\n      <td>sindura</td>\n      <td>singh</td>\n      <td>rathore</td>\n      <td>23.0</td>\n      <td>8.10</td>\n      <td>Female</td>\n      <td>cricket</td>\n      <td>muzzafarpur</td>\n      <td>2017</td>\n    </tr>\n    <tr>\n      <th>15</th>\n      <td>30/05/2023 14:28:15</td>\n      <td>2201130</td>\n      <td>Hitesh</td>\n      <td>Dnyaneshwar</td>\n      <td>Mohadikar</td>\n      <td>22.0</td>\n      <td>8.25</td>\n      <td>Male</td>\n      <td>Cricket</td>\n      <td>Nagpur</td>\n      <td>2017</td>\n    </tr>\n    <tr>\n      <th>16</th>\n      <td>30/05/2023 14:28:16</td>\n      <td>2201163</td>\n      <td>Janhavi</td>\n      <td>Ajit</td>\n      <td>Sangaonkar</td>\n      <td>NaN</td>\n      <td>8.75</td>\n      <td>Female</td>\n      <td>Badminton</td>\n      <td>Kolhapur</td>\n      <td>2017</td>\n    </tr>\n    <tr>\n      <th>17</th>\n      <td>30/05/2023 14:28:20</td>\n      <td>2201195</td>\n      <td>Raj</td>\n      <td></td>\n      <td>Verma</td>\n      <td>23.0</td>\n      <td>7.71</td>\n      <td>Male</td>\n      <td>Cricket</td>\n      <td>Jamshedpur</td>\n      <td>2017</td>\n    </tr>\n    <tr>\n      <th>18</th>\n      <td>30/05/2023 14:28:25</td>\n      <td>2201187</td>\n      <td>Manish</td>\n      <td>Maruti</td>\n      <td>Teke</td>\n      <td>22.0</td>\n      <td>8.46</td>\n      <td>Male</td>\n      <td>Cricket</td>\n      <td>Pune</td>\n      <td>2016</td>\n    </tr>\n    <tr>\n      <th>19</th>\n      <td>30/05/2023 14:28:26</td>\n      <td>1951022</td>\n      <td>muskan</td>\n      <td>shabbir</td>\n      <td>shipai</td>\n      <td>21.0</td>\n      <td>8.05</td>\n      <td>Female</td>\n      <td>cricket</td>\n      <td>pune</td>\n      <td>2017</td>\n    </tr>\n    <tr>\n      <th>20</th>\n      <td>30/05/2023 14:28:28</td>\n      <td>2201164</td>\n      <td>Ashutosh</td>\n      <td>Ghansham</td>\n      <td>Saoji</td>\n      <td>23.0</td>\n      <td>7.54</td>\n      <td>Male</td>\n      <td>Cricket</td>\n      <td>Akola</td>\n      <td>2017</td>\n    </tr>\n    <tr>\n      <th>21</th>\n      <td>30/05/2023 14:28:29</td>\n      <td>2201133</td>\n      <td>VIVEK</td>\n      <td>YESHAVNT</td>\n      <td>MORE</td>\n      <td>21.0</td>\n      <td>7.60</td>\n      <td>Male</td>\n      <td>Table Tennis</td>\n      <td>Kolhapur</td>\n      <td>2017</td>\n    </tr>\n    <tr>\n      <th>22</th>\n      <td>30/05/2023 14:28:32</td>\n      <td>2201175</td>\n      <td>Sharvari</td>\n      <td>Sunil</td>\n      <td>Shinde</td>\n      <td>22.0</td>\n      <td>7.82</td>\n      <td>Female</td>\n      <td>cricket</td>\n      <td>karad</td>\n      <td>2016</td>\n    </tr>\n    <tr>\n      <th>23</th>\n      <td>30/05/2023 14:28:38</td>\n      <td>2201190</td>\n      <td>Leena</td>\n      <td>Sanjay</td>\n      <td>Thorat</td>\n      <td>22.0</td>\n      <td>7.89</td>\n      <td>Female</td>\n      <td>Badminton</td>\n      <td>Shirdi</td>\n      <td>2017</td>\n    </tr>\n    <tr>\n      <th>24</th>\n      <td>30/05/2023 14:28:41</td>\n      <td>2201085</td>\n      <td>vedika</td>\n      <td>Gorakshanth</td>\n      <td>kandekar</td>\n      <td>22.0</td>\n      <td>8.89</td>\n      <td>Female</td>\n      <td>-</td>\n      <td>Ahmednagar</td>\n      <td>2017</td>\n    </tr>\n    <tr>\n      <th>25</th>\n      <td>30/05/2023 14:28:47</td>\n      <td>2201144</td>\n      <td>Atharva</td>\n      <td>Jayant</td>\n      <td>Paradkar</td>\n      <td>23.0</td>\n      <td>7.64</td>\n      <td>Male</td>\n      <td>Football</td>\n      <td>Pune</td>\n      <td>2016</td>\n    </tr>\n    <tr>\n      <th>26</th>\n      <td>30/05/2023 14:28:48</td>\n      <td>2201196</td>\n      <td>himanshi</td>\n      <td></td>\n      <td>vyas</td>\n      <td>22.0</td>\n      <td>8.80</td>\n      <td>Female</td>\n      <td>cricket</td>\n      <td>indore</td>\n      <td>2017</td>\n    </tr>\n    <tr>\n      <th>27</th>\n      <td>30/05/2023 14:28:58</td>\n      <td>220126</td>\n      <td>Harshita</td>\n      <td></td>\n      <td>Maurya</td>\n      <td>21.0</td>\n      <td>8.61</td>\n      <td>Female</td>\n      <td>Vollyball</td>\n      <td>Pune</td>\n      <td>2017</td>\n    </tr>\n    <tr>\n      <th>28</th>\n      <td>30/05/2023 14:28:59</td>\n      <td>2201146</td>\n      <td>Aditi</td>\n      <td>Pandurang</td>\n      <td>Patil</td>\n      <td>21.0</td>\n      <td>8.00</td>\n      <td>Female</td>\n      <td>Football</td>\n      <td>Ahmednagar</td>\n      <td>2017</td>\n    </tr>\n    <tr>\n      <th>29</th>\n      <td>30/05/2023 14:29:04</td>\n      <td>2201188</td>\n      <td>Akshata</td>\n      <td>vijay</td>\n      <td>thakre</td>\n      <td>NaN</td>\n      <td>75.00</td>\n      <td>Female</td>\n      <td>cricket</td>\n      <td>pune</td>\n      <td>2017</td>\n    </tr>\n    <tr>\n      <th>30</th>\n      <td>30/05/2023 14:29:03</td>\n      <td>2201141</td>\n      <td>Mahima</td>\n      <td>Lallan</td>\n      <td>Pal</td>\n      <td>22.0</td>\n      <td>7.68</td>\n      <td>Female</td>\n      <td>badminton</td>\n      <td>patna</td>\n      <td>2015</td>\n    </tr>\n    <tr>\n      <th>31</th>\n      <td>30/05/2023 14:29:06</td>\n      <td>2201113</td>\n      <td>Aishwarya</td>\n      <td>Prasad</td>\n      <td>Lokhande</td>\n      <td>22.0</td>\n      <td>9.10</td>\n      <td>Female</td>\n      <td>badminton</td>\n      <td>pune</td>\n      <td>2017</td>\n    </tr>\n    <tr>\n      <th>32</th>\n      <td>30/05/2023 14:29:12</td>\n      <td>2201155</td>\n      <td>Manali</td>\n      <td>Prayag</td>\n      <td>Petare</td>\n      <td>21.0</td>\n      <td>7.90</td>\n      <td>Female</td>\n      <td>Football</td>\n      <td>Sangli</td>\n      <td>2017</td>\n    </tr>\n    <tr>\n      <th>33</th>\n      <td>30/05/2023 14:29:16</td>\n      <td>2201116</td>\n      <td>Ankita</td>\n      <td>Tanaji</td>\n      <td>Madane</td>\n      <td>NaN</td>\n      <td>7.00</td>\n      <td>Female</td>\n      <td>Cricket</td>\n      <td>karad</td>\n      <td>2017</td>\n    </tr>\n    <tr>\n      <th>34</th>\n      <td>30/05/2023 14:29:17</td>\n      <td>2201152</td>\n      <td>Yash</td>\n      <td>Rajgonda</td>\n      <td>Patil</td>\n      <td>21.0</td>\n      <td>7.21</td>\n      <td>Male</td>\n      <td>Cricket</td>\n      <td>Kolhapur</td>\n      <td>2017</td>\n    </tr>\n    <tr>\n      <th>35</th>\n      <td>30/05/2023 14:29:26</td>\n      <td>2201139</td>\n      <td>Apeksha</td>\n      <td>D</td>\n      <td>Nimje</td>\n      <td>21.0</td>\n      <td>8.00</td>\n      <td>Female</td>\n      <td>Basketball</td>\n      <td>Nagpur</td>\n      <td>2017</td>\n    </tr>\n    <tr>\n      <th>36</th>\n      <td>30/05/2023 14:29:34</td>\n      <td>2201206</td>\n      <td>Saurabh</td>\n      <td>Sanjay</td>\n      <td>Zute</td>\n      <td>NaN</td>\n      <td>7.50</td>\n      <td>Male</td>\n      <td>Cricket</td>\n      <td>Parbhani</td>\n      <td>2016</td>\n    </tr>\n    <tr>\n      <th>37</th>\n      <td>30/05/2023 14:29:43</td>\n      <td>2201200</td>\n      <td>Kshitij</td>\n      <td>Kishor</td>\n      <td>Wani</td>\n      <td>NaN</td>\n      <td>7.60</td>\n      <td>Male</td>\n      <td>Cricket</td>\n      <td>Nagpur</td>\n      <td>2015</td>\n    </tr>\n    <tr>\n      <th>38</th>\n      <td>30/05/2023 14:29:46</td>\n      <td>2201123</td>\n      <td>Sandesh</td>\n      <td>Sudhir</td>\n      <td>Manohar</td>\n      <td>22.0</td>\n      <td>7.54</td>\n      <td>Male</td>\n      <td>Football</td>\n      <td>Mumbai</td>\n      <td>2016</td>\n    </tr>\n    <tr>\n      <th>39</th>\n      <td>30/05/2023 14:29:59</td>\n      <td>2201158</td>\n      <td>Suyog</td>\n      <td>Bapurao</td>\n      <td>Raut</td>\n      <td>22.0</td>\n      <td>7.67</td>\n      <td>Male</td>\n      <td>cricket</td>\n      <td>pune</td>\n      <td>2017</td>\n    </tr>\n    <tr>\n      <th>40</th>\n      <td>30/05/2023 14:30:07</td>\n      <td>2201104</td>\n      <td>Prerna</td>\n      <td>Nitin</td>\n      <td>Kukade</td>\n      <td>21.0</td>\n      <td>7.40</td>\n      <td>Female</td>\n      <td>Badminton</td>\n      <td>Pune</td>\n      <td>2017</td>\n    </tr>\n    <tr>\n      <th>41</th>\n      <td>30/05/2023 14:30:15</td>\n      <td>220143</td>\n      <td>sakshi</td>\n      <td>santosh</td>\n      <td>patidar</td>\n      <td>22.0</td>\n      <td>10.00</td>\n      <td>Female</td>\n      <td>cricket</td>\n      <td>durg</td>\n      <td>2015</td>\n    </tr>\n    <tr>\n      <th>42</th>\n      <td>30/05/2023 14:30:17</td>\n      <td>2201205</td>\n      <td>Jyoti</td>\n      <td>.</td>\n      <td>Yadav</td>\n      <td>NaN</td>\n      <td>8.14</td>\n      <td>Female</td>\n      <td>Cricket</td>\n      <td>Alwar</td>\n      <td>2012</td>\n    </tr>\n    <tr>\n      <th>43</th>\n      <td>30/05/2023 14:30:20</td>\n      <td>2201117</td>\n      <td>NILESH</td>\n      <td>PRAKASH</td>\n      <td>MAHAJAN</td>\n      <td>22.0</td>\n      <td>7.56</td>\n      <td>Male</td>\n      <td>BADMINTON</td>\n      <td>WADGAON</td>\n      <td>2017</td>\n    </tr>\n    <tr>\n      <th>44</th>\n      <td>30/05/2023 14:30:26</td>\n      <td>2201166</td>\n      <td>Pranav</td>\n      <td>Pravin</td>\n      <td>Sarkale</td>\n      <td>21.0</td>\n      <td>7.96</td>\n      <td>Male</td>\n      <td>Carrom</td>\n      <td>Pune</td>\n      <td>2017</td>\n    </tr>\n    <tr>\n      <th>45</th>\n      <td>30/05/2023 14:30:32</td>\n      <td>2201167</td>\n      <td>Raj</td>\n      <td>Rajendra</td>\n      <td>kumar</td>\n      <td>22.0</td>\n      <td>9.60</td>\n      <td>Male</td>\n      <td>cricket</td>\n      <td>pune</td>\n      <td>2016</td>\n    </tr>\n    <tr>\n      <th>46</th>\n      <td>30/05/2023 14:30:39</td>\n      <td>2201157</td>\n      <td>Nikhil</td>\n      <td>Ashok</td>\n      <td>Rande</td>\n      <td>NaN</td>\n      <td>7.00</td>\n      <td>Male</td>\n      <td>Kabaddi</td>\n      <td>Akot</td>\n      <td>2016</td>\n    </tr>\n    <tr>\n      <th>47</th>\n      <td>30/05/2023 14:31:04</td>\n      <td>2201118</td>\n      <td>‎ Shubham</td>\n      <td>‎ Sanjay</td>\n      <td>‎ Mali</td>\n      <td>21.0</td>\n      <td>9.15</td>\n      <td>Male</td>\n      <td>‎ Cricket</td>\n      <td>‎ Pune</td>\n      <td>2017</td>\n    </tr>\n    <tr>\n      <th>48</th>\n      <td>30/05/2023 14:31:14</td>\n      <td>2201194</td>\n      <td>shraddha</td>\n      <td>jaiprakash</td>\n      <td>varma</td>\n      <td>22.0</td>\n      <td>7.89</td>\n      <td>Female</td>\n      <td>badminton</td>\n      <td>wani</td>\n      <td>2017</td>\n    </tr>\n    <tr>\n      <th>49</th>\n      <td>30/05/2023 14:31:18</td>\n      <td>2201106</td>\n      <td>Priya</td>\n      <td>Pradip</td>\n      <td>Kulkarni</td>\n      <td>22.0</td>\n      <td>8.00</td>\n      <td>Female</td>\n      <td>Badminton</td>\n      <td>Pune</td>\n      <td>2017</td>\n    </tr>\n    <tr>\n      <th>50</th>\n      <td>30/05/2023 14:31:47</td>\n      <td>2201107</td>\n      <td>Swapnil</td>\n      <td>Suhas</td>\n      <td>Kulkarni</td>\n      <td>22.0</td>\n      <td>7.28</td>\n      <td>Male</td>\n      <td>Cricket</td>\n      <td>Pune</td>\n      <td>2016</td>\n    </tr>\n  </tbody>\n</table>\n</div>"
          },
          "metadata": {}
        }
      ]
    },
    {
      "cell_type": "code",
      "source": "df.shape",
      "metadata": {
        "trusted": true
      },
      "execution_count": 38,
      "outputs": [
        {
          "execution_count": 38,
          "output_type": "execute_result",
          "data": {
            "text/plain": "(51, 11)"
          },
          "metadata": {}
        }
      ]
    },
    {
      "cell_type": "code",
      "source": "list(df.columns)",
      "metadata": {
        "trusted": true
      },
      "execution_count": 40,
      "outputs": [
        {
          "execution_count": 40,
          "output_type": "execute_result",
          "data": {
            "text/plain": "['टाइमस्टँप',\n 'roll_num',\n 'name',\n 'middlename',\n 'surname',\n 'age',\n 'sgpa',\n 'gender',\n 'favorite_sport',\n 'native_city',\n 'year_of_passing_10th']"
          },
          "metadata": {}
        }
      ]
    },
    {
      "cell_type": "code",
      "source": "df.dtypes",
      "metadata": {
        "trusted": true
      },
      "execution_count": 41,
      "outputs": [
        {
          "execution_count": 41,
          "output_type": "execute_result",
          "data": {
            "text/plain": "टाइमस्टँप                object\nroll_num                  int64\nname                     object\nmiddlename               object\nsurname                  object\nage                     float64\nsgpa                    float64\ngender                   object\nfavorite_sport           object\nnative_city              object\nyear_of_passing_10th      int64\ndtype: object"
          },
          "metadata": {}
        }
      ]
    },
    {
      "cell_type": "code",
      "source": "df.head()",
      "metadata": {
        "trusted": true
      },
      "execution_count": 42,
      "outputs": [
        {
          "execution_count": 42,
          "output_type": "execute_result",
          "data": {
            "text/plain": "             टाइमस्टँप  roll_num       name middlename   surname   age  sgpa  \\\n0  30/05/2023 14:26:35   2201184    Shubham     Kumar      Sinha  23.0  8.29   \n1  30/05/2023 14:26:56   2201129     Pranav   Prashant    Modale  25.0  7.80   \n2  30/05/2023 14:27:27   2201125    Pratik     Sharad   Masalkar   NaN  8.31   \n3  30/05/2023 14:27:43   2201154     Ranvir    Gajanan     Pawar   NaN  8.00   \n4  30/05/2023 14:27:48   2201193  Siddhesh      Suresh   Uttekar  21.0  8.40   \n\n  gender      favorite_sport native_city  year_of_passing_10th  \n0   Male  Cricket , Football       Patna                  2014  \n1   Male             Cricket        Pune                  2014  \n2   Male           Badminton        Pune                  2017  \n3   Male               chess     buldana                  2014  \n4   Male             cricket        Pune                  2016  ",
            "text/html": "<div>\n<style scoped>\n    .dataframe tbody tr th:only-of-type {\n        vertical-align: middle;\n    }\n\n    .dataframe tbody tr th {\n        vertical-align: top;\n    }\n\n    .dataframe thead th {\n        text-align: right;\n    }\n</style>\n<table border=\"1\" class=\"dataframe\">\n  <thead>\n    <tr style=\"text-align: right;\">\n      <th></th>\n      <th>टाइमस्टँप</th>\n      <th>roll_num</th>\n      <th>name</th>\n      <th>middlename</th>\n      <th>surname</th>\n      <th>age</th>\n      <th>sgpa</th>\n      <th>gender</th>\n      <th>favorite_sport</th>\n      <th>native_city</th>\n      <th>year_of_passing_10th</th>\n    </tr>\n  </thead>\n  <tbody>\n    <tr>\n      <th>0</th>\n      <td>30/05/2023 14:26:35</td>\n      <td>2201184</td>\n      <td>Shubham</td>\n      <td>Kumar</td>\n      <td>Sinha</td>\n      <td>23.0</td>\n      <td>8.29</td>\n      <td>Male</td>\n      <td>Cricket , Football</td>\n      <td>Patna</td>\n      <td>2014</td>\n    </tr>\n    <tr>\n      <th>1</th>\n      <td>30/05/2023 14:26:56</td>\n      <td>2201129</td>\n      <td>Pranav</td>\n      <td>Prashant</td>\n      <td>Modale</td>\n      <td>25.0</td>\n      <td>7.80</td>\n      <td>Male</td>\n      <td>Cricket</td>\n      <td>Pune</td>\n      <td>2014</td>\n    </tr>\n    <tr>\n      <th>2</th>\n      <td>30/05/2023 14:27:27</td>\n      <td>2201125</td>\n      <td>Pratik</td>\n      <td>Sharad</td>\n      <td>Masalkar</td>\n      <td>NaN</td>\n      <td>8.31</td>\n      <td>Male</td>\n      <td>Badminton</td>\n      <td>Pune</td>\n      <td>2017</td>\n    </tr>\n    <tr>\n      <th>3</th>\n      <td>30/05/2023 14:27:43</td>\n      <td>2201154</td>\n      <td>Ranvir</td>\n      <td>Gajanan</td>\n      <td>Pawar</td>\n      <td>NaN</td>\n      <td>8.00</td>\n      <td>Male</td>\n      <td>chess</td>\n      <td>buldana</td>\n      <td>2014</td>\n    </tr>\n    <tr>\n      <th>4</th>\n      <td>30/05/2023 14:27:48</td>\n      <td>2201193</td>\n      <td>Siddhesh</td>\n      <td>Suresh</td>\n      <td>Uttekar</td>\n      <td>21.0</td>\n      <td>8.40</td>\n      <td>Male</td>\n      <td>cricket</td>\n      <td>Pune</td>\n      <td>2016</td>\n    </tr>\n  </tbody>\n</table>\n</div>"
          },
          "metadata": {}
        }
      ]
    },
    {
      "cell_type": "code",
      "source": "df.head(3)",
      "metadata": {
        "trusted": true
      },
      "execution_count": 43,
      "outputs": [
        {
          "execution_count": 43,
          "output_type": "execute_result",
          "data": {
            "text/plain": "             टाइमस्टँप  roll_num     name middlename   surname   age  sgpa  \\\n0  30/05/2023 14:26:35   2201184  Shubham     Kumar      Sinha  23.0  8.29   \n1  30/05/2023 14:26:56   2201129   Pranav   Prashant    Modale  25.0  7.80   \n2  30/05/2023 14:27:27   2201125  Pratik     Sharad   Masalkar   NaN  8.31   \n\n  gender      favorite_sport native_city  year_of_passing_10th  \n0   Male  Cricket , Football       Patna                  2014  \n1   Male             Cricket        Pune                  2014  \n2   Male           Badminton        Pune                  2017  ",
            "text/html": "<div>\n<style scoped>\n    .dataframe tbody tr th:only-of-type {\n        vertical-align: middle;\n    }\n\n    .dataframe tbody tr th {\n        vertical-align: top;\n    }\n\n    .dataframe thead th {\n        text-align: right;\n    }\n</style>\n<table border=\"1\" class=\"dataframe\">\n  <thead>\n    <tr style=\"text-align: right;\">\n      <th></th>\n      <th>टाइमस्टँप</th>\n      <th>roll_num</th>\n      <th>name</th>\n      <th>middlename</th>\n      <th>surname</th>\n      <th>age</th>\n      <th>sgpa</th>\n      <th>gender</th>\n      <th>favorite_sport</th>\n      <th>native_city</th>\n      <th>year_of_passing_10th</th>\n    </tr>\n  </thead>\n  <tbody>\n    <tr>\n      <th>0</th>\n      <td>30/05/2023 14:26:35</td>\n      <td>2201184</td>\n      <td>Shubham</td>\n      <td>Kumar</td>\n      <td>Sinha</td>\n      <td>23.0</td>\n      <td>8.29</td>\n      <td>Male</td>\n      <td>Cricket , Football</td>\n      <td>Patna</td>\n      <td>2014</td>\n    </tr>\n    <tr>\n      <th>1</th>\n      <td>30/05/2023 14:26:56</td>\n      <td>2201129</td>\n      <td>Pranav</td>\n      <td>Prashant</td>\n      <td>Modale</td>\n      <td>25.0</td>\n      <td>7.80</td>\n      <td>Male</td>\n      <td>Cricket</td>\n      <td>Pune</td>\n      <td>2014</td>\n    </tr>\n    <tr>\n      <th>2</th>\n      <td>30/05/2023 14:27:27</td>\n      <td>2201125</td>\n      <td>Pratik</td>\n      <td>Sharad</td>\n      <td>Masalkar</td>\n      <td>NaN</td>\n      <td>8.31</td>\n      <td>Male</td>\n      <td>Badminton</td>\n      <td>Pune</td>\n      <td>2017</td>\n    </tr>\n  </tbody>\n</table>\n</div>"
          },
          "metadata": {}
        }
      ]
    },
    {
      "cell_type": "code",
      "source": "df.tail()",
      "metadata": {
        "trusted": true
      },
      "execution_count": 44,
      "outputs": [
        {
          "execution_count": 44,
          "output_type": "execute_result",
          "data": {
            "text/plain": "              टाइमस्टँप  roll_num       name  middlename   surname   age  \\\n46  30/05/2023 14:30:39   2201157     Nikhil       Ashok     Rande   NaN   \n47  30/05/2023 14:31:04   2201118  ‎ Shubham    ‎ Sanjay    ‎ Mali  21.0   \n48  30/05/2023 14:31:14   2201194  shraddha   jaiprakash     varma  22.0   \n49  30/05/2023 14:31:18   2201106     Priya       Pradip  Kulkarni  22.0   \n50  30/05/2023 14:31:47   2201107    Swapnil       Suhas  Kulkarni  22.0   \n\n    sgpa  gender favorite_sport native_city  year_of_passing_10th  \n46  7.00    Male        Kabaddi        Akot                  2016  \n47  9.15    Male      ‎ Cricket      ‎ Pune                  2017  \n48  7.89  Female      badminton        wani                  2017  \n49  8.00  Female      Badminton        Pune                  2017  \n50  7.28    Male        Cricket        Pune                  2016  ",
            "text/html": "<div>\n<style scoped>\n    .dataframe tbody tr th:only-of-type {\n        vertical-align: middle;\n    }\n\n    .dataframe tbody tr th {\n        vertical-align: top;\n    }\n\n    .dataframe thead th {\n        text-align: right;\n    }\n</style>\n<table border=\"1\" class=\"dataframe\">\n  <thead>\n    <tr style=\"text-align: right;\">\n      <th></th>\n      <th>टाइमस्टँप</th>\n      <th>roll_num</th>\n      <th>name</th>\n      <th>middlename</th>\n      <th>surname</th>\n      <th>age</th>\n      <th>sgpa</th>\n      <th>gender</th>\n      <th>favorite_sport</th>\n      <th>native_city</th>\n      <th>year_of_passing_10th</th>\n    </tr>\n  </thead>\n  <tbody>\n    <tr>\n      <th>46</th>\n      <td>30/05/2023 14:30:39</td>\n      <td>2201157</td>\n      <td>Nikhil</td>\n      <td>Ashok</td>\n      <td>Rande</td>\n      <td>NaN</td>\n      <td>7.00</td>\n      <td>Male</td>\n      <td>Kabaddi</td>\n      <td>Akot</td>\n      <td>2016</td>\n    </tr>\n    <tr>\n      <th>47</th>\n      <td>30/05/2023 14:31:04</td>\n      <td>2201118</td>\n      <td>‎ Shubham</td>\n      <td>‎ Sanjay</td>\n      <td>‎ Mali</td>\n      <td>21.0</td>\n      <td>9.15</td>\n      <td>Male</td>\n      <td>‎ Cricket</td>\n      <td>‎ Pune</td>\n      <td>2017</td>\n    </tr>\n    <tr>\n      <th>48</th>\n      <td>30/05/2023 14:31:14</td>\n      <td>2201194</td>\n      <td>shraddha</td>\n      <td>jaiprakash</td>\n      <td>varma</td>\n      <td>22.0</td>\n      <td>7.89</td>\n      <td>Female</td>\n      <td>badminton</td>\n      <td>wani</td>\n      <td>2017</td>\n    </tr>\n    <tr>\n      <th>49</th>\n      <td>30/05/2023 14:31:18</td>\n      <td>2201106</td>\n      <td>Priya</td>\n      <td>Pradip</td>\n      <td>Kulkarni</td>\n      <td>22.0</td>\n      <td>8.00</td>\n      <td>Female</td>\n      <td>Badminton</td>\n      <td>Pune</td>\n      <td>2017</td>\n    </tr>\n    <tr>\n      <th>50</th>\n      <td>30/05/2023 14:31:47</td>\n      <td>2201107</td>\n      <td>Swapnil</td>\n      <td>Suhas</td>\n      <td>Kulkarni</td>\n      <td>22.0</td>\n      <td>7.28</td>\n      <td>Male</td>\n      <td>Cricket</td>\n      <td>Pune</td>\n      <td>2016</td>\n    </tr>\n  </tbody>\n</table>\n</div>"
          },
          "metadata": {}
        }
      ]
    },
    {
      "cell_type": "code",
      "source": "df.iloc[2:9:,3:8]",
      "metadata": {
        "trusted": true
      },
      "execution_count": 45,
      "outputs": [
        {
          "execution_count": 45,
          "output_type": "execute_result",
          "data": {
            "text/plain": "  middlename   surname   age  sgpa gender\n2    Sharad   Masalkar   NaN  8.31   Male\n3    Gajanan     Pawar   NaN  8.00   Male\n4     Suresh   Uttekar  21.0  8.40   Male\n5    Shirish  Lumpatki  20.0  8.71   Male\n6      Kumar     Kumar  23.0  7.50   Male\n7  Sambhaji    Markile   NaN  7.79   Male\n8    subhash   patidar  22.0  8.00   Male",
            "text/html": "<div>\n<style scoped>\n    .dataframe tbody tr th:only-of-type {\n        vertical-align: middle;\n    }\n\n    .dataframe tbody tr th {\n        vertical-align: top;\n    }\n\n    .dataframe thead th {\n        text-align: right;\n    }\n</style>\n<table border=\"1\" class=\"dataframe\">\n  <thead>\n    <tr style=\"text-align: right;\">\n      <th></th>\n      <th>middlename</th>\n      <th>surname</th>\n      <th>age</th>\n      <th>sgpa</th>\n      <th>gender</th>\n    </tr>\n  </thead>\n  <tbody>\n    <tr>\n      <th>2</th>\n      <td>Sharad</td>\n      <td>Masalkar</td>\n      <td>NaN</td>\n      <td>8.31</td>\n      <td>Male</td>\n    </tr>\n    <tr>\n      <th>3</th>\n      <td>Gajanan</td>\n      <td>Pawar</td>\n      <td>NaN</td>\n      <td>8.00</td>\n      <td>Male</td>\n    </tr>\n    <tr>\n      <th>4</th>\n      <td>Suresh</td>\n      <td>Uttekar</td>\n      <td>21.0</td>\n      <td>8.40</td>\n      <td>Male</td>\n    </tr>\n    <tr>\n      <th>5</th>\n      <td>Shirish</td>\n      <td>Lumpatki</td>\n      <td>20.0</td>\n      <td>8.71</td>\n      <td>Male</td>\n    </tr>\n    <tr>\n      <th>6</th>\n      <td>Kumar</td>\n      <td>Kumar</td>\n      <td>23.0</td>\n      <td>7.50</td>\n      <td>Male</td>\n    </tr>\n    <tr>\n      <th>7</th>\n      <td>Sambhaji</td>\n      <td>Markile</td>\n      <td>NaN</td>\n      <td>7.79</td>\n      <td>Male</td>\n    </tr>\n    <tr>\n      <th>8</th>\n      <td>subhash</td>\n      <td>patidar</td>\n      <td>22.0</td>\n      <td>8.00</td>\n      <td>Male</td>\n    </tr>\n  </tbody>\n</table>\n</div>"
          },
          "metadata": {}
        }
      ]
    },
    {
      "cell_type": "code",
      "source": "df.iloc[:9,3:8]",
      "metadata": {
        "trusted": true
      },
      "execution_count": 46,
      "outputs": [
        {
          "execution_count": 46,
          "output_type": "execute_result",
          "data": {
            "text/plain": "  middlename   surname   age  sgpa gender\n0     Kumar      Sinha  23.0  8.29   Male\n1   Prashant    Modale  25.0  7.80   Male\n2    Sharad   Masalkar   NaN  8.31   Male\n3    Gajanan     Pawar   NaN  8.00   Male\n4     Suresh   Uttekar  21.0  8.40   Male\n5    Shirish  Lumpatki  20.0  8.71   Male\n6      Kumar     Kumar  23.0  7.50   Male\n7  Sambhaji    Markile   NaN  7.79   Male\n8    subhash   patidar  22.0  8.00   Male",
            "text/html": "<div>\n<style scoped>\n    .dataframe tbody tr th:only-of-type {\n        vertical-align: middle;\n    }\n\n    .dataframe tbody tr th {\n        vertical-align: top;\n    }\n\n    .dataframe thead th {\n        text-align: right;\n    }\n</style>\n<table border=\"1\" class=\"dataframe\">\n  <thead>\n    <tr style=\"text-align: right;\">\n      <th></th>\n      <th>middlename</th>\n      <th>surname</th>\n      <th>age</th>\n      <th>sgpa</th>\n      <th>gender</th>\n    </tr>\n  </thead>\n  <tbody>\n    <tr>\n      <th>0</th>\n      <td>Kumar</td>\n      <td>Sinha</td>\n      <td>23.0</td>\n      <td>8.29</td>\n      <td>Male</td>\n    </tr>\n    <tr>\n      <th>1</th>\n      <td>Prashant</td>\n      <td>Modale</td>\n      <td>25.0</td>\n      <td>7.80</td>\n      <td>Male</td>\n    </tr>\n    <tr>\n      <th>2</th>\n      <td>Sharad</td>\n      <td>Masalkar</td>\n      <td>NaN</td>\n      <td>8.31</td>\n      <td>Male</td>\n    </tr>\n    <tr>\n      <th>3</th>\n      <td>Gajanan</td>\n      <td>Pawar</td>\n      <td>NaN</td>\n      <td>8.00</td>\n      <td>Male</td>\n    </tr>\n    <tr>\n      <th>4</th>\n      <td>Suresh</td>\n      <td>Uttekar</td>\n      <td>21.0</td>\n      <td>8.40</td>\n      <td>Male</td>\n    </tr>\n    <tr>\n      <th>5</th>\n      <td>Shirish</td>\n      <td>Lumpatki</td>\n      <td>20.0</td>\n      <td>8.71</td>\n      <td>Male</td>\n    </tr>\n    <tr>\n      <th>6</th>\n      <td>Kumar</td>\n      <td>Kumar</td>\n      <td>23.0</td>\n      <td>7.50</td>\n      <td>Male</td>\n    </tr>\n    <tr>\n      <th>7</th>\n      <td>Sambhaji</td>\n      <td>Markile</td>\n      <td>NaN</td>\n      <td>7.79</td>\n      <td>Male</td>\n    </tr>\n    <tr>\n      <th>8</th>\n      <td>subhash</td>\n      <td>patidar</td>\n      <td>22.0</td>\n      <td>8.00</td>\n      <td>Male</td>\n    </tr>\n  </tbody>\n</table>\n</div>"
          },
          "metadata": {}
        }
      ]
    },
    {
      "cell_type": "code",
      "source": "df.iloc[:9,3:]",
      "metadata": {
        "trusted": true
      },
      "execution_count": 47,
      "outputs": [
        {
          "execution_count": 47,
          "output_type": "execute_result",
          "data": {
            "text/plain": "  middlename   surname   age  sgpa gender      favorite_sport native_city  \\\n0     Kumar      Sinha  23.0  8.29   Male  Cricket , Football       Patna   \n1   Prashant    Modale  25.0  7.80   Male             Cricket        Pune   \n2    Sharad   Masalkar   NaN  8.31   Male           Badminton        Pune   \n3    Gajanan     Pawar   NaN  8.00   Male               chess     buldana   \n4     Suresh   Uttekar  21.0  8.40   Male             cricket        Pune   \n5    Shirish  Lumpatki  20.0  8.71   Male          volleyball  Ahmednagar   \n6      Kumar     Kumar  23.0  7.50   Male           Badminton      Ranchi   \n7  Sambhaji    Markile   NaN  7.79   Male             Cricket       Latur   \n8    subhash   patidar  22.0  8.00   Male          volleyball      indore   \n\n   year_of_passing_10th  \n0                  2014  \n1                  2014  \n2                  2017  \n3                  2014  \n4                  2016  \n5                  2017  \n6                  2015  \n7                  2016  \n8                  2016  ",
            "text/html": "<div>\n<style scoped>\n    .dataframe tbody tr th:only-of-type {\n        vertical-align: middle;\n    }\n\n    .dataframe tbody tr th {\n        vertical-align: top;\n    }\n\n    .dataframe thead th {\n        text-align: right;\n    }\n</style>\n<table border=\"1\" class=\"dataframe\">\n  <thead>\n    <tr style=\"text-align: right;\">\n      <th></th>\n      <th>middlename</th>\n      <th>surname</th>\n      <th>age</th>\n      <th>sgpa</th>\n      <th>gender</th>\n      <th>favorite_sport</th>\n      <th>native_city</th>\n      <th>year_of_passing_10th</th>\n    </tr>\n  </thead>\n  <tbody>\n    <tr>\n      <th>0</th>\n      <td>Kumar</td>\n      <td>Sinha</td>\n      <td>23.0</td>\n      <td>8.29</td>\n      <td>Male</td>\n      <td>Cricket , Football</td>\n      <td>Patna</td>\n      <td>2014</td>\n    </tr>\n    <tr>\n      <th>1</th>\n      <td>Prashant</td>\n      <td>Modale</td>\n      <td>25.0</td>\n      <td>7.80</td>\n      <td>Male</td>\n      <td>Cricket</td>\n      <td>Pune</td>\n      <td>2014</td>\n    </tr>\n    <tr>\n      <th>2</th>\n      <td>Sharad</td>\n      <td>Masalkar</td>\n      <td>NaN</td>\n      <td>8.31</td>\n      <td>Male</td>\n      <td>Badminton</td>\n      <td>Pune</td>\n      <td>2017</td>\n    </tr>\n    <tr>\n      <th>3</th>\n      <td>Gajanan</td>\n      <td>Pawar</td>\n      <td>NaN</td>\n      <td>8.00</td>\n      <td>Male</td>\n      <td>chess</td>\n      <td>buldana</td>\n      <td>2014</td>\n    </tr>\n    <tr>\n      <th>4</th>\n      <td>Suresh</td>\n      <td>Uttekar</td>\n      <td>21.0</td>\n      <td>8.40</td>\n      <td>Male</td>\n      <td>cricket</td>\n      <td>Pune</td>\n      <td>2016</td>\n    </tr>\n    <tr>\n      <th>5</th>\n      <td>Shirish</td>\n      <td>Lumpatki</td>\n      <td>20.0</td>\n      <td>8.71</td>\n      <td>Male</td>\n      <td>volleyball</td>\n      <td>Ahmednagar</td>\n      <td>2017</td>\n    </tr>\n    <tr>\n      <th>6</th>\n      <td>Kumar</td>\n      <td>Kumar</td>\n      <td>23.0</td>\n      <td>7.50</td>\n      <td>Male</td>\n      <td>Badminton</td>\n      <td>Ranchi</td>\n      <td>2015</td>\n    </tr>\n    <tr>\n      <th>7</th>\n      <td>Sambhaji</td>\n      <td>Markile</td>\n      <td>NaN</td>\n      <td>7.79</td>\n      <td>Male</td>\n      <td>Cricket</td>\n      <td>Latur</td>\n      <td>2016</td>\n    </tr>\n    <tr>\n      <th>8</th>\n      <td>subhash</td>\n      <td>patidar</td>\n      <td>22.0</td>\n      <td>8.00</td>\n      <td>Male</td>\n      <td>volleyball</td>\n      <td>indore</td>\n      <td>2016</td>\n    </tr>\n  </tbody>\n</table>\n</div>"
          },
          "metadata": {}
        }
      ]
    },
    {
      "cell_type": "code",
      "source": "x = df.iloc[:9,3:]\nx",
      "metadata": {
        "trusted": true
      },
      "execution_count": 48,
      "outputs": [
        {
          "execution_count": 48,
          "output_type": "execute_result",
          "data": {
            "text/plain": "  middlename   surname   age  sgpa gender      favorite_sport native_city  \\\n0     Kumar      Sinha  23.0  8.29   Male  Cricket , Football       Patna   \n1   Prashant    Modale  25.0  7.80   Male             Cricket        Pune   \n2    Sharad   Masalkar   NaN  8.31   Male           Badminton        Pune   \n3    Gajanan     Pawar   NaN  8.00   Male               chess     buldana   \n4     Suresh   Uttekar  21.0  8.40   Male             cricket        Pune   \n5    Shirish  Lumpatki  20.0  8.71   Male          volleyball  Ahmednagar   \n6      Kumar     Kumar  23.0  7.50   Male           Badminton      Ranchi   \n7  Sambhaji    Markile   NaN  7.79   Male             Cricket       Latur   \n8    subhash   patidar  22.0  8.00   Male          volleyball      indore   \n\n   year_of_passing_10th  \n0                  2014  \n1                  2014  \n2                  2017  \n3                  2014  \n4                  2016  \n5                  2017  \n6                  2015  \n7                  2016  \n8                  2016  ",
            "text/html": "<div>\n<style scoped>\n    .dataframe tbody tr th:only-of-type {\n        vertical-align: middle;\n    }\n\n    .dataframe tbody tr th {\n        vertical-align: top;\n    }\n\n    .dataframe thead th {\n        text-align: right;\n    }\n</style>\n<table border=\"1\" class=\"dataframe\">\n  <thead>\n    <tr style=\"text-align: right;\">\n      <th></th>\n      <th>middlename</th>\n      <th>surname</th>\n      <th>age</th>\n      <th>sgpa</th>\n      <th>gender</th>\n      <th>favorite_sport</th>\n      <th>native_city</th>\n      <th>year_of_passing_10th</th>\n    </tr>\n  </thead>\n  <tbody>\n    <tr>\n      <th>0</th>\n      <td>Kumar</td>\n      <td>Sinha</td>\n      <td>23.0</td>\n      <td>8.29</td>\n      <td>Male</td>\n      <td>Cricket , Football</td>\n      <td>Patna</td>\n      <td>2014</td>\n    </tr>\n    <tr>\n      <th>1</th>\n      <td>Prashant</td>\n      <td>Modale</td>\n      <td>25.0</td>\n      <td>7.80</td>\n      <td>Male</td>\n      <td>Cricket</td>\n      <td>Pune</td>\n      <td>2014</td>\n    </tr>\n    <tr>\n      <th>2</th>\n      <td>Sharad</td>\n      <td>Masalkar</td>\n      <td>NaN</td>\n      <td>8.31</td>\n      <td>Male</td>\n      <td>Badminton</td>\n      <td>Pune</td>\n      <td>2017</td>\n    </tr>\n    <tr>\n      <th>3</th>\n      <td>Gajanan</td>\n      <td>Pawar</td>\n      <td>NaN</td>\n      <td>8.00</td>\n      <td>Male</td>\n      <td>chess</td>\n      <td>buldana</td>\n      <td>2014</td>\n    </tr>\n    <tr>\n      <th>4</th>\n      <td>Suresh</td>\n      <td>Uttekar</td>\n      <td>21.0</td>\n      <td>8.40</td>\n      <td>Male</td>\n      <td>cricket</td>\n      <td>Pune</td>\n      <td>2016</td>\n    </tr>\n    <tr>\n      <th>5</th>\n      <td>Shirish</td>\n      <td>Lumpatki</td>\n      <td>20.0</td>\n      <td>8.71</td>\n      <td>Male</td>\n      <td>volleyball</td>\n      <td>Ahmednagar</td>\n      <td>2017</td>\n    </tr>\n    <tr>\n      <th>6</th>\n      <td>Kumar</td>\n      <td>Kumar</td>\n      <td>23.0</td>\n      <td>7.50</td>\n      <td>Male</td>\n      <td>Badminton</td>\n      <td>Ranchi</td>\n      <td>2015</td>\n    </tr>\n    <tr>\n      <th>7</th>\n      <td>Sambhaji</td>\n      <td>Markile</td>\n      <td>NaN</td>\n      <td>7.79</td>\n      <td>Male</td>\n      <td>Cricket</td>\n      <td>Latur</td>\n      <td>2016</td>\n    </tr>\n    <tr>\n      <th>8</th>\n      <td>subhash</td>\n      <td>patidar</td>\n      <td>22.0</td>\n      <td>8.00</td>\n      <td>Male</td>\n      <td>volleyball</td>\n      <td>indore</td>\n      <td>2016</td>\n    </tr>\n  </tbody>\n</table>\n</div>"
          },
          "metadata": {}
        }
      ]
    },
    {
      "cell_type": "code",
      "source": "df.iloc[2:9,2]",
      "metadata": {
        "trusted": true
      },
      "execution_count": 49,
      "outputs": [
        {
          "execution_count": 49,
          "output_type": "execute_result",
          "data": {
            "text/plain": "2      Pratik \n3       Ranvir\n4    Siddhesh \n5       Sairaj\n6       Rahul \n7       Akash \n8       harsh \nName: name, dtype: object"
          },
          "metadata": {}
        }
      ]
    },
    {
      "cell_type": "code",
      "source": "df.iloc[5,:]",
      "metadata": {
        "trusted": true
      },
      "execution_count": 50,
      "outputs": [
        {
          "execution_count": 50,
          "output_type": "execute_result",
          "data": {
            "text/plain": "टाइमस्टँप               30/05/2023 14:28:03\nroll_num                            2201115\nname                                 Sairaj\nmiddlename                          Shirish\nsurname                            Lumpatki\nage                                    20.0\nsgpa                                   8.71\ngender                                 Male\nfavorite_sport                   volleyball\nnative_city                      Ahmednagar\nyear_of_passing_10th                   2017\nName: 5, dtype: object"
          },
          "metadata": {}
        }
      ]
    },
    {
      "cell_type": "code",
      "source": "df.iloc[[2,45,12,38,24],3:7]",
      "metadata": {
        "trusted": true
      },
      "execution_count": 51,
      "outputs": [
        {
          "execution_count": 51,
          "output_type": "execute_result",
          "data": {
            "text/plain": "      middlename   surname   age  sgpa\n2        Sharad   Masalkar   NaN  8.31\n45      Rajendra     kumar  22.0  9.60\n12        Kailas      Raut   NaN  7.00\n38       Sudhir    Manohar  22.0  7.54\n24  Gorakshanth   kandekar  22.0  8.89",
            "text/html": "<div>\n<style scoped>\n    .dataframe tbody tr th:only-of-type {\n        vertical-align: middle;\n    }\n\n    .dataframe tbody tr th {\n        vertical-align: top;\n    }\n\n    .dataframe thead th {\n        text-align: right;\n    }\n</style>\n<table border=\"1\" class=\"dataframe\">\n  <thead>\n    <tr style=\"text-align: right;\">\n      <th></th>\n      <th>middlename</th>\n      <th>surname</th>\n      <th>age</th>\n      <th>sgpa</th>\n    </tr>\n  </thead>\n  <tbody>\n    <tr>\n      <th>2</th>\n      <td>Sharad</td>\n      <td>Masalkar</td>\n      <td>NaN</td>\n      <td>8.31</td>\n    </tr>\n    <tr>\n      <th>45</th>\n      <td>Rajendra</td>\n      <td>kumar</td>\n      <td>22.0</td>\n      <td>9.60</td>\n    </tr>\n    <tr>\n      <th>12</th>\n      <td>Kailas</td>\n      <td>Raut</td>\n      <td>NaN</td>\n      <td>7.00</td>\n    </tr>\n    <tr>\n      <th>38</th>\n      <td>Sudhir</td>\n      <td>Manohar</td>\n      <td>22.0</td>\n      <td>7.54</td>\n    </tr>\n    <tr>\n      <th>24</th>\n      <td>Gorakshanth</td>\n      <td>kandekar</td>\n      <td>22.0</td>\n      <td>8.89</td>\n    </tr>\n  </tbody>\n</table>\n</div>"
          },
          "metadata": {}
        }
      ]
    },
    {
      "cell_type": "code",
      "source": "df.loc[:,'name']",
      "metadata": {
        "trusted": true
      },
      "execution_count": 52,
      "outputs": [
        {
          "execution_count": 52,
          "output_type": "execute_result",
          "data": {
            "text/plain": "0       Shubham\n1        Pranav\n2       Pratik \n3        Ranvir\n4     Siddhesh \n5        Sairaj\n6        Rahul \n7        Akash \n8        harsh \n9         Omkar\n10      Prajwal\n11       tejas \n12      Vaibhav\n13      Gaurav \n14      sindura\n15      Hitesh \n16      Janhavi\n17         Raj \n18       Manish\n19      muskan \n20    Ashutosh \n21        VIVEK\n22    Sharvari \n23       Leena \n24      vedika \n25     Atharva \n26    himanshi \n27     Harshita\n28        Aditi\n29      Akshata\n30      Mahima \n31    Aishwarya\n32      Manali \n33      Ankita \n34         Yash\n35     Apeksha \n36     Saurabh \n37      Kshitij\n38     Sandesh \n39        Suyog\n40      Prerna \n41       sakshi\n42       Jyoti \n43      NILESH \n44       Pranav\n45          Raj\n46       Nikhil\n47    ‎ Shubham\n48    shraddha \n49       Priya \n50      Swapnil\nName: name, dtype: object"
          },
          "metadata": {}
        }
      ]
    },
    {
      "cell_type": "code",
      "source": "df.loc[:,['name','gender','sgpa']]",
      "metadata": {
        "trusted": true
      },
      "execution_count": 53,
      "outputs": [
        {
          "execution_count": 53,
          "output_type": "execute_result",
          "data": {
            "text/plain": "         name  gender   sgpa\n0     Shubham    Male   8.29\n1      Pranav    Male   7.80\n2     Pratik     Male   8.31\n3      Ranvir    Male   8.00\n4   Siddhesh     Male   8.40\n5      Sairaj    Male   8.71\n6      Rahul     Male   7.50\n7      Akash     Male   7.79\n8      harsh     Male   8.00\n9       Omkar    Male   9.81\n10    Prajwal    Male   7.90\n11     tejas     Male   7.85\n12    Vaibhav    Male   7.00\n13    Gaurav     Male   8.90\n14    sindura  Female   8.10\n15    Hitesh     Male   8.25\n16    Janhavi  Female   8.75\n17       Raj     Male   7.71\n18     Manish    Male   8.46\n19    muskan   Female   8.05\n20  Ashutosh     Male   7.54\n21      VIVEK    Male   7.60\n22  Sharvari   Female   7.82\n23     Leena   Female   7.89\n24    vedika   Female   8.89\n25   Atharva     Male   7.64\n26  himanshi   Female   8.80\n27   Harshita  Female   8.61\n28      Aditi  Female   8.00\n29    Akshata  Female  75.00\n30    Mahima   Female   7.68\n31  Aishwarya  Female   9.10\n32    Manali   Female   7.90\n33    Ankita   Female   7.00\n34       Yash    Male   7.21\n35   Apeksha   Female   8.00\n36   Saurabh     Male   7.50\n37    Kshitij    Male   7.60\n38   Sandesh     Male   7.54\n39      Suyog    Male   7.67\n40    Prerna   Female   7.40\n41     sakshi  Female  10.00\n42     Jyoti   Female   8.14\n43    NILESH     Male   7.56\n44     Pranav    Male   7.96\n45        Raj    Male   9.60\n46     Nikhil    Male   7.00\n47  ‎ Shubham    Male   9.15\n48  shraddha   Female   7.89\n49     Priya   Female   8.00\n50    Swapnil    Male   7.28",
            "text/html": "<div>\n<style scoped>\n    .dataframe tbody tr th:only-of-type {\n        vertical-align: middle;\n    }\n\n    .dataframe tbody tr th {\n        vertical-align: top;\n    }\n\n    .dataframe thead th {\n        text-align: right;\n    }\n</style>\n<table border=\"1\" class=\"dataframe\">\n  <thead>\n    <tr style=\"text-align: right;\">\n      <th></th>\n      <th>name</th>\n      <th>gender</th>\n      <th>sgpa</th>\n    </tr>\n  </thead>\n  <tbody>\n    <tr>\n      <th>0</th>\n      <td>Shubham</td>\n      <td>Male</td>\n      <td>8.29</td>\n    </tr>\n    <tr>\n      <th>1</th>\n      <td>Pranav</td>\n      <td>Male</td>\n      <td>7.80</td>\n    </tr>\n    <tr>\n      <th>2</th>\n      <td>Pratik</td>\n      <td>Male</td>\n      <td>8.31</td>\n    </tr>\n    <tr>\n      <th>3</th>\n      <td>Ranvir</td>\n      <td>Male</td>\n      <td>8.00</td>\n    </tr>\n    <tr>\n      <th>4</th>\n      <td>Siddhesh</td>\n      <td>Male</td>\n      <td>8.40</td>\n    </tr>\n    <tr>\n      <th>5</th>\n      <td>Sairaj</td>\n      <td>Male</td>\n      <td>8.71</td>\n    </tr>\n    <tr>\n      <th>6</th>\n      <td>Rahul</td>\n      <td>Male</td>\n      <td>7.50</td>\n    </tr>\n    <tr>\n      <th>7</th>\n      <td>Akash</td>\n      <td>Male</td>\n      <td>7.79</td>\n    </tr>\n    <tr>\n      <th>8</th>\n      <td>harsh</td>\n      <td>Male</td>\n      <td>8.00</td>\n    </tr>\n    <tr>\n      <th>9</th>\n      <td>Omkar</td>\n      <td>Male</td>\n      <td>9.81</td>\n    </tr>\n    <tr>\n      <th>10</th>\n      <td>Prajwal</td>\n      <td>Male</td>\n      <td>7.90</td>\n    </tr>\n    <tr>\n      <th>11</th>\n      <td>tejas</td>\n      <td>Male</td>\n      <td>7.85</td>\n    </tr>\n    <tr>\n      <th>12</th>\n      <td>Vaibhav</td>\n      <td>Male</td>\n      <td>7.00</td>\n    </tr>\n    <tr>\n      <th>13</th>\n      <td>Gaurav</td>\n      <td>Male</td>\n      <td>8.90</td>\n    </tr>\n    <tr>\n      <th>14</th>\n      <td>sindura</td>\n      <td>Female</td>\n      <td>8.10</td>\n    </tr>\n    <tr>\n      <th>15</th>\n      <td>Hitesh</td>\n      <td>Male</td>\n      <td>8.25</td>\n    </tr>\n    <tr>\n      <th>16</th>\n      <td>Janhavi</td>\n      <td>Female</td>\n      <td>8.75</td>\n    </tr>\n    <tr>\n      <th>17</th>\n      <td>Raj</td>\n      <td>Male</td>\n      <td>7.71</td>\n    </tr>\n    <tr>\n      <th>18</th>\n      <td>Manish</td>\n      <td>Male</td>\n      <td>8.46</td>\n    </tr>\n    <tr>\n      <th>19</th>\n      <td>muskan</td>\n      <td>Female</td>\n      <td>8.05</td>\n    </tr>\n    <tr>\n      <th>20</th>\n      <td>Ashutosh</td>\n      <td>Male</td>\n      <td>7.54</td>\n    </tr>\n    <tr>\n      <th>21</th>\n      <td>VIVEK</td>\n      <td>Male</td>\n      <td>7.60</td>\n    </tr>\n    <tr>\n      <th>22</th>\n      <td>Sharvari</td>\n      <td>Female</td>\n      <td>7.82</td>\n    </tr>\n    <tr>\n      <th>23</th>\n      <td>Leena</td>\n      <td>Female</td>\n      <td>7.89</td>\n    </tr>\n    <tr>\n      <th>24</th>\n      <td>vedika</td>\n      <td>Female</td>\n      <td>8.89</td>\n    </tr>\n    <tr>\n      <th>25</th>\n      <td>Atharva</td>\n      <td>Male</td>\n      <td>7.64</td>\n    </tr>\n    <tr>\n      <th>26</th>\n      <td>himanshi</td>\n      <td>Female</td>\n      <td>8.80</td>\n    </tr>\n    <tr>\n      <th>27</th>\n      <td>Harshita</td>\n      <td>Female</td>\n      <td>8.61</td>\n    </tr>\n    <tr>\n      <th>28</th>\n      <td>Aditi</td>\n      <td>Female</td>\n      <td>8.00</td>\n    </tr>\n    <tr>\n      <th>29</th>\n      <td>Akshata</td>\n      <td>Female</td>\n      <td>75.00</td>\n    </tr>\n    <tr>\n      <th>30</th>\n      <td>Mahima</td>\n      <td>Female</td>\n      <td>7.68</td>\n    </tr>\n    <tr>\n      <th>31</th>\n      <td>Aishwarya</td>\n      <td>Female</td>\n      <td>9.10</td>\n    </tr>\n    <tr>\n      <th>32</th>\n      <td>Manali</td>\n      <td>Female</td>\n      <td>7.90</td>\n    </tr>\n    <tr>\n      <th>33</th>\n      <td>Ankita</td>\n      <td>Female</td>\n      <td>7.00</td>\n    </tr>\n    <tr>\n      <th>34</th>\n      <td>Yash</td>\n      <td>Male</td>\n      <td>7.21</td>\n    </tr>\n    <tr>\n      <th>35</th>\n      <td>Apeksha</td>\n      <td>Female</td>\n      <td>8.00</td>\n    </tr>\n    <tr>\n      <th>36</th>\n      <td>Saurabh</td>\n      <td>Male</td>\n      <td>7.50</td>\n    </tr>\n    <tr>\n      <th>37</th>\n      <td>Kshitij</td>\n      <td>Male</td>\n      <td>7.60</td>\n    </tr>\n    <tr>\n      <th>38</th>\n      <td>Sandesh</td>\n      <td>Male</td>\n      <td>7.54</td>\n    </tr>\n    <tr>\n      <th>39</th>\n      <td>Suyog</td>\n      <td>Male</td>\n      <td>7.67</td>\n    </tr>\n    <tr>\n      <th>40</th>\n      <td>Prerna</td>\n      <td>Female</td>\n      <td>7.40</td>\n    </tr>\n    <tr>\n      <th>41</th>\n      <td>sakshi</td>\n      <td>Female</td>\n      <td>10.00</td>\n    </tr>\n    <tr>\n      <th>42</th>\n      <td>Jyoti</td>\n      <td>Female</td>\n      <td>8.14</td>\n    </tr>\n    <tr>\n      <th>43</th>\n      <td>NILESH</td>\n      <td>Male</td>\n      <td>7.56</td>\n    </tr>\n    <tr>\n      <th>44</th>\n      <td>Pranav</td>\n      <td>Male</td>\n      <td>7.96</td>\n    </tr>\n    <tr>\n      <th>45</th>\n      <td>Raj</td>\n      <td>Male</td>\n      <td>9.60</td>\n    </tr>\n    <tr>\n      <th>46</th>\n      <td>Nikhil</td>\n      <td>Male</td>\n      <td>7.00</td>\n    </tr>\n    <tr>\n      <th>47</th>\n      <td>‎ Shubham</td>\n      <td>Male</td>\n      <td>9.15</td>\n    </tr>\n    <tr>\n      <th>48</th>\n      <td>shraddha</td>\n      <td>Female</td>\n      <td>7.89</td>\n    </tr>\n    <tr>\n      <th>49</th>\n      <td>Priya</td>\n      <td>Female</td>\n      <td>8.00</td>\n    </tr>\n    <tr>\n      <th>50</th>\n      <td>Swapnil</td>\n      <td>Male</td>\n      <td>7.28</td>\n    </tr>\n  </tbody>\n</table>\n</div>"
          },
          "metadata": {}
        }
      ]
    },
    {
      "cell_type": "code",
      "source": "df['name']",
      "metadata": {
        "trusted": true
      },
      "execution_count": 54,
      "outputs": [
        {
          "execution_count": 54,
          "output_type": "execute_result",
          "data": {
            "text/plain": "0       Shubham\n1        Pranav\n2       Pratik \n3        Ranvir\n4     Siddhesh \n5        Sairaj\n6        Rahul \n7        Akash \n8        harsh \n9         Omkar\n10      Prajwal\n11       tejas \n12      Vaibhav\n13      Gaurav \n14      sindura\n15      Hitesh \n16      Janhavi\n17         Raj \n18       Manish\n19      muskan \n20    Ashutosh \n21        VIVEK\n22    Sharvari \n23       Leena \n24      vedika \n25     Atharva \n26    himanshi \n27     Harshita\n28        Aditi\n29      Akshata\n30      Mahima \n31    Aishwarya\n32      Manali \n33      Ankita \n34         Yash\n35     Apeksha \n36     Saurabh \n37      Kshitij\n38     Sandesh \n39        Suyog\n40      Prerna \n41       sakshi\n42       Jyoti \n43      NILESH \n44       Pranav\n45          Raj\n46       Nikhil\n47    ‎ Shubham\n48    shraddha \n49       Priya \n50      Swapnil\nName: name, dtype: object"
          },
          "metadata": {}
        }
      ]
    },
    {
      "cell_type": "code",
      "source": "df[['name','gender','age']]",
      "metadata": {
        "trusted": true
      },
      "execution_count": 55,
      "outputs": [
        {
          "execution_count": 55,
          "output_type": "execute_result",
          "data": {
            "text/plain": "         name  gender   age\n0     Shubham    Male  23.0\n1      Pranav    Male  25.0\n2     Pratik     Male   NaN\n3      Ranvir    Male   NaN\n4   Siddhesh     Male  21.0\n5      Sairaj    Male  20.0\n6      Rahul     Male  23.0\n7      Akash     Male   NaN\n8      harsh     Male  22.0\n9       Omkar    Male  22.0\n10    Prajwal    Male  21.0\n11     tejas     Male   NaN\n12    Vaibhav    Male   NaN\n13    Gaurav     Male  22.0\n14    sindura  Female  23.0\n15    Hitesh     Male  22.0\n16    Janhavi  Female   NaN\n17       Raj     Male  23.0\n18     Manish    Male  22.0\n19    muskan   Female  21.0\n20  Ashutosh     Male  23.0\n21      VIVEK    Male  21.0\n22  Sharvari   Female  22.0\n23     Leena   Female  22.0\n24    vedika   Female  22.0\n25   Atharva     Male  23.0\n26  himanshi   Female  22.0\n27   Harshita  Female  21.0\n28      Aditi  Female  21.0\n29    Akshata  Female   NaN\n30    Mahima   Female  22.0\n31  Aishwarya  Female  22.0\n32    Manali   Female  21.0\n33    Ankita   Female   NaN\n34       Yash    Male  21.0\n35   Apeksha   Female  21.0\n36   Saurabh     Male   NaN\n37    Kshitij    Male   NaN\n38   Sandesh     Male  22.0\n39      Suyog    Male  22.0\n40    Prerna   Female  21.0\n41     sakshi  Female  22.0\n42     Jyoti   Female   NaN\n43    NILESH     Male  22.0\n44     Pranav    Male  21.0\n45        Raj    Male  22.0\n46     Nikhil    Male   NaN\n47  ‎ Shubham    Male  21.0\n48  shraddha   Female  22.0\n49     Priya   Female  22.0\n50    Swapnil    Male  22.0",
            "text/html": "<div>\n<style scoped>\n    .dataframe tbody tr th:only-of-type {\n        vertical-align: middle;\n    }\n\n    .dataframe tbody tr th {\n        vertical-align: top;\n    }\n\n    .dataframe thead th {\n        text-align: right;\n    }\n</style>\n<table border=\"1\" class=\"dataframe\">\n  <thead>\n    <tr style=\"text-align: right;\">\n      <th></th>\n      <th>name</th>\n      <th>gender</th>\n      <th>age</th>\n    </tr>\n  </thead>\n  <tbody>\n    <tr>\n      <th>0</th>\n      <td>Shubham</td>\n      <td>Male</td>\n      <td>23.0</td>\n    </tr>\n    <tr>\n      <th>1</th>\n      <td>Pranav</td>\n      <td>Male</td>\n      <td>25.0</td>\n    </tr>\n    <tr>\n      <th>2</th>\n      <td>Pratik</td>\n      <td>Male</td>\n      <td>NaN</td>\n    </tr>\n    <tr>\n      <th>3</th>\n      <td>Ranvir</td>\n      <td>Male</td>\n      <td>NaN</td>\n    </tr>\n    <tr>\n      <th>4</th>\n      <td>Siddhesh</td>\n      <td>Male</td>\n      <td>21.0</td>\n    </tr>\n    <tr>\n      <th>5</th>\n      <td>Sairaj</td>\n      <td>Male</td>\n      <td>20.0</td>\n    </tr>\n    <tr>\n      <th>6</th>\n      <td>Rahul</td>\n      <td>Male</td>\n      <td>23.0</td>\n    </tr>\n    <tr>\n      <th>7</th>\n      <td>Akash</td>\n      <td>Male</td>\n      <td>NaN</td>\n    </tr>\n    <tr>\n      <th>8</th>\n      <td>harsh</td>\n      <td>Male</td>\n      <td>22.0</td>\n    </tr>\n    <tr>\n      <th>9</th>\n      <td>Omkar</td>\n      <td>Male</td>\n      <td>22.0</td>\n    </tr>\n    <tr>\n      <th>10</th>\n      <td>Prajwal</td>\n      <td>Male</td>\n      <td>21.0</td>\n    </tr>\n    <tr>\n      <th>11</th>\n      <td>tejas</td>\n      <td>Male</td>\n      <td>NaN</td>\n    </tr>\n    <tr>\n      <th>12</th>\n      <td>Vaibhav</td>\n      <td>Male</td>\n      <td>NaN</td>\n    </tr>\n    <tr>\n      <th>13</th>\n      <td>Gaurav</td>\n      <td>Male</td>\n      <td>22.0</td>\n    </tr>\n    <tr>\n      <th>14</th>\n      <td>sindura</td>\n      <td>Female</td>\n      <td>23.0</td>\n    </tr>\n    <tr>\n      <th>15</th>\n      <td>Hitesh</td>\n      <td>Male</td>\n      <td>22.0</td>\n    </tr>\n    <tr>\n      <th>16</th>\n      <td>Janhavi</td>\n      <td>Female</td>\n      <td>NaN</td>\n    </tr>\n    <tr>\n      <th>17</th>\n      <td>Raj</td>\n      <td>Male</td>\n      <td>23.0</td>\n    </tr>\n    <tr>\n      <th>18</th>\n      <td>Manish</td>\n      <td>Male</td>\n      <td>22.0</td>\n    </tr>\n    <tr>\n      <th>19</th>\n      <td>muskan</td>\n      <td>Female</td>\n      <td>21.0</td>\n    </tr>\n    <tr>\n      <th>20</th>\n      <td>Ashutosh</td>\n      <td>Male</td>\n      <td>23.0</td>\n    </tr>\n    <tr>\n      <th>21</th>\n      <td>VIVEK</td>\n      <td>Male</td>\n      <td>21.0</td>\n    </tr>\n    <tr>\n      <th>22</th>\n      <td>Sharvari</td>\n      <td>Female</td>\n      <td>22.0</td>\n    </tr>\n    <tr>\n      <th>23</th>\n      <td>Leena</td>\n      <td>Female</td>\n      <td>22.0</td>\n    </tr>\n    <tr>\n      <th>24</th>\n      <td>vedika</td>\n      <td>Female</td>\n      <td>22.0</td>\n    </tr>\n    <tr>\n      <th>25</th>\n      <td>Atharva</td>\n      <td>Male</td>\n      <td>23.0</td>\n    </tr>\n    <tr>\n      <th>26</th>\n      <td>himanshi</td>\n      <td>Female</td>\n      <td>22.0</td>\n    </tr>\n    <tr>\n      <th>27</th>\n      <td>Harshita</td>\n      <td>Female</td>\n      <td>21.0</td>\n    </tr>\n    <tr>\n      <th>28</th>\n      <td>Aditi</td>\n      <td>Female</td>\n      <td>21.0</td>\n    </tr>\n    <tr>\n      <th>29</th>\n      <td>Akshata</td>\n      <td>Female</td>\n      <td>NaN</td>\n    </tr>\n    <tr>\n      <th>30</th>\n      <td>Mahima</td>\n      <td>Female</td>\n      <td>22.0</td>\n    </tr>\n    <tr>\n      <th>31</th>\n      <td>Aishwarya</td>\n      <td>Female</td>\n      <td>22.0</td>\n    </tr>\n    <tr>\n      <th>32</th>\n      <td>Manali</td>\n      <td>Female</td>\n      <td>21.0</td>\n    </tr>\n    <tr>\n      <th>33</th>\n      <td>Ankita</td>\n      <td>Female</td>\n      <td>NaN</td>\n    </tr>\n    <tr>\n      <th>34</th>\n      <td>Yash</td>\n      <td>Male</td>\n      <td>21.0</td>\n    </tr>\n    <tr>\n      <th>35</th>\n      <td>Apeksha</td>\n      <td>Female</td>\n      <td>21.0</td>\n    </tr>\n    <tr>\n      <th>36</th>\n      <td>Saurabh</td>\n      <td>Male</td>\n      <td>NaN</td>\n    </tr>\n    <tr>\n      <th>37</th>\n      <td>Kshitij</td>\n      <td>Male</td>\n      <td>NaN</td>\n    </tr>\n    <tr>\n      <th>38</th>\n      <td>Sandesh</td>\n      <td>Male</td>\n      <td>22.0</td>\n    </tr>\n    <tr>\n      <th>39</th>\n      <td>Suyog</td>\n      <td>Male</td>\n      <td>22.0</td>\n    </tr>\n    <tr>\n      <th>40</th>\n      <td>Prerna</td>\n      <td>Female</td>\n      <td>21.0</td>\n    </tr>\n    <tr>\n      <th>41</th>\n      <td>sakshi</td>\n      <td>Female</td>\n      <td>22.0</td>\n    </tr>\n    <tr>\n      <th>42</th>\n      <td>Jyoti</td>\n      <td>Female</td>\n      <td>NaN</td>\n    </tr>\n    <tr>\n      <th>43</th>\n      <td>NILESH</td>\n      <td>Male</td>\n      <td>22.0</td>\n    </tr>\n    <tr>\n      <th>44</th>\n      <td>Pranav</td>\n      <td>Male</td>\n      <td>21.0</td>\n    </tr>\n    <tr>\n      <th>45</th>\n      <td>Raj</td>\n      <td>Male</td>\n      <td>22.0</td>\n    </tr>\n    <tr>\n      <th>46</th>\n      <td>Nikhil</td>\n      <td>Male</td>\n      <td>NaN</td>\n    </tr>\n    <tr>\n      <th>47</th>\n      <td>‎ Shubham</td>\n      <td>Male</td>\n      <td>21.0</td>\n    </tr>\n    <tr>\n      <th>48</th>\n      <td>shraddha</td>\n      <td>Female</td>\n      <td>22.0</td>\n    </tr>\n    <tr>\n      <th>49</th>\n      <td>Priya</td>\n      <td>Female</td>\n      <td>22.0</td>\n    </tr>\n    <tr>\n      <th>50</th>\n      <td>Swapnil</td>\n      <td>Male</td>\n      <td>22.0</td>\n    </tr>\n  </tbody>\n</table>\n</div>"
          },
          "metadata": {}
        }
      ]
    },
    {
      "cell_type": "code",
      "source": "df.name",
      "metadata": {
        "trusted": true
      },
      "execution_count": 56,
      "outputs": [
        {
          "execution_count": 56,
          "output_type": "execute_result",
          "data": {
            "text/plain": "0       Shubham\n1        Pranav\n2       Pratik \n3        Ranvir\n4     Siddhesh \n5        Sairaj\n6        Rahul \n7        Akash \n8        harsh \n9         Omkar\n10      Prajwal\n11       tejas \n12      Vaibhav\n13      Gaurav \n14      sindura\n15      Hitesh \n16      Janhavi\n17         Raj \n18       Manish\n19      muskan \n20    Ashutosh \n21        VIVEK\n22    Sharvari \n23       Leena \n24      vedika \n25     Atharva \n26    himanshi \n27     Harshita\n28        Aditi\n29      Akshata\n30      Mahima \n31    Aishwarya\n32      Manali \n33      Ankita \n34         Yash\n35     Apeksha \n36     Saurabh \n37      Kshitij\n38     Sandesh \n39        Suyog\n40      Prerna \n41       sakshi\n42       Jyoti \n43      NILESH \n44       Pranav\n45          Raj\n46       Nikhil\n47    ‎ Shubham\n48    shraddha \n49       Priya \n50      Swapnil\nName: name, dtype: object"
          },
          "metadata": {}
        }
      ]
    },
    {
      "cell_type": "code",
      "source": "df.drop(4)",
      "metadata": {
        "trusted": true
      },
      "execution_count": 58,
      "outputs": [
        {
          "execution_count": 58,
          "output_type": "execute_result",
          "data": {
            "text/plain": "              टाइमस्टँप  roll_num       name    middlename     surname   age  \\\n0   30/05/2023 14:26:35   2201184    Shubham        Kumar        Sinha  23.0   \n1   30/05/2023 14:26:56   2201129     Pranav      Prashant      Modale  25.0   \n2   30/05/2023 14:27:27   2201125    Pratik        Sharad     Masalkar   NaN   \n3   30/05/2023 14:27:43   2201154     Ranvir       Gajanan       Pawar   NaN   \n5   30/05/2023 14:28:03   2201115     Sairaj       Shirish    Lumpatki  20.0   \n6   30/05/2023 14:28:03   2201110     Rahul          Kumar       Kumar  23.0   \n7   30/05/2023 14:28:06   2201124     Akash      Sambhaji      Markile   NaN   \n8   30/05/2023 14:28:07   2201145     harsh        subhash     patidar  22.0   \n9   30/05/2023 14:28:08   2201105      Omkar        Milind    Kulkarni  22.0   \n10  30/05/2023 14:28:10   2201171    Prajwal        Pramod     Shendge  21.0   \n11  30/05/2023 14:28:10   2201121     tejas    Uttareshwar        mane   NaN   \n12  30/05/2023 14:28:11   2201159    Vaibhav        Kailas        Raut   NaN   \n13  30/05/2023 14:28:13   2201173    Gaurav          Mohan      Shimpi  22.0   \n14  30/05/2023 14:28:15   2201182    sindura         singh     rathore  23.0   \n15  30/05/2023 14:28:15   2201130    Hitesh    Dnyaneshwar   Mohadikar  22.0   \n16  30/05/2023 14:28:16   2201163    Janhavi          Ajit  Sangaonkar   NaN   \n17  30/05/2023 14:28:20   2201195       Raj                      Verma  23.0   \n18  30/05/2023 14:28:25   2201187     Manish       Maruti         Teke  22.0   \n19  30/05/2023 14:28:26   1951022    muskan        shabbir      shipai  21.0   \n20  30/05/2023 14:28:28   2201164  Ashutosh       Ghansham      Saoji   23.0   \n21  30/05/2023 14:28:29   2201133      VIVEK      YESHAVNT        MORE  21.0   \n22  30/05/2023 14:28:32   2201175  Sharvari          Sunil      Shinde  22.0   \n23  30/05/2023 14:28:38   2201190     Leena         Sanjay      Thorat  22.0   \n24  30/05/2023 14:28:41   2201085    vedika   Gorakshanth     kandekar  22.0   \n25  30/05/2023 14:28:47   2201144   Atharva         Jayant    Paradkar  23.0   \n26  30/05/2023 14:28:48   2201196  himanshi                       vyas  22.0   \n27  30/05/2023 14:28:58    220126   Harshita                    Maurya  21.0   \n28  30/05/2023 14:28:59   2201146      Aditi     Pandurang       Patil  21.0   \n29  30/05/2023 14:29:04   2201188    Akshata         vijay      thakre   NaN   \n30  30/05/2023 14:29:03   2201141    Mahima         Lallan         Pal  22.0   \n31  30/05/2023 14:29:06   2201113  Aishwarya        Prasad    Lokhande  22.0   \n32  30/05/2023 14:29:12   2201155    Manali         Prayag      Petare  21.0   \n33  30/05/2023 14:29:16   2201116    Ankita         Tanaji      Madane   NaN   \n34  30/05/2023 14:29:17   2201152       Yash      Rajgonda       Patil  21.0   \n35  30/05/2023 14:29:26   2201139   Apeksha              D       Nimje  21.0   \n36  30/05/2023 14:29:34   2201206   Saurabh         Sanjay        Zute   NaN   \n37  30/05/2023 14:29:43   2201200    Kshitij        Kishor        Wani   NaN   \n38  30/05/2023 14:29:46   2201123   Sandesh        Sudhir      Manohar  22.0   \n39  30/05/2023 14:29:59   2201158      Suyog       Bapurao        Raut  22.0   \n40  30/05/2023 14:30:07   2201104    Prerna          Nitin      Kukade  21.0   \n41  30/05/2023 14:30:15    220143     sakshi       santosh     patidar  22.0   \n42  30/05/2023 14:30:17   2201205     Jyoti              .       Yadav   NaN   \n43  30/05/2023 14:30:20   2201117    NILESH        PRAKASH     MAHAJAN  22.0   \n44  30/05/2023 14:30:26   2201166     Pranav        Pravin     Sarkale  21.0   \n45  30/05/2023 14:30:32   2201167        Raj      Rajendra       kumar  22.0   \n46  30/05/2023 14:30:39   2201157     Nikhil         Ashok       Rande   NaN   \n47  30/05/2023 14:31:04   2201118  ‎ Shubham      ‎ Sanjay      ‎ Mali  21.0   \n48  30/05/2023 14:31:14   2201194  shraddha     jaiprakash       varma  22.0   \n49  30/05/2023 14:31:18   2201106     Priya         Pradip    Kulkarni  22.0   \n50  30/05/2023 14:31:47   2201107    Swapnil         Suhas    Kulkarni  22.0   \n\n     sgpa  gender      favorite_sport  native_city  year_of_passing_10th  \n0    8.29    Male  Cricket , Football        Patna                  2014  \n1    7.80    Male             Cricket         Pune                  2014  \n2    8.31    Male           Badminton         Pune                  2017  \n3    8.00    Male               chess      buldana                  2014  \n5    8.71    Male          volleyball   Ahmednagar                  2017  \n6    7.50    Male           Badminton       Ranchi                  2015  \n7    7.79    Male             Cricket        Latur                  2016  \n8    8.00    Male          volleyball       indore                  2016  \n9    9.81    Male    Sachin Tendulkar         Pune                  2018  \n10   7.90    Male             Cricket        Miraj                  2018  \n11   7.85    Male             Cricket     Baramati                  2016  \n12   7.00    Male        Table tennis         Beed                  2016  \n13   8.90    Male             cricket      Shahada                  2017  \n14   8.10  Female             cricket  muzzafarpur                  2017  \n15   8.25    Male             Cricket       Nagpur                  2017  \n16   8.75  Female           Badminton     Kolhapur                  2017  \n17   7.71    Male             Cricket   Jamshedpur                  2017  \n18   8.46    Male             Cricket         Pune                  2016  \n19   8.05  Female             cricket         pune                  2017  \n20   7.54    Male             Cricket        Akola                  2017  \n21   7.60    Male        Table Tennis     Kolhapur                  2017  \n22   7.82  Female             cricket        karad                  2016  \n23   7.89  Female           Badminton       Shirdi                  2017  \n24   8.89  Female                   -   Ahmednagar                  2017  \n25   7.64    Male            Football         Pune                  2016  \n26   8.80  Female             cricket       indore                  2017  \n27   8.61  Female           Vollyball         Pune                  2017  \n28   8.00  Female            Football   Ahmednagar                  2017  \n29  75.00  Female             cricket         pune                  2017  \n30   7.68  Female           badminton        patna                  2015  \n31   9.10  Female           badminton         pune                  2017  \n32   7.90  Female            Football       Sangli                  2017  \n33   7.00  Female             Cricket        karad                  2017  \n34   7.21    Male             Cricket     Kolhapur                  2017  \n35   8.00  Female          Basketball       Nagpur                  2017  \n36   7.50    Male             Cricket     Parbhani                  2016  \n37   7.60    Male             Cricket       Nagpur                  2015  \n38   7.54    Male            Football       Mumbai                  2016  \n39   7.67    Male             cricket         pune                  2017  \n40   7.40  Female           Badminton         Pune                  2017  \n41  10.00  Female             cricket         durg                  2015  \n42   8.14  Female             Cricket        Alwar                  2012  \n43   7.56    Male           BADMINTON      WADGAON                  2017  \n44   7.96    Male              Carrom         Pune                  2017  \n45   9.60    Male             cricket         pune                  2016  \n46   7.00    Male             Kabaddi         Akot                  2016  \n47   9.15    Male           ‎ Cricket       ‎ Pune                  2017  \n48   7.89  Female           badminton         wani                  2017  \n49   8.00  Female           Badminton         Pune                  2017  \n50   7.28    Male             Cricket         Pune                  2016  ",
            "text/html": "<div>\n<style scoped>\n    .dataframe tbody tr th:only-of-type {\n        vertical-align: middle;\n    }\n\n    .dataframe tbody tr th {\n        vertical-align: top;\n    }\n\n    .dataframe thead th {\n        text-align: right;\n    }\n</style>\n<table border=\"1\" class=\"dataframe\">\n  <thead>\n    <tr style=\"text-align: right;\">\n      <th></th>\n      <th>टाइमस्टँप</th>\n      <th>roll_num</th>\n      <th>name</th>\n      <th>middlename</th>\n      <th>surname</th>\n      <th>age</th>\n      <th>sgpa</th>\n      <th>gender</th>\n      <th>favorite_sport</th>\n      <th>native_city</th>\n      <th>year_of_passing_10th</th>\n    </tr>\n  </thead>\n  <tbody>\n    <tr>\n      <th>0</th>\n      <td>30/05/2023 14:26:35</td>\n      <td>2201184</td>\n      <td>Shubham</td>\n      <td>Kumar</td>\n      <td>Sinha</td>\n      <td>23.0</td>\n      <td>8.29</td>\n      <td>Male</td>\n      <td>Cricket , Football</td>\n      <td>Patna</td>\n      <td>2014</td>\n    </tr>\n    <tr>\n      <th>1</th>\n      <td>30/05/2023 14:26:56</td>\n      <td>2201129</td>\n      <td>Pranav</td>\n      <td>Prashant</td>\n      <td>Modale</td>\n      <td>25.0</td>\n      <td>7.80</td>\n      <td>Male</td>\n      <td>Cricket</td>\n      <td>Pune</td>\n      <td>2014</td>\n    </tr>\n    <tr>\n      <th>2</th>\n      <td>30/05/2023 14:27:27</td>\n      <td>2201125</td>\n      <td>Pratik</td>\n      <td>Sharad</td>\n      <td>Masalkar</td>\n      <td>NaN</td>\n      <td>8.31</td>\n      <td>Male</td>\n      <td>Badminton</td>\n      <td>Pune</td>\n      <td>2017</td>\n    </tr>\n    <tr>\n      <th>3</th>\n      <td>30/05/2023 14:27:43</td>\n      <td>2201154</td>\n      <td>Ranvir</td>\n      <td>Gajanan</td>\n      <td>Pawar</td>\n      <td>NaN</td>\n      <td>8.00</td>\n      <td>Male</td>\n      <td>chess</td>\n      <td>buldana</td>\n      <td>2014</td>\n    </tr>\n    <tr>\n      <th>5</th>\n      <td>30/05/2023 14:28:03</td>\n      <td>2201115</td>\n      <td>Sairaj</td>\n      <td>Shirish</td>\n      <td>Lumpatki</td>\n      <td>20.0</td>\n      <td>8.71</td>\n      <td>Male</td>\n      <td>volleyball</td>\n      <td>Ahmednagar</td>\n      <td>2017</td>\n    </tr>\n    <tr>\n      <th>6</th>\n      <td>30/05/2023 14:28:03</td>\n      <td>2201110</td>\n      <td>Rahul</td>\n      <td>Kumar</td>\n      <td>Kumar</td>\n      <td>23.0</td>\n      <td>7.50</td>\n      <td>Male</td>\n      <td>Badminton</td>\n      <td>Ranchi</td>\n      <td>2015</td>\n    </tr>\n    <tr>\n      <th>7</th>\n      <td>30/05/2023 14:28:06</td>\n      <td>2201124</td>\n      <td>Akash</td>\n      <td>Sambhaji</td>\n      <td>Markile</td>\n      <td>NaN</td>\n      <td>7.79</td>\n      <td>Male</td>\n      <td>Cricket</td>\n      <td>Latur</td>\n      <td>2016</td>\n    </tr>\n    <tr>\n      <th>8</th>\n      <td>30/05/2023 14:28:07</td>\n      <td>2201145</td>\n      <td>harsh</td>\n      <td>subhash</td>\n      <td>patidar</td>\n      <td>22.0</td>\n      <td>8.00</td>\n      <td>Male</td>\n      <td>volleyball</td>\n      <td>indore</td>\n      <td>2016</td>\n    </tr>\n    <tr>\n      <th>9</th>\n      <td>30/05/2023 14:28:08</td>\n      <td>2201105</td>\n      <td>Omkar</td>\n      <td>Milind</td>\n      <td>Kulkarni</td>\n      <td>22.0</td>\n      <td>9.81</td>\n      <td>Male</td>\n      <td>Sachin Tendulkar</td>\n      <td>Pune</td>\n      <td>2018</td>\n    </tr>\n    <tr>\n      <th>10</th>\n      <td>30/05/2023 14:28:10</td>\n      <td>2201171</td>\n      <td>Prajwal</td>\n      <td>Pramod</td>\n      <td>Shendge</td>\n      <td>21.0</td>\n      <td>7.90</td>\n      <td>Male</td>\n      <td>Cricket</td>\n      <td>Miraj</td>\n      <td>2018</td>\n    </tr>\n    <tr>\n      <th>11</th>\n      <td>30/05/2023 14:28:10</td>\n      <td>2201121</td>\n      <td>tejas</td>\n      <td>Uttareshwar</td>\n      <td>mane</td>\n      <td>NaN</td>\n      <td>7.85</td>\n      <td>Male</td>\n      <td>Cricket</td>\n      <td>Baramati</td>\n      <td>2016</td>\n    </tr>\n    <tr>\n      <th>12</th>\n      <td>30/05/2023 14:28:11</td>\n      <td>2201159</td>\n      <td>Vaibhav</td>\n      <td>Kailas</td>\n      <td>Raut</td>\n      <td>NaN</td>\n      <td>7.00</td>\n      <td>Male</td>\n      <td>Table tennis</td>\n      <td>Beed</td>\n      <td>2016</td>\n    </tr>\n    <tr>\n      <th>13</th>\n      <td>30/05/2023 14:28:13</td>\n      <td>2201173</td>\n      <td>Gaurav</td>\n      <td>Mohan</td>\n      <td>Shimpi</td>\n      <td>22.0</td>\n      <td>8.90</td>\n      <td>Male</td>\n      <td>cricket</td>\n      <td>Shahada</td>\n      <td>2017</td>\n    </tr>\n    <tr>\n      <th>14</th>\n      <td>30/05/2023 14:28:15</td>\n      <td>2201182</td>\n      <td>sindura</td>\n      <td>singh</td>\n      <td>rathore</td>\n      <td>23.0</td>\n      <td>8.10</td>\n      <td>Female</td>\n      <td>cricket</td>\n      <td>muzzafarpur</td>\n      <td>2017</td>\n    </tr>\n    <tr>\n      <th>15</th>\n      <td>30/05/2023 14:28:15</td>\n      <td>2201130</td>\n      <td>Hitesh</td>\n      <td>Dnyaneshwar</td>\n      <td>Mohadikar</td>\n      <td>22.0</td>\n      <td>8.25</td>\n      <td>Male</td>\n      <td>Cricket</td>\n      <td>Nagpur</td>\n      <td>2017</td>\n    </tr>\n    <tr>\n      <th>16</th>\n      <td>30/05/2023 14:28:16</td>\n      <td>2201163</td>\n      <td>Janhavi</td>\n      <td>Ajit</td>\n      <td>Sangaonkar</td>\n      <td>NaN</td>\n      <td>8.75</td>\n      <td>Female</td>\n      <td>Badminton</td>\n      <td>Kolhapur</td>\n      <td>2017</td>\n    </tr>\n    <tr>\n      <th>17</th>\n      <td>30/05/2023 14:28:20</td>\n      <td>2201195</td>\n      <td>Raj</td>\n      <td></td>\n      <td>Verma</td>\n      <td>23.0</td>\n      <td>7.71</td>\n      <td>Male</td>\n      <td>Cricket</td>\n      <td>Jamshedpur</td>\n      <td>2017</td>\n    </tr>\n    <tr>\n      <th>18</th>\n      <td>30/05/2023 14:28:25</td>\n      <td>2201187</td>\n      <td>Manish</td>\n      <td>Maruti</td>\n      <td>Teke</td>\n      <td>22.0</td>\n      <td>8.46</td>\n      <td>Male</td>\n      <td>Cricket</td>\n      <td>Pune</td>\n      <td>2016</td>\n    </tr>\n    <tr>\n      <th>19</th>\n      <td>30/05/2023 14:28:26</td>\n      <td>1951022</td>\n      <td>muskan</td>\n      <td>shabbir</td>\n      <td>shipai</td>\n      <td>21.0</td>\n      <td>8.05</td>\n      <td>Female</td>\n      <td>cricket</td>\n      <td>pune</td>\n      <td>2017</td>\n    </tr>\n    <tr>\n      <th>20</th>\n      <td>30/05/2023 14:28:28</td>\n      <td>2201164</td>\n      <td>Ashutosh</td>\n      <td>Ghansham</td>\n      <td>Saoji</td>\n      <td>23.0</td>\n      <td>7.54</td>\n      <td>Male</td>\n      <td>Cricket</td>\n      <td>Akola</td>\n      <td>2017</td>\n    </tr>\n    <tr>\n      <th>21</th>\n      <td>30/05/2023 14:28:29</td>\n      <td>2201133</td>\n      <td>VIVEK</td>\n      <td>YESHAVNT</td>\n      <td>MORE</td>\n      <td>21.0</td>\n      <td>7.60</td>\n      <td>Male</td>\n      <td>Table Tennis</td>\n      <td>Kolhapur</td>\n      <td>2017</td>\n    </tr>\n    <tr>\n      <th>22</th>\n      <td>30/05/2023 14:28:32</td>\n      <td>2201175</td>\n      <td>Sharvari</td>\n      <td>Sunil</td>\n      <td>Shinde</td>\n      <td>22.0</td>\n      <td>7.82</td>\n      <td>Female</td>\n      <td>cricket</td>\n      <td>karad</td>\n      <td>2016</td>\n    </tr>\n    <tr>\n      <th>23</th>\n      <td>30/05/2023 14:28:38</td>\n      <td>2201190</td>\n      <td>Leena</td>\n      <td>Sanjay</td>\n      <td>Thorat</td>\n      <td>22.0</td>\n      <td>7.89</td>\n      <td>Female</td>\n      <td>Badminton</td>\n      <td>Shirdi</td>\n      <td>2017</td>\n    </tr>\n    <tr>\n      <th>24</th>\n      <td>30/05/2023 14:28:41</td>\n      <td>2201085</td>\n      <td>vedika</td>\n      <td>Gorakshanth</td>\n      <td>kandekar</td>\n      <td>22.0</td>\n      <td>8.89</td>\n      <td>Female</td>\n      <td>-</td>\n      <td>Ahmednagar</td>\n      <td>2017</td>\n    </tr>\n    <tr>\n      <th>25</th>\n      <td>30/05/2023 14:28:47</td>\n      <td>2201144</td>\n      <td>Atharva</td>\n      <td>Jayant</td>\n      <td>Paradkar</td>\n      <td>23.0</td>\n      <td>7.64</td>\n      <td>Male</td>\n      <td>Football</td>\n      <td>Pune</td>\n      <td>2016</td>\n    </tr>\n    <tr>\n      <th>26</th>\n      <td>30/05/2023 14:28:48</td>\n      <td>2201196</td>\n      <td>himanshi</td>\n      <td></td>\n      <td>vyas</td>\n      <td>22.0</td>\n      <td>8.80</td>\n      <td>Female</td>\n      <td>cricket</td>\n      <td>indore</td>\n      <td>2017</td>\n    </tr>\n    <tr>\n      <th>27</th>\n      <td>30/05/2023 14:28:58</td>\n      <td>220126</td>\n      <td>Harshita</td>\n      <td></td>\n      <td>Maurya</td>\n      <td>21.0</td>\n      <td>8.61</td>\n      <td>Female</td>\n      <td>Vollyball</td>\n      <td>Pune</td>\n      <td>2017</td>\n    </tr>\n    <tr>\n      <th>28</th>\n      <td>30/05/2023 14:28:59</td>\n      <td>2201146</td>\n      <td>Aditi</td>\n      <td>Pandurang</td>\n      <td>Patil</td>\n      <td>21.0</td>\n      <td>8.00</td>\n      <td>Female</td>\n      <td>Football</td>\n      <td>Ahmednagar</td>\n      <td>2017</td>\n    </tr>\n    <tr>\n      <th>29</th>\n      <td>30/05/2023 14:29:04</td>\n      <td>2201188</td>\n      <td>Akshata</td>\n      <td>vijay</td>\n      <td>thakre</td>\n      <td>NaN</td>\n      <td>75.00</td>\n      <td>Female</td>\n      <td>cricket</td>\n      <td>pune</td>\n      <td>2017</td>\n    </tr>\n    <tr>\n      <th>30</th>\n      <td>30/05/2023 14:29:03</td>\n      <td>2201141</td>\n      <td>Mahima</td>\n      <td>Lallan</td>\n      <td>Pal</td>\n      <td>22.0</td>\n      <td>7.68</td>\n      <td>Female</td>\n      <td>badminton</td>\n      <td>patna</td>\n      <td>2015</td>\n    </tr>\n    <tr>\n      <th>31</th>\n      <td>30/05/2023 14:29:06</td>\n      <td>2201113</td>\n      <td>Aishwarya</td>\n      <td>Prasad</td>\n      <td>Lokhande</td>\n      <td>22.0</td>\n      <td>9.10</td>\n      <td>Female</td>\n      <td>badminton</td>\n      <td>pune</td>\n      <td>2017</td>\n    </tr>\n    <tr>\n      <th>32</th>\n      <td>30/05/2023 14:29:12</td>\n      <td>2201155</td>\n      <td>Manali</td>\n      <td>Prayag</td>\n      <td>Petare</td>\n      <td>21.0</td>\n      <td>7.90</td>\n      <td>Female</td>\n      <td>Football</td>\n      <td>Sangli</td>\n      <td>2017</td>\n    </tr>\n    <tr>\n      <th>33</th>\n      <td>30/05/2023 14:29:16</td>\n      <td>2201116</td>\n      <td>Ankita</td>\n      <td>Tanaji</td>\n      <td>Madane</td>\n      <td>NaN</td>\n      <td>7.00</td>\n      <td>Female</td>\n      <td>Cricket</td>\n      <td>karad</td>\n      <td>2017</td>\n    </tr>\n    <tr>\n      <th>34</th>\n      <td>30/05/2023 14:29:17</td>\n      <td>2201152</td>\n      <td>Yash</td>\n      <td>Rajgonda</td>\n      <td>Patil</td>\n      <td>21.0</td>\n      <td>7.21</td>\n      <td>Male</td>\n      <td>Cricket</td>\n      <td>Kolhapur</td>\n      <td>2017</td>\n    </tr>\n    <tr>\n      <th>35</th>\n      <td>30/05/2023 14:29:26</td>\n      <td>2201139</td>\n      <td>Apeksha</td>\n      <td>D</td>\n      <td>Nimje</td>\n      <td>21.0</td>\n      <td>8.00</td>\n      <td>Female</td>\n      <td>Basketball</td>\n      <td>Nagpur</td>\n      <td>2017</td>\n    </tr>\n    <tr>\n      <th>36</th>\n      <td>30/05/2023 14:29:34</td>\n      <td>2201206</td>\n      <td>Saurabh</td>\n      <td>Sanjay</td>\n      <td>Zute</td>\n      <td>NaN</td>\n      <td>7.50</td>\n      <td>Male</td>\n      <td>Cricket</td>\n      <td>Parbhani</td>\n      <td>2016</td>\n    </tr>\n    <tr>\n      <th>37</th>\n      <td>30/05/2023 14:29:43</td>\n      <td>2201200</td>\n      <td>Kshitij</td>\n      <td>Kishor</td>\n      <td>Wani</td>\n      <td>NaN</td>\n      <td>7.60</td>\n      <td>Male</td>\n      <td>Cricket</td>\n      <td>Nagpur</td>\n      <td>2015</td>\n    </tr>\n    <tr>\n      <th>38</th>\n      <td>30/05/2023 14:29:46</td>\n      <td>2201123</td>\n      <td>Sandesh</td>\n      <td>Sudhir</td>\n      <td>Manohar</td>\n      <td>22.0</td>\n      <td>7.54</td>\n      <td>Male</td>\n      <td>Football</td>\n      <td>Mumbai</td>\n      <td>2016</td>\n    </tr>\n    <tr>\n      <th>39</th>\n      <td>30/05/2023 14:29:59</td>\n      <td>2201158</td>\n      <td>Suyog</td>\n      <td>Bapurao</td>\n      <td>Raut</td>\n      <td>22.0</td>\n      <td>7.67</td>\n      <td>Male</td>\n      <td>cricket</td>\n      <td>pune</td>\n      <td>2017</td>\n    </tr>\n    <tr>\n      <th>40</th>\n      <td>30/05/2023 14:30:07</td>\n      <td>2201104</td>\n      <td>Prerna</td>\n      <td>Nitin</td>\n      <td>Kukade</td>\n      <td>21.0</td>\n      <td>7.40</td>\n      <td>Female</td>\n      <td>Badminton</td>\n      <td>Pune</td>\n      <td>2017</td>\n    </tr>\n    <tr>\n      <th>41</th>\n      <td>30/05/2023 14:30:15</td>\n      <td>220143</td>\n      <td>sakshi</td>\n      <td>santosh</td>\n      <td>patidar</td>\n      <td>22.0</td>\n      <td>10.00</td>\n      <td>Female</td>\n      <td>cricket</td>\n      <td>durg</td>\n      <td>2015</td>\n    </tr>\n    <tr>\n      <th>42</th>\n      <td>30/05/2023 14:30:17</td>\n      <td>2201205</td>\n      <td>Jyoti</td>\n      <td>.</td>\n      <td>Yadav</td>\n      <td>NaN</td>\n      <td>8.14</td>\n      <td>Female</td>\n      <td>Cricket</td>\n      <td>Alwar</td>\n      <td>2012</td>\n    </tr>\n    <tr>\n      <th>43</th>\n      <td>30/05/2023 14:30:20</td>\n      <td>2201117</td>\n      <td>NILESH</td>\n      <td>PRAKASH</td>\n      <td>MAHAJAN</td>\n      <td>22.0</td>\n      <td>7.56</td>\n      <td>Male</td>\n      <td>BADMINTON</td>\n      <td>WADGAON</td>\n      <td>2017</td>\n    </tr>\n    <tr>\n      <th>44</th>\n      <td>30/05/2023 14:30:26</td>\n      <td>2201166</td>\n      <td>Pranav</td>\n      <td>Pravin</td>\n      <td>Sarkale</td>\n      <td>21.0</td>\n      <td>7.96</td>\n      <td>Male</td>\n      <td>Carrom</td>\n      <td>Pune</td>\n      <td>2017</td>\n    </tr>\n    <tr>\n      <th>45</th>\n      <td>30/05/2023 14:30:32</td>\n      <td>2201167</td>\n      <td>Raj</td>\n      <td>Rajendra</td>\n      <td>kumar</td>\n      <td>22.0</td>\n      <td>9.60</td>\n      <td>Male</td>\n      <td>cricket</td>\n      <td>pune</td>\n      <td>2016</td>\n    </tr>\n    <tr>\n      <th>46</th>\n      <td>30/05/2023 14:30:39</td>\n      <td>2201157</td>\n      <td>Nikhil</td>\n      <td>Ashok</td>\n      <td>Rande</td>\n      <td>NaN</td>\n      <td>7.00</td>\n      <td>Male</td>\n      <td>Kabaddi</td>\n      <td>Akot</td>\n      <td>2016</td>\n    </tr>\n    <tr>\n      <th>47</th>\n      <td>30/05/2023 14:31:04</td>\n      <td>2201118</td>\n      <td>‎ Shubham</td>\n      <td>‎ Sanjay</td>\n      <td>‎ Mali</td>\n      <td>21.0</td>\n      <td>9.15</td>\n      <td>Male</td>\n      <td>‎ Cricket</td>\n      <td>‎ Pune</td>\n      <td>2017</td>\n    </tr>\n    <tr>\n      <th>48</th>\n      <td>30/05/2023 14:31:14</td>\n      <td>2201194</td>\n      <td>shraddha</td>\n      <td>jaiprakash</td>\n      <td>varma</td>\n      <td>22.0</td>\n      <td>7.89</td>\n      <td>Female</td>\n      <td>badminton</td>\n      <td>wani</td>\n      <td>2017</td>\n    </tr>\n    <tr>\n      <th>49</th>\n      <td>30/05/2023 14:31:18</td>\n      <td>2201106</td>\n      <td>Priya</td>\n      <td>Pradip</td>\n      <td>Kulkarni</td>\n      <td>22.0</td>\n      <td>8.00</td>\n      <td>Female</td>\n      <td>Badminton</td>\n      <td>Pune</td>\n      <td>2017</td>\n    </tr>\n    <tr>\n      <th>50</th>\n      <td>30/05/2023 14:31:47</td>\n      <td>2201107</td>\n      <td>Swapnil</td>\n      <td>Suhas</td>\n      <td>Kulkarni</td>\n      <td>22.0</td>\n      <td>7.28</td>\n      <td>Male</td>\n      <td>Cricket</td>\n      <td>Pune</td>\n      <td>2016</td>\n    </tr>\n  </tbody>\n</table>\n</div>"
          },
          "metadata": {}
        }
      ]
    },
    {
      "cell_type": "code",
      "source": "df.drop([3,5,7,8,9])",
      "metadata": {
        "trusted": true
      },
      "execution_count": 59,
      "outputs": [
        {
          "execution_count": 59,
          "output_type": "execute_result",
          "data": {
            "text/plain": "              टाइमस्टँप  roll_num       name    middlename     surname   age  \\\n0   30/05/2023 14:26:35   2201184    Shubham        Kumar        Sinha  23.0   \n1   30/05/2023 14:26:56   2201129     Pranav      Prashant      Modale  25.0   \n2   30/05/2023 14:27:27   2201125    Pratik        Sharad     Masalkar   NaN   \n4   30/05/2023 14:27:48   2201193  Siddhesh         Suresh     Uttekar  21.0   \n6   30/05/2023 14:28:03   2201110     Rahul          Kumar       Kumar  23.0   \n10  30/05/2023 14:28:10   2201171    Prajwal        Pramod     Shendge  21.0   \n11  30/05/2023 14:28:10   2201121     tejas    Uttareshwar        mane   NaN   \n12  30/05/2023 14:28:11   2201159    Vaibhav        Kailas        Raut   NaN   \n13  30/05/2023 14:28:13   2201173    Gaurav          Mohan      Shimpi  22.0   \n14  30/05/2023 14:28:15   2201182    sindura         singh     rathore  23.0   \n15  30/05/2023 14:28:15   2201130    Hitesh    Dnyaneshwar   Mohadikar  22.0   \n16  30/05/2023 14:28:16   2201163    Janhavi          Ajit  Sangaonkar   NaN   \n17  30/05/2023 14:28:20   2201195       Raj                      Verma  23.0   \n18  30/05/2023 14:28:25   2201187     Manish       Maruti         Teke  22.0   \n19  30/05/2023 14:28:26   1951022    muskan        shabbir      shipai  21.0   \n20  30/05/2023 14:28:28   2201164  Ashutosh       Ghansham      Saoji   23.0   \n21  30/05/2023 14:28:29   2201133      VIVEK      YESHAVNT        MORE  21.0   \n22  30/05/2023 14:28:32   2201175  Sharvari          Sunil      Shinde  22.0   \n23  30/05/2023 14:28:38   2201190     Leena         Sanjay      Thorat  22.0   \n24  30/05/2023 14:28:41   2201085    vedika   Gorakshanth     kandekar  22.0   \n25  30/05/2023 14:28:47   2201144   Atharva         Jayant    Paradkar  23.0   \n26  30/05/2023 14:28:48   2201196  himanshi                       vyas  22.0   \n27  30/05/2023 14:28:58    220126   Harshita                    Maurya  21.0   \n28  30/05/2023 14:28:59   2201146      Aditi     Pandurang       Patil  21.0   \n29  30/05/2023 14:29:04   2201188    Akshata         vijay      thakre   NaN   \n30  30/05/2023 14:29:03   2201141    Mahima         Lallan         Pal  22.0   \n31  30/05/2023 14:29:06   2201113  Aishwarya        Prasad    Lokhande  22.0   \n32  30/05/2023 14:29:12   2201155    Manali         Prayag      Petare  21.0   \n33  30/05/2023 14:29:16   2201116    Ankita         Tanaji      Madane   NaN   \n34  30/05/2023 14:29:17   2201152       Yash      Rajgonda       Patil  21.0   \n35  30/05/2023 14:29:26   2201139   Apeksha              D       Nimje  21.0   \n36  30/05/2023 14:29:34   2201206   Saurabh         Sanjay        Zute   NaN   \n37  30/05/2023 14:29:43   2201200    Kshitij        Kishor        Wani   NaN   \n38  30/05/2023 14:29:46   2201123   Sandesh        Sudhir      Manohar  22.0   \n39  30/05/2023 14:29:59   2201158      Suyog       Bapurao        Raut  22.0   \n40  30/05/2023 14:30:07   2201104    Prerna          Nitin      Kukade  21.0   \n41  30/05/2023 14:30:15    220143     sakshi       santosh     patidar  22.0   \n42  30/05/2023 14:30:17   2201205     Jyoti              .       Yadav   NaN   \n43  30/05/2023 14:30:20   2201117    NILESH        PRAKASH     MAHAJAN  22.0   \n44  30/05/2023 14:30:26   2201166     Pranav        Pravin     Sarkale  21.0   \n45  30/05/2023 14:30:32   2201167        Raj      Rajendra       kumar  22.0   \n46  30/05/2023 14:30:39   2201157     Nikhil         Ashok       Rande   NaN   \n47  30/05/2023 14:31:04   2201118  ‎ Shubham      ‎ Sanjay      ‎ Mali  21.0   \n48  30/05/2023 14:31:14   2201194  shraddha     jaiprakash       varma  22.0   \n49  30/05/2023 14:31:18   2201106     Priya         Pradip    Kulkarni  22.0   \n50  30/05/2023 14:31:47   2201107    Swapnil         Suhas    Kulkarni  22.0   \n\n     sgpa  gender      favorite_sport  native_city  year_of_passing_10th  \n0    8.29    Male  Cricket , Football        Patna                  2014  \n1    7.80    Male             Cricket         Pune                  2014  \n2    8.31    Male           Badminton         Pune                  2017  \n4    8.40    Male             cricket         Pune                  2016  \n6    7.50    Male           Badminton       Ranchi                  2015  \n10   7.90    Male             Cricket        Miraj                  2018  \n11   7.85    Male             Cricket     Baramati                  2016  \n12   7.00    Male        Table tennis         Beed                  2016  \n13   8.90    Male             cricket      Shahada                  2017  \n14   8.10  Female             cricket  muzzafarpur                  2017  \n15   8.25    Male             Cricket       Nagpur                  2017  \n16   8.75  Female           Badminton     Kolhapur                  2017  \n17   7.71    Male             Cricket   Jamshedpur                  2017  \n18   8.46    Male             Cricket         Pune                  2016  \n19   8.05  Female             cricket         pune                  2017  \n20   7.54    Male             Cricket        Akola                  2017  \n21   7.60    Male        Table Tennis     Kolhapur                  2017  \n22   7.82  Female             cricket        karad                  2016  \n23   7.89  Female           Badminton       Shirdi                  2017  \n24   8.89  Female                   -   Ahmednagar                  2017  \n25   7.64    Male            Football         Pune                  2016  \n26   8.80  Female             cricket       indore                  2017  \n27   8.61  Female           Vollyball         Pune                  2017  \n28   8.00  Female            Football   Ahmednagar                  2017  \n29  75.00  Female             cricket         pune                  2017  \n30   7.68  Female           badminton        patna                  2015  \n31   9.10  Female           badminton         pune                  2017  \n32   7.90  Female            Football       Sangli                  2017  \n33   7.00  Female             Cricket        karad                  2017  \n34   7.21    Male             Cricket     Kolhapur                  2017  \n35   8.00  Female          Basketball       Nagpur                  2017  \n36   7.50    Male             Cricket     Parbhani                  2016  \n37   7.60    Male             Cricket       Nagpur                  2015  \n38   7.54    Male            Football       Mumbai                  2016  \n39   7.67    Male             cricket         pune                  2017  \n40   7.40  Female           Badminton         Pune                  2017  \n41  10.00  Female             cricket         durg                  2015  \n42   8.14  Female             Cricket        Alwar                  2012  \n43   7.56    Male           BADMINTON      WADGAON                  2017  \n44   7.96    Male              Carrom         Pune                  2017  \n45   9.60    Male             cricket         pune                  2016  \n46   7.00    Male             Kabaddi         Akot                  2016  \n47   9.15    Male           ‎ Cricket       ‎ Pune                  2017  \n48   7.89  Female           badminton         wani                  2017  \n49   8.00  Female           Badminton         Pune                  2017  \n50   7.28    Male             Cricket         Pune                  2016  ",
            "text/html": "<div>\n<style scoped>\n    .dataframe tbody tr th:only-of-type {\n        vertical-align: middle;\n    }\n\n    .dataframe tbody tr th {\n        vertical-align: top;\n    }\n\n    .dataframe thead th {\n        text-align: right;\n    }\n</style>\n<table border=\"1\" class=\"dataframe\">\n  <thead>\n    <tr style=\"text-align: right;\">\n      <th></th>\n      <th>टाइमस्टँप</th>\n      <th>roll_num</th>\n      <th>name</th>\n      <th>middlename</th>\n      <th>surname</th>\n      <th>age</th>\n      <th>sgpa</th>\n      <th>gender</th>\n      <th>favorite_sport</th>\n      <th>native_city</th>\n      <th>year_of_passing_10th</th>\n    </tr>\n  </thead>\n  <tbody>\n    <tr>\n      <th>0</th>\n      <td>30/05/2023 14:26:35</td>\n      <td>2201184</td>\n      <td>Shubham</td>\n      <td>Kumar</td>\n      <td>Sinha</td>\n      <td>23.0</td>\n      <td>8.29</td>\n      <td>Male</td>\n      <td>Cricket , Football</td>\n      <td>Patna</td>\n      <td>2014</td>\n    </tr>\n    <tr>\n      <th>1</th>\n      <td>30/05/2023 14:26:56</td>\n      <td>2201129</td>\n      <td>Pranav</td>\n      <td>Prashant</td>\n      <td>Modale</td>\n      <td>25.0</td>\n      <td>7.80</td>\n      <td>Male</td>\n      <td>Cricket</td>\n      <td>Pune</td>\n      <td>2014</td>\n    </tr>\n    <tr>\n      <th>2</th>\n      <td>30/05/2023 14:27:27</td>\n      <td>2201125</td>\n      <td>Pratik</td>\n      <td>Sharad</td>\n      <td>Masalkar</td>\n      <td>NaN</td>\n      <td>8.31</td>\n      <td>Male</td>\n      <td>Badminton</td>\n      <td>Pune</td>\n      <td>2017</td>\n    </tr>\n    <tr>\n      <th>4</th>\n      <td>30/05/2023 14:27:48</td>\n      <td>2201193</td>\n      <td>Siddhesh</td>\n      <td>Suresh</td>\n      <td>Uttekar</td>\n      <td>21.0</td>\n      <td>8.40</td>\n      <td>Male</td>\n      <td>cricket</td>\n      <td>Pune</td>\n      <td>2016</td>\n    </tr>\n    <tr>\n      <th>6</th>\n      <td>30/05/2023 14:28:03</td>\n      <td>2201110</td>\n      <td>Rahul</td>\n      <td>Kumar</td>\n      <td>Kumar</td>\n      <td>23.0</td>\n      <td>7.50</td>\n      <td>Male</td>\n      <td>Badminton</td>\n      <td>Ranchi</td>\n      <td>2015</td>\n    </tr>\n    <tr>\n      <th>10</th>\n      <td>30/05/2023 14:28:10</td>\n      <td>2201171</td>\n      <td>Prajwal</td>\n      <td>Pramod</td>\n      <td>Shendge</td>\n      <td>21.0</td>\n      <td>7.90</td>\n      <td>Male</td>\n      <td>Cricket</td>\n      <td>Miraj</td>\n      <td>2018</td>\n    </tr>\n    <tr>\n      <th>11</th>\n      <td>30/05/2023 14:28:10</td>\n      <td>2201121</td>\n      <td>tejas</td>\n      <td>Uttareshwar</td>\n      <td>mane</td>\n      <td>NaN</td>\n      <td>7.85</td>\n      <td>Male</td>\n      <td>Cricket</td>\n      <td>Baramati</td>\n      <td>2016</td>\n    </tr>\n    <tr>\n      <th>12</th>\n      <td>30/05/2023 14:28:11</td>\n      <td>2201159</td>\n      <td>Vaibhav</td>\n      <td>Kailas</td>\n      <td>Raut</td>\n      <td>NaN</td>\n      <td>7.00</td>\n      <td>Male</td>\n      <td>Table tennis</td>\n      <td>Beed</td>\n      <td>2016</td>\n    </tr>\n    <tr>\n      <th>13</th>\n      <td>30/05/2023 14:28:13</td>\n      <td>2201173</td>\n      <td>Gaurav</td>\n      <td>Mohan</td>\n      <td>Shimpi</td>\n      <td>22.0</td>\n      <td>8.90</td>\n      <td>Male</td>\n      <td>cricket</td>\n      <td>Shahada</td>\n      <td>2017</td>\n    </tr>\n    <tr>\n      <th>14</th>\n      <td>30/05/2023 14:28:15</td>\n      <td>2201182</td>\n      <td>sindura</td>\n      <td>singh</td>\n      <td>rathore</td>\n      <td>23.0</td>\n      <td>8.10</td>\n      <td>Female</td>\n      <td>cricket</td>\n      <td>muzzafarpur</td>\n      <td>2017</td>\n    </tr>\n    <tr>\n      <th>15</th>\n      <td>30/05/2023 14:28:15</td>\n      <td>2201130</td>\n      <td>Hitesh</td>\n      <td>Dnyaneshwar</td>\n      <td>Mohadikar</td>\n      <td>22.0</td>\n      <td>8.25</td>\n      <td>Male</td>\n      <td>Cricket</td>\n      <td>Nagpur</td>\n      <td>2017</td>\n    </tr>\n    <tr>\n      <th>16</th>\n      <td>30/05/2023 14:28:16</td>\n      <td>2201163</td>\n      <td>Janhavi</td>\n      <td>Ajit</td>\n      <td>Sangaonkar</td>\n      <td>NaN</td>\n      <td>8.75</td>\n      <td>Female</td>\n      <td>Badminton</td>\n      <td>Kolhapur</td>\n      <td>2017</td>\n    </tr>\n    <tr>\n      <th>17</th>\n      <td>30/05/2023 14:28:20</td>\n      <td>2201195</td>\n      <td>Raj</td>\n      <td></td>\n      <td>Verma</td>\n      <td>23.0</td>\n      <td>7.71</td>\n      <td>Male</td>\n      <td>Cricket</td>\n      <td>Jamshedpur</td>\n      <td>2017</td>\n    </tr>\n    <tr>\n      <th>18</th>\n      <td>30/05/2023 14:28:25</td>\n      <td>2201187</td>\n      <td>Manish</td>\n      <td>Maruti</td>\n      <td>Teke</td>\n      <td>22.0</td>\n      <td>8.46</td>\n      <td>Male</td>\n      <td>Cricket</td>\n      <td>Pune</td>\n      <td>2016</td>\n    </tr>\n    <tr>\n      <th>19</th>\n      <td>30/05/2023 14:28:26</td>\n      <td>1951022</td>\n      <td>muskan</td>\n      <td>shabbir</td>\n      <td>shipai</td>\n      <td>21.0</td>\n      <td>8.05</td>\n      <td>Female</td>\n      <td>cricket</td>\n      <td>pune</td>\n      <td>2017</td>\n    </tr>\n    <tr>\n      <th>20</th>\n      <td>30/05/2023 14:28:28</td>\n      <td>2201164</td>\n      <td>Ashutosh</td>\n      <td>Ghansham</td>\n      <td>Saoji</td>\n      <td>23.0</td>\n      <td>7.54</td>\n      <td>Male</td>\n      <td>Cricket</td>\n      <td>Akola</td>\n      <td>2017</td>\n    </tr>\n    <tr>\n      <th>21</th>\n      <td>30/05/2023 14:28:29</td>\n      <td>2201133</td>\n      <td>VIVEK</td>\n      <td>YESHAVNT</td>\n      <td>MORE</td>\n      <td>21.0</td>\n      <td>7.60</td>\n      <td>Male</td>\n      <td>Table Tennis</td>\n      <td>Kolhapur</td>\n      <td>2017</td>\n    </tr>\n    <tr>\n      <th>22</th>\n      <td>30/05/2023 14:28:32</td>\n      <td>2201175</td>\n      <td>Sharvari</td>\n      <td>Sunil</td>\n      <td>Shinde</td>\n      <td>22.0</td>\n      <td>7.82</td>\n      <td>Female</td>\n      <td>cricket</td>\n      <td>karad</td>\n      <td>2016</td>\n    </tr>\n    <tr>\n      <th>23</th>\n      <td>30/05/2023 14:28:38</td>\n      <td>2201190</td>\n      <td>Leena</td>\n      <td>Sanjay</td>\n      <td>Thorat</td>\n      <td>22.0</td>\n      <td>7.89</td>\n      <td>Female</td>\n      <td>Badminton</td>\n      <td>Shirdi</td>\n      <td>2017</td>\n    </tr>\n    <tr>\n      <th>24</th>\n      <td>30/05/2023 14:28:41</td>\n      <td>2201085</td>\n      <td>vedika</td>\n      <td>Gorakshanth</td>\n      <td>kandekar</td>\n      <td>22.0</td>\n      <td>8.89</td>\n      <td>Female</td>\n      <td>-</td>\n      <td>Ahmednagar</td>\n      <td>2017</td>\n    </tr>\n    <tr>\n      <th>25</th>\n      <td>30/05/2023 14:28:47</td>\n      <td>2201144</td>\n      <td>Atharva</td>\n      <td>Jayant</td>\n      <td>Paradkar</td>\n      <td>23.0</td>\n      <td>7.64</td>\n      <td>Male</td>\n      <td>Football</td>\n      <td>Pune</td>\n      <td>2016</td>\n    </tr>\n    <tr>\n      <th>26</th>\n      <td>30/05/2023 14:28:48</td>\n      <td>2201196</td>\n      <td>himanshi</td>\n      <td></td>\n      <td>vyas</td>\n      <td>22.0</td>\n      <td>8.80</td>\n      <td>Female</td>\n      <td>cricket</td>\n      <td>indore</td>\n      <td>2017</td>\n    </tr>\n    <tr>\n      <th>27</th>\n      <td>30/05/2023 14:28:58</td>\n      <td>220126</td>\n      <td>Harshita</td>\n      <td></td>\n      <td>Maurya</td>\n      <td>21.0</td>\n      <td>8.61</td>\n      <td>Female</td>\n      <td>Vollyball</td>\n      <td>Pune</td>\n      <td>2017</td>\n    </tr>\n    <tr>\n      <th>28</th>\n      <td>30/05/2023 14:28:59</td>\n      <td>2201146</td>\n      <td>Aditi</td>\n      <td>Pandurang</td>\n      <td>Patil</td>\n      <td>21.0</td>\n      <td>8.00</td>\n      <td>Female</td>\n      <td>Football</td>\n      <td>Ahmednagar</td>\n      <td>2017</td>\n    </tr>\n    <tr>\n      <th>29</th>\n      <td>30/05/2023 14:29:04</td>\n      <td>2201188</td>\n      <td>Akshata</td>\n      <td>vijay</td>\n      <td>thakre</td>\n      <td>NaN</td>\n      <td>75.00</td>\n      <td>Female</td>\n      <td>cricket</td>\n      <td>pune</td>\n      <td>2017</td>\n    </tr>\n    <tr>\n      <th>30</th>\n      <td>30/05/2023 14:29:03</td>\n      <td>2201141</td>\n      <td>Mahima</td>\n      <td>Lallan</td>\n      <td>Pal</td>\n      <td>22.0</td>\n      <td>7.68</td>\n      <td>Female</td>\n      <td>badminton</td>\n      <td>patna</td>\n      <td>2015</td>\n    </tr>\n    <tr>\n      <th>31</th>\n      <td>30/05/2023 14:29:06</td>\n      <td>2201113</td>\n      <td>Aishwarya</td>\n      <td>Prasad</td>\n      <td>Lokhande</td>\n      <td>22.0</td>\n      <td>9.10</td>\n      <td>Female</td>\n      <td>badminton</td>\n      <td>pune</td>\n      <td>2017</td>\n    </tr>\n    <tr>\n      <th>32</th>\n      <td>30/05/2023 14:29:12</td>\n      <td>2201155</td>\n      <td>Manali</td>\n      <td>Prayag</td>\n      <td>Petare</td>\n      <td>21.0</td>\n      <td>7.90</td>\n      <td>Female</td>\n      <td>Football</td>\n      <td>Sangli</td>\n      <td>2017</td>\n    </tr>\n    <tr>\n      <th>33</th>\n      <td>30/05/2023 14:29:16</td>\n      <td>2201116</td>\n      <td>Ankita</td>\n      <td>Tanaji</td>\n      <td>Madane</td>\n      <td>NaN</td>\n      <td>7.00</td>\n      <td>Female</td>\n      <td>Cricket</td>\n      <td>karad</td>\n      <td>2017</td>\n    </tr>\n    <tr>\n      <th>34</th>\n      <td>30/05/2023 14:29:17</td>\n      <td>2201152</td>\n      <td>Yash</td>\n      <td>Rajgonda</td>\n      <td>Patil</td>\n      <td>21.0</td>\n      <td>7.21</td>\n      <td>Male</td>\n      <td>Cricket</td>\n      <td>Kolhapur</td>\n      <td>2017</td>\n    </tr>\n    <tr>\n      <th>35</th>\n      <td>30/05/2023 14:29:26</td>\n      <td>2201139</td>\n      <td>Apeksha</td>\n      <td>D</td>\n      <td>Nimje</td>\n      <td>21.0</td>\n      <td>8.00</td>\n      <td>Female</td>\n      <td>Basketball</td>\n      <td>Nagpur</td>\n      <td>2017</td>\n    </tr>\n    <tr>\n      <th>36</th>\n      <td>30/05/2023 14:29:34</td>\n      <td>2201206</td>\n      <td>Saurabh</td>\n      <td>Sanjay</td>\n      <td>Zute</td>\n      <td>NaN</td>\n      <td>7.50</td>\n      <td>Male</td>\n      <td>Cricket</td>\n      <td>Parbhani</td>\n      <td>2016</td>\n    </tr>\n    <tr>\n      <th>37</th>\n      <td>30/05/2023 14:29:43</td>\n      <td>2201200</td>\n      <td>Kshitij</td>\n      <td>Kishor</td>\n      <td>Wani</td>\n      <td>NaN</td>\n      <td>7.60</td>\n      <td>Male</td>\n      <td>Cricket</td>\n      <td>Nagpur</td>\n      <td>2015</td>\n    </tr>\n    <tr>\n      <th>38</th>\n      <td>30/05/2023 14:29:46</td>\n      <td>2201123</td>\n      <td>Sandesh</td>\n      <td>Sudhir</td>\n      <td>Manohar</td>\n      <td>22.0</td>\n      <td>7.54</td>\n      <td>Male</td>\n      <td>Football</td>\n      <td>Mumbai</td>\n      <td>2016</td>\n    </tr>\n    <tr>\n      <th>39</th>\n      <td>30/05/2023 14:29:59</td>\n      <td>2201158</td>\n      <td>Suyog</td>\n      <td>Bapurao</td>\n      <td>Raut</td>\n      <td>22.0</td>\n      <td>7.67</td>\n      <td>Male</td>\n      <td>cricket</td>\n      <td>pune</td>\n      <td>2017</td>\n    </tr>\n    <tr>\n      <th>40</th>\n      <td>30/05/2023 14:30:07</td>\n      <td>2201104</td>\n      <td>Prerna</td>\n      <td>Nitin</td>\n      <td>Kukade</td>\n      <td>21.0</td>\n      <td>7.40</td>\n      <td>Female</td>\n      <td>Badminton</td>\n      <td>Pune</td>\n      <td>2017</td>\n    </tr>\n    <tr>\n      <th>41</th>\n      <td>30/05/2023 14:30:15</td>\n      <td>220143</td>\n      <td>sakshi</td>\n      <td>santosh</td>\n      <td>patidar</td>\n      <td>22.0</td>\n      <td>10.00</td>\n      <td>Female</td>\n      <td>cricket</td>\n      <td>durg</td>\n      <td>2015</td>\n    </tr>\n    <tr>\n      <th>42</th>\n      <td>30/05/2023 14:30:17</td>\n      <td>2201205</td>\n      <td>Jyoti</td>\n      <td>.</td>\n      <td>Yadav</td>\n      <td>NaN</td>\n      <td>8.14</td>\n      <td>Female</td>\n      <td>Cricket</td>\n      <td>Alwar</td>\n      <td>2012</td>\n    </tr>\n    <tr>\n      <th>43</th>\n      <td>30/05/2023 14:30:20</td>\n      <td>2201117</td>\n      <td>NILESH</td>\n      <td>PRAKASH</td>\n      <td>MAHAJAN</td>\n      <td>22.0</td>\n      <td>7.56</td>\n      <td>Male</td>\n      <td>BADMINTON</td>\n      <td>WADGAON</td>\n      <td>2017</td>\n    </tr>\n    <tr>\n      <th>44</th>\n      <td>30/05/2023 14:30:26</td>\n      <td>2201166</td>\n      <td>Pranav</td>\n      <td>Pravin</td>\n      <td>Sarkale</td>\n      <td>21.0</td>\n      <td>7.96</td>\n      <td>Male</td>\n      <td>Carrom</td>\n      <td>Pune</td>\n      <td>2017</td>\n    </tr>\n    <tr>\n      <th>45</th>\n      <td>30/05/2023 14:30:32</td>\n      <td>2201167</td>\n      <td>Raj</td>\n      <td>Rajendra</td>\n      <td>kumar</td>\n      <td>22.0</td>\n      <td>9.60</td>\n      <td>Male</td>\n      <td>cricket</td>\n      <td>pune</td>\n      <td>2016</td>\n    </tr>\n    <tr>\n      <th>46</th>\n      <td>30/05/2023 14:30:39</td>\n      <td>2201157</td>\n      <td>Nikhil</td>\n      <td>Ashok</td>\n      <td>Rande</td>\n      <td>NaN</td>\n      <td>7.00</td>\n      <td>Male</td>\n      <td>Kabaddi</td>\n      <td>Akot</td>\n      <td>2016</td>\n    </tr>\n    <tr>\n      <th>47</th>\n      <td>30/05/2023 14:31:04</td>\n      <td>2201118</td>\n      <td>‎ Shubham</td>\n      <td>‎ Sanjay</td>\n      <td>‎ Mali</td>\n      <td>21.0</td>\n      <td>9.15</td>\n      <td>Male</td>\n      <td>‎ Cricket</td>\n      <td>‎ Pune</td>\n      <td>2017</td>\n    </tr>\n    <tr>\n      <th>48</th>\n      <td>30/05/2023 14:31:14</td>\n      <td>2201194</td>\n      <td>shraddha</td>\n      <td>jaiprakash</td>\n      <td>varma</td>\n      <td>22.0</td>\n      <td>7.89</td>\n      <td>Female</td>\n      <td>badminton</td>\n      <td>wani</td>\n      <td>2017</td>\n    </tr>\n    <tr>\n      <th>49</th>\n      <td>30/05/2023 14:31:18</td>\n      <td>2201106</td>\n      <td>Priya</td>\n      <td>Pradip</td>\n      <td>Kulkarni</td>\n      <td>22.0</td>\n      <td>8.00</td>\n      <td>Female</td>\n      <td>Badminton</td>\n      <td>Pune</td>\n      <td>2017</td>\n    </tr>\n    <tr>\n      <th>50</th>\n      <td>30/05/2023 14:31:47</td>\n      <td>2201107</td>\n      <td>Swapnil</td>\n      <td>Suhas</td>\n      <td>Kulkarni</td>\n      <td>22.0</td>\n      <td>7.28</td>\n      <td>Male</td>\n      <td>Cricket</td>\n      <td>Pune</td>\n      <td>2016</td>\n    </tr>\n  </tbody>\n</table>\n</div>"
          },
          "metadata": {}
        }
      ]
    },
    {
      "cell_type": "code",
      "source": "df.drop('टाइमस्टँप', axis = 1,inplace=True)",
      "metadata": {
        "trusted": true
      },
      "execution_count": 60,
      "outputs": []
    },
    {
      "cell_type": "code",
      "source": "df",
      "metadata": {
        "trusted": true
      },
      "execution_count": 61,
      "outputs": [
        {
          "execution_count": 61,
          "output_type": "execute_result",
          "data": {
            "text/plain": "    roll_num       name    middlename     surname   age   sgpa  gender  \\\n0    2201184    Shubham        Kumar        Sinha  23.0   8.29    Male   \n1    2201129     Pranav      Prashant      Modale  25.0   7.80    Male   \n2    2201125    Pratik        Sharad     Masalkar   NaN   8.31    Male   \n3    2201154     Ranvir       Gajanan       Pawar   NaN   8.00    Male   \n4    2201193  Siddhesh         Suresh     Uttekar  21.0   8.40    Male   \n5    2201115     Sairaj       Shirish    Lumpatki  20.0   8.71    Male   \n6    2201110     Rahul          Kumar       Kumar  23.0   7.50    Male   \n7    2201124     Akash      Sambhaji      Markile   NaN   7.79    Male   \n8    2201145     harsh        subhash     patidar  22.0   8.00    Male   \n9    2201105      Omkar        Milind    Kulkarni  22.0   9.81    Male   \n10   2201171    Prajwal        Pramod     Shendge  21.0   7.90    Male   \n11   2201121     tejas    Uttareshwar        mane   NaN   7.85    Male   \n12   2201159    Vaibhav        Kailas        Raut   NaN   7.00    Male   \n13   2201173    Gaurav          Mohan      Shimpi  22.0   8.90    Male   \n14   2201182    sindura         singh     rathore  23.0   8.10  Female   \n15   2201130    Hitesh    Dnyaneshwar   Mohadikar  22.0   8.25    Male   \n16   2201163    Janhavi          Ajit  Sangaonkar   NaN   8.75  Female   \n17   2201195       Raj                      Verma  23.0   7.71    Male   \n18   2201187     Manish       Maruti         Teke  22.0   8.46    Male   \n19   1951022    muskan        shabbir      shipai  21.0   8.05  Female   \n20   2201164  Ashutosh       Ghansham      Saoji   23.0   7.54    Male   \n21   2201133      VIVEK      YESHAVNT        MORE  21.0   7.60    Male   \n22   2201175  Sharvari          Sunil      Shinde  22.0   7.82  Female   \n23   2201190     Leena         Sanjay      Thorat  22.0   7.89  Female   \n24   2201085    vedika   Gorakshanth     kandekar  22.0   8.89  Female   \n25   2201144   Atharva         Jayant    Paradkar  23.0   7.64    Male   \n26   2201196  himanshi                       vyas  22.0   8.80  Female   \n27    220126   Harshita                    Maurya  21.0   8.61  Female   \n28   2201146      Aditi     Pandurang       Patil  21.0   8.00  Female   \n29   2201188    Akshata         vijay      thakre   NaN  75.00  Female   \n30   2201141    Mahima         Lallan         Pal  22.0   7.68  Female   \n31   2201113  Aishwarya        Prasad    Lokhande  22.0   9.10  Female   \n32   2201155    Manali         Prayag      Petare  21.0   7.90  Female   \n33   2201116    Ankita         Tanaji      Madane   NaN   7.00  Female   \n34   2201152       Yash      Rajgonda       Patil  21.0   7.21    Male   \n35   2201139   Apeksha              D       Nimje  21.0   8.00  Female   \n36   2201206   Saurabh         Sanjay        Zute   NaN   7.50    Male   \n37   2201200    Kshitij        Kishor        Wani   NaN   7.60    Male   \n38   2201123   Sandesh        Sudhir      Manohar  22.0   7.54    Male   \n39   2201158      Suyog       Bapurao        Raut  22.0   7.67    Male   \n40   2201104    Prerna          Nitin      Kukade  21.0   7.40  Female   \n41    220143     sakshi       santosh     patidar  22.0  10.00  Female   \n42   2201205     Jyoti              .       Yadav   NaN   8.14  Female   \n43   2201117    NILESH        PRAKASH     MAHAJAN  22.0   7.56    Male   \n44   2201166     Pranav        Pravin     Sarkale  21.0   7.96    Male   \n45   2201167        Raj      Rajendra       kumar  22.0   9.60    Male   \n46   2201157     Nikhil         Ashok       Rande   NaN   7.00    Male   \n47   2201118  ‎ Shubham      ‎ Sanjay      ‎ Mali  21.0   9.15    Male   \n48   2201194  shraddha     jaiprakash       varma  22.0   7.89  Female   \n49   2201106     Priya         Pradip    Kulkarni  22.0   8.00  Female   \n50   2201107    Swapnil         Suhas    Kulkarni  22.0   7.28    Male   \n\n        favorite_sport  native_city  year_of_passing_10th  \n0   Cricket , Football        Patna                  2014  \n1              Cricket         Pune                  2014  \n2            Badminton         Pune                  2017  \n3                chess      buldana                  2014  \n4              cricket         Pune                  2016  \n5           volleyball   Ahmednagar                  2017  \n6            Badminton       Ranchi                  2015  \n7              Cricket        Latur                  2016  \n8           volleyball       indore                  2016  \n9     Sachin Tendulkar         Pune                  2018  \n10             Cricket        Miraj                  2018  \n11             Cricket     Baramati                  2016  \n12        Table tennis         Beed                  2016  \n13             cricket      Shahada                  2017  \n14             cricket  muzzafarpur                  2017  \n15             Cricket       Nagpur                  2017  \n16           Badminton     Kolhapur                  2017  \n17             Cricket   Jamshedpur                  2017  \n18             Cricket         Pune                  2016  \n19             cricket         pune                  2017  \n20             Cricket        Akola                  2017  \n21        Table Tennis     Kolhapur                  2017  \n22             cricket        karad                  2016  \n23           Badminton       Shirdi                  2017  \n24                   -   Ahmednagar                  2017  \n25            Football         Pune                  2016  \n26             cricket       indore                  2017  \n27           Vollyball         Pune                  2017  \n28            Football   Ahmednagar                  2017  \n29             cricket         pune                  2017  \n30           badminton        patna                  2015  \n31           badminton         pune                  2017  \n32            Football       Sangli                  2017  \n33             Cricket        karad                  2017  \n34             Cricket     Kolhapur                  2017  \n35          Basketball       Nagpur                  2017  \n36             Cricket     Parbhani                  2016  \n37             Cricket       Nagpur                  2015  \n38            Football       Mumbai                  2016  \n39             cricket         pune                  2017  \n40           Badminton         Pune                  2017  \n41             cricket         durg                  2015  \n42             Cricket        Alwar                  2012  \n43           BADMINTON      WADGAON                  2017  \n44              Carrom         Pune                  2017  \n45             cricket         pune                  2016  \n46             Kabaddi         Akot                  2016  \n47           ‎ Cricket       ‎ Pune                  2017  \n48           badminton         wani                  2017  \n49           Badminton         Pune                  2017  \n50             Cricket         Pune                  2016  ",
            "text/html": "<div>\n<style scoped>\n    .dataframe tbody tr th:only-of-type {\n        vertical-align: middle;\n    }\n\n    .dataframe tbody tr th {\n        vertical-align: top;\n    }\n\n    .dataframe thead th {\n        text-align: right;\n    }\n</style>\n<table border=\"1\" class=\"dataframe\">\n  <thead>\n    <tr style=\"text-align: right;\">\n      <th></th>\n      <th>roll_num</th>\n      <th>name</th>\n      <th>middlename</th>\n      <th>surname</th>\n      <th>age</th>\n      <th>sgpa</th>\n      <th>gender</th>\n      <th>favorite_sport</th>\n      <th>native_city</th>\n      <th>year_of_passing_10th</th>\n    </tr>\n  </thead>\n  <tbody>\n    <tr>\n      <th>0</th>\n      <td>2201184</td>\n      <td>Shubham</td>\n      <td>Kumar</td>\n      <td>Sinha</td>\n      <td>23.0</td>\n      <td>8.29</td>\n      <td>Male</td>\n      <td>Cricket , Football</td>\n      <td>Patna</td>\n      <td>2014</td>\n    </tr>\n    <tr>\n      <th>1</th>\n      <td>2201129</td>\n      <td>Pranav</td>\n      <td>Prashant</td>\n      <td>Modale</td>\n      <td>25.0</td>\n      <td>7.80</td>\n      <td>Male</td>\n      <td>Cricket</td>\n      <td>Pune</td>\n      <td>2014</td>\n    </tr>\n    <tr>\n      <th>2</th>\n      <td>2201125</td>\n      <td>Pratik</td>\n      <td>Sharad</td>\n      <td>Masalkar</td>\n      <td>NaN</td>\n      <td>8.31</td>\n      <td>Male</td>\n      <td>Badminton</td>\n      <td>Pune</td>\n      <td>2017</td>\n    </tr>\n    <tr>\n      <th>3</th>\n      <td>2201154</td>\n      <td>Ranvir</td>\n      <td>Gajanan</td>\n      <td>Pawar</td>\n      <td>NaN</td>\n      <td>8.00</td>\n      <td>Male</td>\n      <td>chess</td>\n      <td>buldana</td>\n      <td>2014</td>\n    </tr>\n    <tr>\n      <th>4</th>\n      <td>2201193</td>\n      <td>Siddhesh</td>\n      <td>Suresh</td>\n      <td>Uttekar</td>\n      <td>21.0</td>\n      <td>8.40</td>\n      <td>Male</td>\n      <td>cricket</td>\n      <td>Pune</td>\n      <td>2016</td>\n    </tr>\n    <tr>\n      <th>5</th>\n      <td>2201115</td>\n      <td>Sairaj</td>\n      <td>Shirish</td>\n      <td>Lumpatki</td>\n      <td>20.0</td>\n      <td>8.71</td>\n      <td>Male</td>\n      <td>volleyball</td>\n      <td>Ahmednagar</td>\n      <td>2017</td>\n    </tr>\n    <tr>\n      <th>6</th>\n      <td>2201110</td>\n      <td>Rahul</td>\n      <td>Kumar</td>\n      <td>Kumar</td>\n      <td>23.0</td>\n      <td>7.50</td>\n      <td>Male</td>\n      <td>Badminton</td>\n      <td>Ranchi</td>\n      <td>2015</td>\n    </tr>\n    <tr>\n      <th>7</th>\n      <td>2201124</td>\n      <td>Akash</td>\n      <td>Sambhaji</td>\n      <td>Markile</td>\n      <td>NaN</td>\n      <td>7.79</td>\n      <td>Male</td>\n      <td>Cricket</td>\n      <td>Latur</td>\n      <td>2016</td>\n    </tr>\n    <tr>\n      <th>8</th>\n      <td>2201145</td>\n      <td>harsh</td>\n      <td>subhash</td>\n      <td>patidar</td>\n      <td>22.0</td>\n      <td>8.00</td>\n      <td>Male</td>\n      <td>volleyball</td>\n      <td>indore</td>\n      <td>2016</td>\n    </tr>\n    <tr>\n      <th>9</th>\n      <td>2201105</td>\n      <td>Omkar</td>\n      <td>Milind</td>\n      <td>Kulkarni</td>\n      <td>22.0</td>\n      <td>9.81</td>\n      <td>Male</td>\n      <td>Sachin Tendulkar</td>\n      <td>Pune</td>\n      <td>2018</td>\n    </tr>\n    <tr>\n      <th>10</th>\n      <td>2201171</td>\n      <td>Prajwal</td>\n      <td>Pramod</td>\n      <td>Shendge</td>\n      <td>21.0</td>\n      <td>7.90</td>\n      <td>Male</td>\n      <td>Cricket</td>\n      <td>Miraj</td>\n      <td>2018</td>\n    </tr>\n    <tr>\n      <th>11</th>\n      <td>2201121</td>\n      <td>tejas</td>\n      <td>Uttareshwar</td>\n      <td>mane</td>\n      <td>NaN</td>\n      <td>7.85</td>\n      <td>Male</td>\n      <td>Cricket</td>\n      <td>Baramati</td>\n      <td>2016</td>\n    </tr>\n    <tr>\n      <th>12</th>\n      <td>2201159</td>\n      <td>Vaibhav</td>\n      <td>Kailas</td>\n      <td>Raut</td>\n      <td>NaN</td>\n      <td>7.00</td>\n      <td>Male</td>\n      <td>Table tennis</td>\n      <td>Beed</td>\n      <td>2016</td>\n    </tr>\n    <tr>\n      <th>13</th>\n      <td>2201173</td>\n      <td>Gaurav</td>\n      <td>Mohan</td>\n      <td>Shimpi</td>\n      <td>22.0</td>\n      <td>8.90</td>\n      <td>Male</td>\n      <td>cricket</td>\n      <td>Shahada</td>\n      <td>2017</td>\n    </tr>\n    <tr>\n      <th>14</th>\n      <td>2201182</td>\n      <td>sindura</td>\n      <td>singh</td>\n      <td>rathore</td>\n      <td>23.0</td>\n      <td>8.10</td>\n      <td>Female</td>\n      <td>cricket</td>\n      <td>muzzafarpur</td>\n      <td>2017</td>\n    </tr>\n    <tr>\n      <th>15</th>\n      <td>2201130</td>\n      <td>Hitesh</td>\n      <td>Dnyaneshwar</td>\n      <td>Mohadikar</td>\n      <td>22.0</td>\n      <td>8.25</td>\n      <td>Male</td>\n      <td>Cricket</td>\n      <td>Nagpur</td>\n      <td>2017</td>\n    </tr>\n    <tr>\n      <th>16</th>\n      <td>2201163</td>\n      <td>Janhavi</td>\n      <td>Ajit</td>\n      <td>Sangaonkar</td>\n      <td>NaN</td>\n      <td>8.75</td>\n      <td>Female</td>\n      <td>Badminton</td>\n      <td>Kolhapur</td>\n      <td>2017</td>\n    </tr>\n    <tr>\n      <th>17</th>\n      <td>2201195</td>\n      <td>Raj</td>\n      <td></td>\n      <td>Verma</td>\n      <td>23.0</td>\n      <td>7.71</td>\n      <td>Male</td>\n      <td>Cricket</td>\n      <td>Jamshedpur</td>\n      <td>2017</td>\n    </tr>\n    <tr>\n      <th>18</th>\n      <td>2201187</td>\n      <td>Manish</td>\n      <td>Maruti</td>\n      <td>Teke</td>\n      <td>22.0</td>\n      <td>8.46</td>\n      <td>Male</td>\n      <td>Cricket</td>\n      <td>Pune</td>\n      <td>2016</td>\n    </tr>\n    <tr>\n      <th>19</th>\n      <td>1951022</td>\n      <td>muskan</td>\n      <td>shabbir</td>\n      <td>shipai</td>\n      <td>21.0</td>\n      <td>8.05</td>\n      <td>Female</td>\n      <td>cricket</td>\n      <td>pune</td>\n      <td>2017</td>\n    </tr>\n    <tr>\n      <th>20</th>\n      <td>2201164</td>\n      <td>Ashutosh</td>\n      <td>Ghansham</td>\n      <td>Saoji</td>\n      <td>23.0</td>\n      <td>7.54</td>\n      <td>Male</td>\n      <td>Cricket</td>\n      <td>Akola</td>\n      <td>2017</td>\n    </tr>\n    <tr>\n      <th>21</th>\n      <td>2201133</td>\n      <td>VIVEK</td>\n      <td>YESHAVNT</td>\n      <td>MORE</td>\n      <td>21.0</td>\n      <td>7.60</td>\n      <td>Male</td>\n      <td>Table Tennis</td>\n      <td>Kolhapur</td>\n      <td>2017</td>\n    </tr>\n    <tr>\n      <th>22</th>\n      <td>2201175</td>\n      <td>Sharvari</td>\n      <td>Sunil</td>\n      <td>Shinde</td>\n      <td>22.0</td>\n      <td>7.82</td>\n      <td>Female</td>\n      <td>cricket</td>\n      <td>karad</td>\n      <td>2016</td>\n    </tr>\n    <tr>\n      <th>23</th>\n      <td>2201190</td>\n      <td>Leena</td>\n      <td>Sanjay</td>\n      <td>Thorat</td>\n      <td>22.0</td>\n      <td>7.89</td>\n      <td>Female</td>\n      <td>Badminton</td>\n      <td>Shirdi</td>\n      <td>2017</td>\n    </tr>\n    <tr>\n      <th>24</th>\n      <td>2201085</td>\n      <td>vedika</td>\n      <td>Gorakshanth</td>\n      <td>kandekar</td>\n      <td>22.0</td>\n      <td>8.89</td>\n      <td>Female</td>\n      <td>-</td>\n      <td>Ahmednagar</td>\n      <td>2017</td>\n    </tr>\n    <tr>\n      <th>25</th>\n      <td>2201144</td>\n      <td>Atharva</td>\n      <td>Jayant</td>\n      <td>Paradkar</td>\n      <td>23.0</td>\n      <td>7.64</td>\n      <td>Male</td>\n      <td>Football</td>\n      <td>Pune</td>\n      <td>2016</td>\n    </tr>\n    <tr>\n      <th>26</th>\n      <td>2201196</td>\n      <td>himanshi</td>\n      <td></td>\n      <td>vyas</td>\n      <td>22.0</td>\n      <td>8.80</td>\n      <td>Female</td>\n      <td>cricket</td>\n      <td>indore</td>\n      <td>2017</td>\n    </tr>\n    <tr>\n      <th>27</th>\n      <td>220126</td>\n      <td>Harshita</td>\n      <td></td>\n      <td>Maurya</td>\n      <td>21.0</td>\n      <td>8.61</td>\n      <td>Female</td>\n      <td>Vollyball</td>\n      <td>Pune</td>\n      <td>2017</td>\n    </tr>\n    <tr>\n      <th>28</th>\n      <td>2201146</td>\n      <td>Aditi</td>\n      <td>Pandurang</td>\n      <td>Patil</td>\n      <td>21.0</td>\n      <td>8.00</td>\n      <td>Female</td>\n      <td>Football</td>\n      <td>Ahmednagar</td>\n      <td>2017</td>\n    </tr>\n    <tr>\n      <th>29</th>\n      <td>2201188</td>\n      <td>Akshata</td>\n      <td>vijay</td>\n      <td>thakre</td>\n      <td>NaN</td>\n      <td>75.00</td>\n      <td>Female</td>\n      <td>cricket</td>\n      <td>pune</td>\n      <td>2017</td>\n    </tr>\n    <tr>\n      <th>30</th>\n      <td>2201141</td>\n      <td>Mahima</td>\n      <td>Lallan</td>\n      <td>Pal</td>\n      <td>22.0</td>\n      <td>7.68</td>\n      <td>Female</td>\n      <td>badminton</td>\n      <td>patna</td>\n      <td>2015</td>\n    </tr>\n    <tr>\n      <th>31</th>\n      <td>2201113</td>\n      <td>Aishwarya</td>\n      <td>Prasad</td>\n      <td>Lokhande</td>\n      <td>22.0</td>\n      <td>9.10</td>\n      <td>Female</td>\n      <td>badminton</td>\n      <td>pune</td>\n      <td>2017</td>\n    </tr>\n    <tr>\n      <th>32</th>\n      <td>2201155</td>\n      <td>Manali</td>\n      <td>Prayag</td>\n      <td>Petare</td>\n      <td>21.0</td>\n      <td>7.90</td>\n      <td>Female</td>\n      <td>Football</td>\n      <td>Sangli</td>\n      <td>2017</td>\n    </tr>\n    <tr>\n      <th>33</th>\n      <td>2201116</td>\n      <td>Ankita</td>\n      <td>Tanaji</td>\n      <td>Madane</td>\n      <td>NaN</td>\n      <td>7.00</td>\n      <td>Female</td>\n      <td>Cricket</td>\n      <td>karad</td>\n      <td>2017</td>\n    </tr>\n    <tr>\n      <th>34</th>\n      <td>2201152</td>\n      <td>Yash</td>\n      <td>Rajgonda</td>\n      <td>Patil</td>\n      <td>21.0</td>\n      <td>7.21</td>\n      <td>Male</td>\n      <td>Cricket</td>\n      <td>Kolhapur</td>\n      <td>2017</td>\n    </tr>\n    <tr>\n      <th>35</th>\n      <td>2201139</td>\n      <td>Apeksha</td>\n      <td>D</td>\n      <td>Nimje</td>\n      <td>21.0</td>\n      <td>8.00</td>\n      <td>Female</td>\n      <td>Basketball</td>\n      <td>Nagpur</td>\n      <td>2017</td>\n    </tr>\n    <tr>\n      <th>36</th>\n      <td>2201206</td>\n      <td>Saurabh</td>\n      <td>Sanjay</td>\n      <td>Zute</td>\n      <td>NaN</td>\n      <td>7.50</td>\n      <td>Male</td>\n      <td>Cricket</td>\n      <td>Parbhani</td>\n      <td>2016</td>\n    </tr>\n    <tr>\n      <th>37</th>\n      <td>2201200</td>\n      <td>Kshitij</td>\n      <td>Kishor</td>\n      <td>Wani</td>\n      <td>NaN</td>\n      <td>7.60</td>\n      <td>Male</td>\n      <td>Cricket</td>\n      <td>Nagpur</td>\n      <td>2015</td>\n    </tr>\n    <tr>\n      <th>38</th>\n      <td>2201123</td>\n      <td>Sandesh</td>\n      <td>Sudhir</td>\n      <td>Manohar</td>\n      <td>22.0</td>\n      <td>7.54</td>\n      <td>Male</td>\n      <td>Football</td>\n      <td>Mumbai</td>\n      <td>2016</td>\n    </tr>\n    <tr>\n      <th>39</th>\n      <td>2201158</td>\n      <td>Suyog</td>\n      <td>Bapurao</td>\n      <td>Raut</td>\n      <td>22.0</td>\n      <td>7.67</td>\n      <td>Male</td>\n      <td>cricket</td>\n      <td>pune</td>\n      <td>2017</td>\n    </tr>\n    <tr>\n      <th>40</th>\n      <td>2201104</td>\n      <td>Prerna</td>\n      <td>Nitin</td>\n      <td>Kukade</td>\n      <td>21.0</td>\n      <td>7.40</td>\n      <td>Female</td>\n      <td>Badminton</td>\n      <td>Pune</td>\n      <td>2017</td>\n    </tr>\n    <tr>\n      <th>41</th>\n      <td>220143</td>\n      <td>sakshi</td>\n      <td>santosh</td>\n      <td>patidar</td>\n      <td>22.0</td>\n      <td>10.00</td>\n      <td>Female</td>\n      <td>cricket</td>\n      <td>durg</td>\n      <td>2015</td>\n    </tr>\n    <tr>\n      <th>42</th>\n      <td>2201205</td>\n      <td>Jyoti</td>\n      <td>.</td>\n      <td>Yadav</td>\n      <td>NaN</td>\n      <td>8.14</td>\n      <td>Female</td>\n      <td>Cricket</td>\n      <td>Alwar</td>\n      <td>2012</td>\n    </tr>\n    <tr>\n      <th>43</th>\n      <td>2201117</td>\n      <td>NILESH</td>\n      <td>PRAKASH</td>\n      <td>MAHAJAN</td>\n      <td>22.0</td>\n      <td>7.56</td>\n      <td>Male</td>\n      <td>BADMINTON</td>\n      <td>WADGAON</td>\n      <td>2017</td>\n    </tr>\n    <tr>\n      <th>44</th>\n      <td>2201166</td>\n      <td>Pranav</td>\n      <td>Pravin</td>\n      <td>Sarkale</td>\n      <td>21.0</td>\n      <td>7.96</td>\n      <td>Male</td>\n      <td>Carrom</td>\n      <td>Pune</td>\n      <td>2017</td>\n    </tr>\n    <tr>\n      <th>45</th>\n      <td>2201167</td>\n      <td>Raj</td>\n      <td>Rajendra</td>\n      <td>kumar</td>\n      <td>22.0</td>\n      <td>9.60</td>\n      <td>Male</td>\n      <td>cricket</td>\n      <td>pune</td>\n      <td>2016</td>\n    </tr>\n    <tr>\n      <th>46</th>\n      <td>2201157</td>\n      <td>Nikhil</td>\n      <td>Ashok</td>\n      <td>Rande</td>\n      <td>NaN</td>\n      <td>7.00</td>\n      <td>Male</td>\n      <td>Kabaddi</td>\n      <td>Akot</td>\n      <td>2016</td>\n    </tr>\n    <tr>\n      <th>47</th>\n      <td>2201118</td>\n      <td>‎ Shubham</td>\n      <td>‎ Sanjay</td>\n      <td>‎ Mali</td>\n      <td>21.0</td>\n      <td>9.15</td>\n      <td>Male</td>\n      <td>‎ Cricket</td>\n      <td>‎ Pune</td>\n      <td>2017</td>\n    </tr>\n    <tr>\n      <th>48</th>\n      <td>2201194</td>\n      <td>shraddha</td>\n      <td>jaiprakash</td>\n      <td>varma</td>\n      <td>22.0</td>\n      <td>7.89</td>\n      <td>Female</td>\n      <td>badminton</td>\n      <td>wani</td>\n      <td>2017</td>\n    </tr>\n    <tr>\n      <th>49</th>\n      <td>2201106</td>\n      <td>Priya</td>\n      <td>Pradip</td>\n      <td>Kulkarni</td>\n      <td>22.0</td>\n      <td>8.00</td>\n      <td>Female</td>\n      <td>Badminton</td>\n      <td>Pune</td>\n      <td>2017</td>\n    </tr>\n    <tr>\n      <th>50</th>\n      <td>2201107</td>\n      <td>Swapnil</td>\n      <td>Suhas</td>\n      <td>Kulkarni</td>\n      <td>22.0</td>\n      <td>7.28</td>\n      <td>Male</td>\n      <td>Cricket</td>\n      <td>Pune</td>\n      <td>2016</td>\n    </tr>\n  </tbody>\n</table>\n</div>"
          },
          "metadata": {}
        }
      ]
    },
    {
      "cell_type": "code",
      "source": "df.describe()",
      "metadata": {
        "trusted": true
      },
      "execution_count": 62,
      "outputs": [
        {
          "execution_count": 62,
          "output_type": "execute_result",
          "data": {
            "text/plain": "           roll_num        age       sgpa  year_of_passing_10th\ncount  5.100000e+01  39.000000  51.000000             51.000000\nmean   2.118559e+06  21.871795   9.383333           2016.352941\nstd    3.889351e+05   0.893823   9.396436              1.110379\nmin    2.201260e+05  20.000000   7.000000           2012.000000\n25%    2.201118e+06  21.000000   7.620000           2016.000000\n50%    2.201146e+06  22.000000   7.960000           2017.000000\n75%    2.201174e+06  22.000000   8.430000           2017.000000\nmax    2.201206e+06  25.000000  75.000000           2018.000000",
            "text/html": "<div>\n<style scoped>\n    .dataframe tbody tr th:only-of-type {\n        vertical-align: middle;\n    }\n\n    .dataframe tbody tr th {\n        vertical-align: top;\n    }\n\n    .dataframe thead th {\n        text-align: right;\n    }\n</style>\n<table border=\"1\" class=\"dataframe\">\n  <thead>\n    <tr style=\"text-align: right;\">\n      <th></th>\n      <th>roll_num</th>\n      <th>age</th>\n      <th>sgpa</th>\n      <th>year_of_passing_10th</th>\n    </tr>\n  </thead>\n  <tbody>\n    <tr>\n      <th>count</th>\n      <td>5.100000e+01</td>\n      <td>39.000000</td>\n      <td>51.000000</td>\n      <td>51.000000</td>\n    </tr>\n    <tr>\n      <th>mean</th>\n      <td>2.118559e+06</td>\n      <td>21.871795</td>\n      <td>9.383333</td>\n      <td>2016.352941</td>\n    </tr>\n    <tr>\n      <th>std</th>\n      <td>3.889351e+05</td>\n      <td>0.893823</td>\n      <td>9.396436</td>\n      <td>1.110379</td>\n    </tr>\n    <tr>\n      <th>min</th>\n      <td>2.201260e+05</td>\n      <td>20.000000</td>\n      <td>7.000000</td>\n      <td>2012.000000</td>\n    </tr>\n    <tr>\n      <th>25%</th>\n      <td>2.201118e+06</td>\n      <td>21.000000</td>\n      <td>7.620000</td>\n      <td>2016.000000</td>\n    </tr>\n    <tr>\n      <th>50%</th>\n      <td>2.201146e+06</td>\n      <td>22.000000</td>\n      <td>7.960000</td>\n      <td>2017.000000</td>\n    </tr>\n    <tr>\n      <th>75%</th>\n      <td>2.201174e+06</td>\n      <td>22.000000</td>\n      <td>8.430000</td>\n      <td>2017.000000</td>\n    </tr>\n    <tr>\n      <th>max</th>\n      <td>2.201206e+06</td>\n      <td>25.000000</td>\n      <td>75.000000</td>\n      <td>2018.000000</td>\n    </tr>\n  </tbody>\n</table>\n</div>"
          },
          "metadata": {}
        }
      ]
    },
    {
      "cell_type": "code",
      "source": "df.info()",
      "metadata": {
        "trusted": true
      },
      "execution_count": 63,
      "outputs": [
        {
          "name": "stdout",
          "text": "<class 'pandas.core.frame.DataFrame'>\nRangeIndex: 51 entries, 0 to 50\nData columns (total 10 columns):\n #   Column                Non-Null Count  Dtype  \n---  ------                --------------  -----  \n 0   roll_num              51 non-null     int64  \n 1   name                  51 non-null     object \n 2   middlename            51 non-null     object \n 3   surname               51 non-null     object \n 4   age                   39 non-null     float64\n 5   sgpa                  51 non-null     float64\n 6   gender                51 non-null     object \n 7   favorite_sport        51 non-null     object \n 8   native_city           51 non-null     object \n 9   year_of_passing_10th  51 non-null     int64  \ndtypes: float64(2), int64(2), object(6)\nmemory usage: 2.9+ KB\n",
          "output_type": "stream"
        }
      ]
    },
    {
      "cell_type": "code",
      "source": "df.count()",
      "metadata": {
        "trusted": true
      },
      "execution_count": 64,
      "outputs": [
        {
          "execution_count": 64,
          "output_type": "execute_result",
          "data": {
            "text/plain": "roll_num                51\nname                    51\nmiddlename              51\nsurname                 51\nage                     39\nsgpa                    51\ngender                  51\nfavorite_sport          51\nnative_city             51\nyear_of_passing_10th    51\ndtype: int64"
          },
          "metadata": {}
        }
      ]
    },
    {
      "cell_type": "code",
      "source": "df.min()",
      "metadata": {
        "trusted": true
      },
      "execution_count": 65,
      "outputs": [
        {
          "execution_count": 65,
          "output_type": "execute_result",
          "data": {
            "text/plain": "roll_num                    220126\nname                      Saurabh \nmiddlename                        \nsurname                     Madane\nage                           20.0\nsgpa                           7.0\ngender                      Female\nfavorite_sport                   -\nnative_city             Ahmednagar\nyear_of_passing_10th          2012\ndtype: object"
          },
          "metadata": {}
        }
      ]
    },
    {
      "cell_type": "code",
      "source": "df.max()",
      "metadata": {
        "trusted": true
      },
      "execution_count": 66,
      "outputs": [
        {
          "execution_count": 66,
          "output_type": "execute_result",
          "data": {
            "text/plain": "roll_num                  2201206\nname                    ‎ Shubham\nmiddlename               ‎ Sanjay\nsurname                    ‎ Mali\nage                          25.0\nsgpa                         75.0\ngender                       Male\nfavorite_sport          ‎ Cricket\nnative_city                ‎ Pune\nyear_of_passing_10th         2018\ndtype: object"
          },
          "metadata": {}
        }
      ]
    },
    {
      "cell_type": "code",
      "source": "df.sum()",
      "metadata": {
        "trusted": true
      },
      "execution_count": 67,
      "outputs": [
        {
          "execution_count": 67,
          "output_type": "execute_result",
          "data": {
            "text/plain": "roll_num                                                        108046521\nname                    ShubhamPranavPratik RanvirSiddhesh SairajRahul...\nmiddlename              Kumar PrashantSharad GajananSureshShirishKumar...\nsurname                 SinhaModaleMasalkarPawarUttekarLumpatkiKumarMa...\nage                                                                 853.0\nsgpa                                                               478.55\ngender                  MaleMaleMaleMaleMaleMaleMaleMaleMaleMaleMaleMa...\nfavorite_sport          Cricket , FootballCricketBadmintonchesscricket...\nnative_city             PatnaPunePunebuldanaPuneAhmednagarRanchiLaturi...\nyear_of_passing_10th                                               102834\ndtype: object"
          },
          "metadata": {}
        }
      ]
    },
    {
      "cell_type": "code",
      "source": "df.mean()",
      "metadata": {
        "trusted": true
      },
      "execution_count": 69,
      "outputs": [
        {
          "name": "stderr",
          "text": "<ipython-input-69-c61f0c8f89b5>:1: FutureWarning: The default value of numeric_only in DataFrame.mean is deprecated. In a future version, it will default to False. In addition, specifying 'numeric_only=None' is deprecated. Select only valid columns or specify the value of numeric_only to silence this warning.\n  df.mean()\n",
          "output_type": "stream"
        },
        {
          "execution_count": 69,
          "output_type": "execute_result",
          "data": {
            "text/plain": "roll_num                2.118559e+06\nage                     2.187179e+01\nsgpa                    9.383333e+00\nyear_of_passing_10th    2.016353e+03\ndtype: float64"
          },
          "metadata": {}
        }
      ]
    },
    {
      "cell_type": "code",
      "source": "df.median()",
      "metadata": {
        "trusted": true
      },
      "execution_count": 70,
      "outputs": [
        {
          "name": "stderr",
          "text": "<ipython-input-70-6d467abf240d>:1: FutureWarning: The default value of numeric_only in DataFrame.median is deprecated. In a future version, it will default to False. In addition, specifying 'numeric_only=None' is deprecated. Select only valid columns or specify the value of numeric_only to silence this warning.\n  df.median()\n",
          "output_type": "stream"
        },
        {
          "execution_count": 70,
          "output_type": "execute_result",
          "data": {
            "text/plain": "roll_num                2201146.00\nage                          22.00\nsgpa                          7.96\nyear_of_passing_10th       2017.00\ndtype: float64"
          },
          "metadata": {}
        }
      ]
    },
    {
      "cell_type": "code",
      "source": "df.std()",
      "metadata": {
        "trusted": true
      },
      "execution_count": 71,
      "outputs": [
        {
          "name": "stderr",
          "text": "<ipython-input-71-ce97bb7eaef8>:1: FutureWarning: The default value of numeric_only in DataFrame.std is deprecated. In a future version, it will default to False. In addition, specifying 'numeric_only=None' is deprecated. Select only valid columns or specify the value of numeric_only to silence this warning.\n  df.std()\n",
          "output_type": "stream"
        },
        {
          "execution_count": 71,
          "output_type": "execute_result",
          "data": {
            "text/plain": "roll_num                388935.108564\nage                          0.893823\nsgpa                         9.396436\nyear_of_passing_10th         1.110379\ndtype: float64"
          },
          "metadata": {}
        }
      ]
    },
    {
      "cell_type": "code",
      "source": "df['sgpa'].mean()",
      "metadata": {
        "trusted": true
      },
      "execution_count": 72,
      "outputs": [
        {
          "execution_count": 72,
          "output_type": "execute_result",
          "data": {
            "text/plain": "9.383333333333333"
          },
          "metadata": {}
        }
      ]
    },
    {
      "cell_type": "code",
      "source": "df['sgpa'].max()",
      "metadata": {
        "trusted": true
      },
      "execution_count": 74,
      "outputs": [
        {
          "execution_count": 74,
          "output_type": "execute_result",
          "data": {
            "text/plain": "75.0"
          },
          "metadata": {}
        }
      ]
    },
    {
      "cell_type": "code",
      "source": "df['sgpa'].min()",
      "metadata": {
        "trusted": true
      },
      "execution_count": 75,
      "outputs": [
        {
          "execution_count": 75,
          "output_type": "execute_result",
          "data": {
            "text/plain": "7.0"
          },
          "metadata": {}
        }
      ]
    },
    {
      "cell_type": "code",
      "source": "df['sgpa'].sum()",
      "metadata": {
        "trusted": true
      },
      "execution_count": 76,
      "outputs": [
        {
          "execution_count": 76,
          "output_type": "execute_result",
          "data": {
            "text/plain": "478.54999999999995"
          },
          "metadata": {}
        }
      ]
    },
    {
      "cell_type": "markdown",
      "source": "### string function",
      "metadata": {}
    },
    {
      "cell_type": "code",
      "source": "df['name'].str.upper()",
      "metadata": {
        "trusted": true
      },
      "execution_count": 77,
      "outputs": [
        {
          "execution_count": 77,
          "output_type": "execute_result",
          "data": {
            "text/plain": "0       SHUBHAM\n1        PRANAV\n2       PRATIK \n3        RANVIR\n4     SIDDHESH \n5        SAIRAJ\n6        RAHUL \n7        AKASH \n8        HARSH \n9         OMKAR\n10      PRAJWAL\n11       TEJAS \n12      VAIBHAV\n13      GAURAV \n14      SINDURA\n15      HITESH \n16      JANHAVI\n17         RAJ \n18       MANISH\n19      MUSKAN \n20    ASHUTOSH \n21        VIVEK\n22    SHARVARI \n23       LEENA \n24      VEDIKA \n25     ATHARVA \n26    HIMANSHI \n27     HARSHITA\n28        ADITI\n29      AKSHATA\n30      MAHIMA \n31    AISHWARYA\n32      MANALI \n33      ANKITA \n34         YASH\n35     APEKSHA \n36     SAURABH \n37      KSHITIJ\n38     SANDESH \n39        SUYOG\n40      PRERNA \n41       SAKSHI\n42       JYOTI \n43      NILESH \n44       PRANAV\n45          RAJ\n46       NIKHIL\n47    ‎ SHUBHAM\n48    SHRADDHA \n49       PRIYA \n50      SWAPNIL\nName: name, dtype: object"
          },
          "metadata": {}
        }
      ]
    },
    {
      "cell_type": "code",
      "source": "df['name'].str.lower()",
      "metadata": {
        "trusted": true
      },
      "execution_count": 78,
      "outputs": [
        {
          "execution_count": 78,
          "output_type": "execute_result",
          "data": {
            "text/plain": "0       shubham\n1        pranav\n2       pratik \n3        ranvir\n4     siddhesh \n5        sairaj\n6        rahul \n7        akash \n8        harsh \n9         omkar\n10      prajwal\n11       tejas \n12      vaibhav\n13      gaurav \n14      sindura\n15      hitesh \n16      janhavi\n17         raj \n18       manish\n19      muskan \n20    ashutosh \n21        vivek\n22    sharvari \n23       leena \n24      vedika \n25     atharva \n26    himanshi \n27     harshita\n28        aditi\n29      akshata\n30      mahima \n31    aishwarya\n32      manali \n33      ankita \n34         yash\n35     apeksha \n36     saurabh \n37      kshitij\n38     sandesh \n39        suyog\n40      prerna \n41       sakshi\n42       jyoti \n43      nilesh \n44       pranav\n45          raj\n46       nikhil\n47    ‎ shubham\n48    shraddha \n49       priya \n50      swapnil\nName: name, dtype: object"
          },
          "metadata": {}
        }
      ]
    },
    {
      "cell_type": "code",
      "source": "df['name'].str.title()",
      "metadata": {
        "trusted": true
      },
      "execution_count": 79,
      "outputs": [
        {
          "execution_count": 79,
          "output_type": "execute_result",
          "data": {
            "text/plain": "0       Shubham\n1        Pranav\n2       Pratik \n3        Ranvir\n4     Siddhesh \n5        Sairaj\n6        Rahul \n7        Akash \n8        Harsh \n9         Omkar\n10      Prajwal\n11       Tejas \n12      Vaibhav\n13      Gaurav \n14      Sindura\n15      Hitesh \n16      Janhavi\n17         Raj \n18       Manish\n19      Muskan \n20    Ashutosh \n21        Vivek\n22    Sharvari \n23       Leena \n24      Vedika \n25     Atharva \n26    Himanshi \n27     Harshita\n28        Aditi\n29      Akshata\n30      Mahima \n31    Aishwarya\n32      Manali \n33      Ankita \n34         Yash\n35     Apeksha \n36     Saurabh \n37      Kshitij\n38     Sandesh \n39        Suyog\n40      Prerna \n41       Sakshi\n42       Jyoti \n43      Nilesh \n44       Pranav\n45          Raj\n46       Nikhil\n47    ‎ Shubham\n48    Shraddha \n49       Priya \n50      Swapnil\nName: name, dtype: object"
          },
          "metadata": {}
        }
      ]
    },
    {
      "cell_type": "code",
      "source": "df['name']",
      "metadata": {
        "trusted": true
      },
      "execution_count": 80,
      "outputs": [
        {
          "execution_count": 80,
          "output_type": "execute_result",
          "data": {
            "text/plain": "0       Shubham\n1        Pranav\n2       Pratik \n3        Ranvir\n4     Siddhesh \n5        Sairaj\n6        Rahul \n7        Akash \n8        harsh \n9         Omkar\n10      Prajwal\n11       tejas \n12      Vaibhav\n13      Gaurav \n14      sindura\n15      Hitesh \n16      Janhavi\n17         Raj \n18       Manish\n19      muskan \n20    Ashutosh \n21        VIVEK\n22    Sharvari \n23       Leena \n24      vedika \n25     Atharva \n26    himanshi \n27     Harshita\n28        Aditi\n29      Akshata\n30      Mahima \n31    Aishwarya\n32      Manali \n33      Ankita \n34         Yash\n35     Apeksha \n36     Saurabh \n37      Kshitij\n38     Sandesh \n39        Suyog\n40      Prerna \n41       sakshi\n42       Jyoti \n43      NILESH \n44       Pranav\n45          Raj\n46       Nikhil\n47    ‎ Shubham\n48    shraddha \n49       Priya \n50      Swapnil\nName: name, dtype: object"
          },
          "metadata": {}
        }
      ]
    },
    {
      "cell_type": "code",
      "source": "df['name'].str.strip()",
      "metadata": {
        "trusted": true
      },
      "execution_count": 81,
      "outputs": [
        {
          "execution_count": 81,
          "output_type": "execute_result",
          "data": {
            "text/plain": "0       Shubham\n1        Pranav\n2        Pratik\n3        Ranvir\n4      Siddhesh\n5        Sairaj\n6         Rahul\n7         Akash\n8         harsh\n9         Omkar\n10      Prajwal\n11        tejas\n12      Vaibhav\n13       Gaurav\n14      sindura\n15       Hitesh\n16      Janhavi\n17          Raj\n18       Manish\n19       muskan\n20     Ashutosh\n21        VIVEK\n22     Sharvari\n23        Leena\n24       vedika\n25      Atharva\n26     himanshi\n27     Harshita\n28        Aditi\n29      Akshata\n30       Mahima\n31    Aishwarya\n32       Manali\n33       Ankita\n34         Yash\n35      Apeksha\n36      Saurabh\n37      Kshitij\n38      Sandesh\n39        Suyog\n40       Prerna\n41       sakshi\n42        Jyoti\n43       NILESH\n44       Pranav\n45          Raj\n46       Nikhil\n47    ‎ Shubham\n48     shraddha\n49        Priya\n50      Swapnil\nName: name, dtype: object"
          },
          "metadata": {}
        }
      ]
    },
    {
      "cell_type": "code",
      "source": "df['name'] = df['name'].str.strip()\ndf['middlename'] = df['middlename'].str.strip()\ndf['surname'] = df['surname'].str.strip()\ndf['favorite_sport'] = df['favorite_sport'].str.strip()\ndf['native_city'] = df['native_city'].str.strip()",
      "metadata": {
        "trusted": true
      },
      "execution_count": 82,
      "outputs": []
    },
    {
      "cell_type": "code",
      "source": "df['name'] = df['name'].str.title()\ndf['middlename'] = df['middlename'].str.title()\ndf['surname'] = df['surname'].str.title()\ndf['favorite_sport'] = df['favorite_sport'].str.title()\ndf['native_city'] = df['native_city'].str.title()",
      "metadata": {
        "trusted": true
      },
      "execution_count": 83,
      "outputs": []
    },
    {
      "cell_type": "code",
      "source": "df",
      "metadata": {
        "trusted": true
      },
      "execution_count": 84,
      "outputs": [
        {
          "execution_count": 84,
          "output_type": "execute_result",
          "data": {
            "text/plain": "    roll_num       name   middlename     surname   age   sgpa  gender  \\\n0    2201184    Shubham        Kumar       Sinha  23.0   8.29    Male   \n1    2201129     Pranav     Prashant      Modale  25.0   7.80    Male   \n2    2201125     Pratik       Sharad    Masalkar   NaN   8.31    Male   \n3    2201154     Ranvir      Gajanan       Pawar   NaN   8.00    Male   \n4    2201193   Siddhesh       Suresh     Uttekar  21.0   8.40    Male   \n5    2201115     Sairaj      Shirish    Lumpatki  20.0   8.71    Male   \n6    2201110      Rahul        Kumar       Kumar  23.0   7.50    Male   \n7    2201124      Akash     Sambhaji     Markile   NaN   7.79    Male   \n8    2201145      Harsh      Subhash     Patidar  22.0   8.00    Male   \n9    2201105      Omkar       Milind    Kulkarni  22.0   9.81    Male   \n10   2201171    Prajwal       Pramod     Shendge  21.0   7.90    Male   \n11   2201121      Tejas  Uttareshwar        Mane   NaN   7.85    Male   \n12   2201159    Vaibhav       Kailas        Raut   NaN   7.00    Male   \n13   2201173     Gaurav        Mohan      Shimpi  22.0   8.90    Male   \n14   2201182    Sindura        Singh     Rathore  23.0   8.10  Female   \n15   2201130     Hitesh  Dnyaneshwar   Mohadikar  22.0   8.25    Male   \n16   2201163    Janhavi         Ajit  Sangaonkar   NaN   8.75  Female   \n17   2201195        Raj                    Verma  23.0   7.71    Male   \n18   2201187     Manish       Maruti        Teke  22.0   8.46    Male   \n19   1951022     Muskan      Shabbir      Shipai  21.0   8.05  Female   \n20   2201164   Ashutosh     Ghansham       Saoji  23.0   7.54    Male   \n21   2201133      Vivek     Yeshavnt        More  21.0   7.60    Male   \n22   2201175   Sharvari        Sunil      Shinde  22.0   7.82  Female   \n23   2201190      Leena       Sanjay      Thorat  22.0   7.89  Female   \n24   2201085     Vedika  Gorakshanth    Kandekar  22.0   8.89  Female   \n25   2201144    Atharva       Jayant    Paradkar  23.0   7.64    Male   \n26   2201196   Himanshi                     Vyas  22.0   8.80  Female   \n27    220126   Harshita                   Maurya  21.0   8.61  Female   \n28   2201146      Aditi    Pandurang       Patil  21.0   8.00  Female   \n29   2201188    Akshata        Vijay      Thakre   NaN  75.00  Female   \n30   2201141     Mahima       Lallan         Pal  22.0   7.68  Female   \n31   2201113  Aishwarya       Prasad    Lokhande  22.0   9.10  Female   \n32   2201155     Manali       Prayag      Petare  21.0   7.90  Female   \n33   2201116     Ankita       Tanaji      Madane   NaN   7.00  Female   \n34   2201152       Yash     Rajgonda       Patil  21.0   7.21    Male   \n35   2201139    Apeksha            D       Nimje  21.0   8.00  Female   \n36   2201206    Saurabh       Sanjay        Zute   NaN   7.50    Male   \n37   2201200    Kshitij       Kishor        Wani   NaN   7.60    Male   \n38   2201123    Sandesh       Sudhir     Manohar  22.0   7.54    Male   \n39   2201158      Suyog      Bapurao        Raut  22.0   7.67    Male   \n40   2201104     Prerna        Nitin      Kukade  21.0   7.40  Female   \n41    220143     Sakshi      Santosh     Patidar  22.0  10.00  Female   \n42   2201205      Jyoti            .       Yadav   NaN   8.14  Female   \n43   2201117     Nilesh      Prakash     Mahajan  22.0   7.56    Male   \n44   2201166     Pranav       Pravin     Sarkale  21.0   7.96    Male   \n45   2201167        Raj     Rajendra       Kumar  22.0   9.60    Male   \n46   2201157     Nikhil        Ashok       Rande   NaN   7.00    Male   \n47   2201118  ‎ Shubham     ‎ Sanjay      ‎ Mali  21.0   9.15    Male   \n48   2201194   Shraddha   Jaiprakash       Varma  22.0   7.89  Female   \n49   2201106      Priya       Pradip    Kulkarni  22.0   8.00  Female   \n50   2201107    Swapnil        Suhas    Kulkarni  22.0   7.28    Male   \n\n        favorite_sport  native_city  year_of_passing_10th  \n0   Cricket , Football        Patna                  2014  \n1              Cricket         Pune                  2014  \n2            Badminton         Pune                  2017  \n3                Chess      Buldana                  2014  \n4              Cricket         Pune                  2016  \n5           Volleyball   Ahmednagar                  2017  \n6            Badminton       Ranchi                  2015  \n7              Cricket        Latur                  2016  \n8           Volleyball       Indore                  2016  \n9     Sachin Tendulkar         Pune                  2018  \n10             Cricket        Miraj                  2018  \n11             Cricket     Baramati                  2016  \n12        Table Tennis         Beed                  2016  \n13             Cricket      Shahada                  2017  \n14             Cricket  Muzzafarpur                  2017  \n15             Cricket       Nagpur                  2017  \n16           Badminton     Kolhapur                  2017  \n17             Cricket   Jamshedpur                  2017  \n18             Cricket         Pune                  2016  \n19             Cricket         Pune                  2017  \n20             Cricket        Akola                  2017  \n21        Table Tennis     Kolhapur                  2017  \n22             Cricket        Karad                  2016  \n23           Badminton       Shirdi                  2017  \n24                   -   Ahmednagar                  2017  \n25            Football         Pune                  2016  \n26             Cricket       Indore                  2017  \n27           Vollyball         Pune                  2017  \n28            Football   Ahmednagar                  2017  \n29             Cricket         Pune                  2017  \n30           Badminton        Patna                  2015  \n31           Badminton         Pune                  2017  \n32            Football       Sangli                  2017  \n33             Cricket        Karad                  2017  \n34             Cricket     Kolhapur                  2017  \n35          Basketball       Nagpur                  2017  \n36             Cricket     Parbhani                  2016  \n37             Cricket       Nagpur                  2015  \n38            Football       Mumbai                  2016  \n39             Cricket         Pune                  2017  \n40           Badminton         Pune                  2017  \n41             Cricket         Durg                  2015  \n42             Cricket        Alwar                  2012  \n43           Badminton      Wadgaon                  2017  \n44              Carrom         Pune                  2017  \n45             Cricket         Pune                  2016  \n46             Kabaddi         Akot                  2016  \n47           ‎ Cricket       ‎ Pune                  2017  \n48           Badminton         Wani                  2017  \n49           Badminton         Pune                  2017  \n50             Cricket         Pune                  2016  ",
            "text/html": "<div>\n<style scoped>\n    .dataframe tbody tr th:only-of-type {\n        vertical-align: middle;\n    }\n\n    .dataframe tbody tr th {\n        vertical-align: top;\n    }\n\n    .dataframe thead th {\n        text-align: right;\n    }\n</style>\n<table border=\"1\" class=\"dataframe\">\n  <thead>\n    <tr style=\"text-align: right;\">\n      <th></th>\n      <th>roll_num</th>\n      <th>name</th>\n      <th>middlename</th>\n      <th>surname</th>\n      <th>age</th>\n      <th>sgpa</th>\n      <th>gender</th>\n      <th>favorite_sport</th>\n      <th>native_city</th>\n      <th>year_of_passing_10th</th>\n    </tr>\n  </thead>\n  <tbody>\n    <tr>\n      <th>0</th>\n      <td>2201184</td>\n      <td>Shubham</td>\n      <td>Kumar</td>\n      <td>Sinha</td>\n      <td>23.0</td>\n      <td>8.29</td>\n      <td>Male</td>\n      <td>Cricket , Football</td>\n      <td>Patna</td>\n      <td>2014</td>\n    </tr>\n    <tr>\n      <th>1</th>\n      <td>2201129</td>\n      <td>Pranav</td>\n      <td>Prashant</td>\n      <td>Modale</td>\n      <td>25.0</td>\n      <td>7.80</td>\n      <td>Male</td>\n      <td>Cricket</td>\n      <td>Pune</td>\n      <td>2014</td>\n    </tr>\n    <tr>\n      <th>2</th>\n      <td>2201125</td>\n      <td>Pratik</td>\n      <td>Sharad</td>\n      <td>Masalkar</td>\n      <td>NaN</td>\n      <td>8.31</td>\n      <td>Male</td>\n      <td>Badminton</td>\n      <td>Pune</td>\n      <td>2017</td>\n    </tr>\n    <tr>\n      <th>3</th>\n      <td>2201154</td>\n      <td>Ranvir</td>\n      <td>Gajanan</td>\n      <td>Pawar</td>\n      <td>NaN</td>\n      <td>8.00</td>\n      <td>Male</td>\n      <td>Chess</td>\n      <td>Buldana</td>\n      <td>2014</td>\n    </tr>\n    <tr>\n      <th>4</th>\n      <td>2201193</td>\n      <td>Siddhesh</td>\n      <td>Suresh</td>\n      <td>Uttekar</td>\n      <td>21.0</td>\n      <td>8.40</td>\n      <td>Male</td>\n      <td>Cricket</td>\n      <td>Pune</td>\n      <td>2016</td>\n    </tr>\n    <tr>\n      <th>5</th>\n      <td>2201115</td>\n      <td>Sairaj</td>\n      <td>Shirish</td>\n      <td>Lumpatki</td>\n      <td>20.0</td>\n      <td>8.71</td>\n      <td>Male</td>\n      <td>Volleyball</td>\n      <td>Ahmednagar</td>\n      <td>2017</td>\n    </tr>\n    <tr>\n      <th>6</th>\n      <td>2201110</td>\n      <td>Rahul</td>\n      <td>Kumar</td>\n      <td>Kumar</td>\n      <td>23.0</td>\n      <td>7.50</td>\n      <td>Male</td>\n      <td>Badminton</td>\n      <td>Ranchi</td>\n      <td>2015</td>\n    </tr>\n    <tr>\n      <th>7</th>\n      <td>2201124</td>\n      <td>Akash</td>\n      <td>Sambhaji</td>\n      <td>Markile</td>\n      <td>NaN</td>\n      <td>7.79</td>\n      <td>Male</td>\n      <td>Cricket</td>\n      <td>Latur</td>\n      <td>2016</td>\n    </tr>\n    <tr>\n      <th>8</th>\n      <td>2201145</td>\n      <td>Harsh</td>\n      <td>Subhash</td>\n      <td>Patidar</td>\n      <td>22.0</td>\n      <td>8.00</td>\n      <td>Male</td>\n      <td>Volleyball</td>\n      <td>Indore</td>\n      <td>2016</td>\n    </tr>\n    <tr>\n      <th>9</th>\n      <td>2201105</td>\n      <td>Omkar</td>\n      <td>Milind</td>\n      <td>Kulkarni</td>\n      <td>22.0</td>\n      <td>9.81</td>\n      <td>Male</td>\n      <td>Sachin Tendulkar</td>\n      <td>Pune</td>\n      <td>2018</td>\n    </tr>\n    <tr>\n      <th>10</th>\n      <td>2201171</td>\n      <td>Prajwal</td>\n      <td>Pramod</td>\n      <td>Shendge</td>\n      <td>21.0</td>\n      <td>7.90</td>\n      <td>Male</td>\n      <td>Cricket</td>\n      <td>Miraj</td>\n      <td>2018</td>\n    </tr>\n    <tr>\n      <th>11</th>\n      <td>2201121</td>\n      <td>Tejas</td>\n      <td>Uttareshwar</td>\n      <td>Mane</td>\n      <td>NaN</td>\n      <td>7.85</td>\n      <td>Male</td>\n      <td>Cricket</td>\n      <td>Baramati</td>\n      <td>2016</td>\n    </tr>\n    <tr>\n      <th>12</th>\n      <td>2201159</td>\n      <td>Vaibhav</td>\n      <td>Kailas</td>\n      <td>Raut</td>\n      <td>NaN</td>\n      <td>7.00</td>\n      <td>Male</td>\n      <td>Table Tennis</td>\n      <td>Beed</td>\n      <td>2016</td>\n    </tr>\n    <tr>\n      <th>13</th>\n      <td>2201173</td>\n      <td>Gaurav</td>\n      <td>Mohan</td>\n      <td>Shimpi</td>\n      <td>22.0</td>\n      <td>8.90</td>\n      <td>Male</td>\n      <td>Cricket</td>\n      <td>Shahada</td>\n      <td>2017</td>\n    </tr>\n    <tr>\n      <th>14</th>\n      <td>2201182</td>\n      <td>Sindura</td>\n      <td>Singh</td>\n      <td>Rathore</td>\n      <td>23.0</td>\n      <td>8.10</td>\n      <td>Female</td>\n      <td>Cricket</td>\n      <td>Muzzafarpur</td>\n      <td>2017</td>\n    </tr>\n    <tr>\n      <th>15</th>\n      <td>2201130</td>\n      <td>Hitesh</td>\n      <td>Dnyaneshwar</td>\n      <td>Mohadikar</td>\n      <td>22.0</td>\n      <td>8.25</td>\n      <td>Male</td>\n      <td>Cricket</td>\n      <td>Nagpur</td>\n      <td>2017</td>\n    </tr>\n    <tr>\n      <th>16</th>\n      <td>2201163</td>\n      <td>Janhavi</td>\n      <td>Ajit</td>\n      <td>Sangaonkar</td>\n      <td>NaN</td>\n      <td>8.75</td>\n      <td>Female</td>\n      <td>Badminton</td>\n      <td>Kolhapur</td>\n      <td>2017</td>\n    </tr>\n    <tr>\n      <th>17</th>\n      <td>2201195</td>\n      <td>Raj</td>\n      <td></td>\n      <td>Verma</td>\n      <td>23.0</td>\n      <td>7.71</td>\n      <td>Male</td>\n      <td>Cricket</td>\n      <td>Jamshedpur</td>\n      <td>2017</td>\n    </tr>\n    <tr>\n      <th>18</th>\n      <td>2201187</td>\n      <td>Manish</td>\n      <td>Maruti</td>\n      <td>Teke</td>\n      <td>22.0</td>\n      <td>8.46</td>\n      <td>Male</td>\n      <td>Cricket</td>\n      <td>Pune</td>\n      <td>2016</td>\n    </tr>\n    <tr>\n      <th>19</th>\n      <td>1951022</td>\n      <td>Muskan</td>\n      <td>Shabbir</td>\n      <td>Shipai</td>\n      <td>21.0</td>\n      <td>8.05</td>\n      <td>Female</td>\n      <td>Cricket</td>\n      <td>Pune</td>\n      <td>2017</td>\n    </tr>\n    <tr>\n      <th>20</th>\n      <td>2201164</td>\n      <td>Ashutosh</td>\n      <td>Ghansham</td>\n      <td>Saoji</td>\n      <td>23.0</td>\n      <td>7.54</td>\n      <td>Male</td>\n      <td>Cricket</td>\n      <td>Akola</td>\n      <td>2017</td>\n    </tr>\n    <tr>\n      <th>21</th>\n      <td>2201133</td>\n      <td>Vivek</td>\n      <td>Yeshavnt</td>\n      <td>More</td>\n      <td>21.0</td>\n      <td>7.60</td>\n      <td>Male</td>\n      <td>Table Tennis</td>\n      <td>Kolhapur</td>\n      <td>2017</td>\n    </tr>\n    <tr>\n      <th>22</th>\n      <td>2201175</td>\n      <td>Sharvari</td>\n      <td>Sunil</td>\n      <td>Shinde</td>\n      <td>22.0</td>\n      <td>7.82</td>\n      <td>Female</td>\n      <td>Cricket</td>\n      <td>Karad</td>\n      <td>2016</td>\n    </tr>\n    <tr>\n      <th>23</th>\n      <td>2201190</td>\n      <td>Leena</td>\n      <td>Sanjay</td>\n      <td>Thorat</td>\n      <td>22.0</td>\n      <td>7.89</td>\n      <td>Female</td>\n      <td>Badminton</td>\n      <td>Shirdi</td>\n      <td>2017</td>\n    </tr>\n    <tr>\n      <th>24</th>\n      <td>2201085</td>\n      <td>Vedika</td>\n      <td>Gorakshanth</td>\n      <td>Kandekar</td>\n      <td>22.0</td>\n      <td>8.89</td>\n      <td>Female</td>\n      <td>-</td>\n      <td>Ahmednagar</td>\n      <td>2017</td>\n    </tr>\n    <tr>\n      <th>25</th>\n      <td>2201144</td>\n      <td>Atharva</td>\n      <td>Jayant</td>\n      <td>Paradkar</td>\n      <td>23.0</td>\n      <td>7.64</td>\n      <td>Male</td>\n      <td>Football</td>\n      <td>Pune</td>\n      <td>2016</td>\n    </tr>\n    <tr>\n      <th>26</th>\n      <td>2201196</td>\n      <td>Himanshi</td>\n      <td></td>\n      <td>Vyas</td>\n      <td>22.0</td>\n      <td>8.80</td>\n      <td>Female</td>\n      <td>Cricket</td>\n      <td>Indore</td>\n      <td>2017</td>\n    </tr>\n    <tr>\n      <th>27</th>\n      <td>220126</td>\n      <td>Harshita</td>\n      <td></td>\n      <td>Maurya</td>\n      <td>21.0</td>\n      <td>8.61</td>\n      <td>Female</td>\n      <td>Vollyball</td>\n      <td>Pune</td>\n      <td>2017</td>\n    </tr>\n    <tr>\n      <th>28</th>\n      <td>2201146</td>\n      <td>Aditi</td>\n      <td>Pandurang</td>\n      <td>Patil</td>\n      <td>21.0</td>\n      <td>8.00</td>\n      <td>Female</td>\n      <td>Football</td>\n      <td>Ahmednagar</td>\n      <td>2017</td>\n    </tr>\n    <tr>\n      <th>29</th>\n      <td>2201188</td>\n      <td>Akshata</td>\n      <td>Vijay</td>\n      <td>Thakre</td>\n      <td>NaN</td>\n      <td>75.00</td>\n      <td>Female</td>\n      <td>Cricket</td>\n      <td>Pune</td>\n      <td>2017</td>\n    </tr>\n    <tr>\n      <th>30</th>\n      <td>2201141</td>\n      <td>Mahima</td>\n      <td>Lallan</td>\n      <td>Pal</td>\n      <td>22.0</td>\n      <td>7.68</td>\n      <td>Female</td>\n      <td>Badminton</td>\n      <td>Patna</td>\n      <td>2015</td>\n    </tr>\n    <tr>\n      <th>31</th>\n      <td>2201113</td>\n      <td>Aishwarya</td>\n      <td>Prasad</td>\n      <td>Lokhande</td>\n      <td>22.0</td>\n      <td>9.10</td>\n      <td>Female</td>\n      <td>Badminton</td>\n      <td>Pune</td>\n      <td>2017</td>\n    </tr>\n    <tr>\n      <th>32</th>\n      <td>2201155</td>\n      <td>Manali</td>\n      <td>Prayag</td>\n      <td>Petare</td>\n      <td>21.0</td>\n      <td>7.90</td>\n      <td>Female</td>\n      <td>Football</td>\n      <td>Sangli</td>\n      <td>2017</td>\n    </tr>\n    <tr>\n      <th>33</th>\n      <td>2201116</td>\n      <td>Ankita</td>\n      <td>Tanaji</td>\n      <td>Madane</td>\n      <td>NaN</td>\n      <td>7.00</td>\n      <td>Female</td>\n      <td>Cricket</td>\n      <td>Karad</td>\n      <td>2017</td>\n    </tr>\n    <tr>\n      <th>34</th>\n      <td>2201152</td>\n      <td>Yash</td>\n      <td>Rajgonda</td>\n      <td>Patil</td>\n      <td>21.0</td>\n      <td>7.21</td>\n      <td>Male</td>\n      <td>Cricket</td>\n      <td>Kolhapur</td>\n      <td>2017</td>\n    </tr>\n    <tr>\n      <th>35</th>\n      <td>2201139</td>\n      <td>Apeksha</td>\n      <td>D</td>\n      <td>Nimje</td>\n      <td>21.0</td>\n      <td>8.00</td>\n      <td>Female</td>\n      <td>Basketball</td>\n      <td>Nagpur</td>\n      <td>2017</td>\n    </tr>\n    <tr>\n      <th>36</th>\n      <td>2201206</td>\n      <td>Saurabh</td>\n      <td>Sanjay</td>\n      <td>Zute</td>\n      <td>NaN</td>\n      <td>7.50</td>\n      <td>Male</td>\n      <td>Cricket</td>\n      <td>Parbhani</td>\n      <td>2016</td>\n    </tr>\n    <tr>\n      <th>37</th>\n      <td>2201200</td>\n      <td>Kshitij</td>\n      <td>Kishor</td>\n      <td>Wani</td>\n      <td>NaN</td>\n      <td>7.60</td>\n      <td>Male</td>\n      <td>Cricket</td>\n      <td>Nagpur</td>\n      <td>2015</td>\n    </tr>\n    <tr>\n      <th>38</th>\n      <td>2201123</td>\n      <td>Sandesh</td>\n      <td>Sudhir</td>\n      <td>Manohar</td>\n      <td>22.0</td>\n      <td>7.54</td>\n      <td>Male</td>\n      <td>Football</td>\n      <td>Mumbai</td>\n      <td>2016</td>\n    </tr>\n    <tr>\n      <th>39</th>\n      <td>2201158</td>\n      <td>Suyog</td>\n      <td>Bapurao</td>\n      <td>Raut</td>\n      <td>22.0</td>\n      <td>7.67</td>\n      <td>Male</td>\n      <td>Cricket</td>\n      <td>Pune</td>\n      <td>2017</td>\n    </tr>\n    <tr>\n      <th>40</th>\n      <td>2201104</td>\n      <td>Prerna</td>\n      <td>Nitin</td>\n      <td>Kukade</td>\n      <td>21.0</td>\n      <td>7.40</td>\n      <td>Female</td>\n      <td>Badminton</td>\n      <td>Pune</td>\n      <td>2017</td>\n    </tr>\n    <tr>\n      <th>41</th>\n      <td>220143</td>\n      <td>Sakshi</td>\n      <td>Santosh</td>\n      <td>Patidar</td>\n      <td>22.0</td>\n      <td>10.00</td>\n      <td>Female</td>\n      <td>Cricket</td>\n      <td>Durg</td>\n      <td>2015</td>\n    </tr>\n    <tr>\n      <th>42</th>\n      <td>2201205</td>\n      <td>Jyoti</td>\n      <td>.</td>\n      <td>Yadav</td>\n      <td>NaN</td>\n      <td>8.14</td>\n      <td>Female</td>\n      <td>Cricket</td>\n      <td>Alwar</td>\n      <td>2012</td>\n    </tr>\n    <tr>\n      <th>43</th>\n      <td>2201117</td>\n      <td>Nilesh</td>\n      <td>Prakash</td>\n      <td>Mahajan</td>\n      <td>22.0</td>\n      <td>7.56</td>\n      <td>Male</td>\n      <td>Badminton</td>\n      <td>Wadgaon</td>\n      <td>2017</td>\n    </tr>\n    <tr>\n      <th>44</th>\n      <td>2201166</td>\n      <td>Pranav</td>\n      <td>Pravin</td>\n      <td>Sarkale</td>\n      <td>21.0</td>\n      <td>7.96</td>\n      <td>Male</td>\n      <td>Carrom</td>\n      <td>Pune</td>\n      <td>2017</td>\n    </tr>\n    <tr>\n      <th>45</th>\n      <td>2201167</td>\n      <td>Raj</td>\n      <td>Rajendra</td>\n      <td>Kumar</td>\n      <td>22.0</td>\n      <td>9.60</td>\n      <td>Male</td>\n      <td>Cricket</td>\n      <td>Pune</td>\n      <td>2016</td>\n    </tr>\n    <tr>\n      <th>46</th>\n      <td>2201157</td>\n      <td>Nikhil</td>\n      <td>Ashok</td>\n      <td>Rande</td>\n      <td>NaN</td>\n      <td>7.00</td>\n      <td>Male</td>\n      <td>Kabaddi</td>\n      <td>Akot</td>\n      <td>2016</td>\n    </tr>\n    <tr>\n      <th>47</th>\n      <td>2201118</td>\n      <td>‎ Shubham</td>\n      <td>‎ Sanjay</td>\n      <td>‎ Mali</td>\n      <td>21.0</td>\n      <td>9.15</td>\n      <td>Male</td>\n      <td>‎ Cricket</td>\n      <td>‎ Pune</td>\n      <td>2017</td>\n    </tr>\n    <tr>\n      <th>48</th>\n      <td>2201194</td>\n      <td>Shraddha</td>\n      <td>Jaiprakash</td>\n      <td>Varma</td>\n      <td>22.0</td>\n      <td>7.89</td>\n      <td>Female</td>\n      <td>Badminton</td>\n      <td>Wani</td>\n      <td>2017</td>\n    </tr>\n    <tr>\n      <th>49</th>\n      <td>2201106</td>\n      <td>Priya</td>\n      <td>Pradip</td>\n      <td>Kulkarni</td>\n      <td>22.0</td>\n      <td>8.00</td>\n      <td>Female</td>\n      <td>Badminton</td>\n      <td>Pune</td>\n      <td>2017</td>\n    </tr>\n    <tr>\n      <th>50</th>\n      <td>2201107</td>\n      <td>Swapnil</td>\n      <td>Suhas</td>\n      <td>Kulkarni</td>\n      <td>22.0</td>\n      <td>7.28</td>\n      <td>Male</td>\n      <td>Cricket</td>\n      <td>Pune</td>\n      <td>2016</td>\n    </tr>\n  </tbody>\n</table>\n</div>"
          },
          "metadata": {}
        }
      ]
    },
    {
      "cell_type": "code",
      "source": "df.isnull()",
      "metadata": {
        "trusted": true
      },
      "execution_count": 85,
      "outputs": [
        {
          "execution_count": 85,
          "output_type": "execute_result",
          "data": {
            "text/plain": "    roll_num   name  middlename  surname    age   sgpa  gender  \\\n0      False  False       False    False  False  False   False   \n1      False  False       False    False  False  False   False   \n2      False  False       False    False   True  False   False   \n3      False  False       False    False   True  False   False   \n4      False  False       False    False  False  False   False   \n5      False  False       False    False  False  False   False   \n6      False  False       False    False  False  False   False   \n7      False  False       False    False   True  False   False   \n8      False  False       False    False  False  False   False   \n9      False  False       False    False  False  False   False   \n10     False  False       False    False  False  False   False   \n11     False  False       False    False   True  False   False   \n12     False  False       False    False   True  False   False   \n13     False  False       False    False  False  False   False   \n14     False  False       False    False  False  False   False   \n15     False  False       False    False  False  False   False   \n16     False  False       False    False   True  False   False   \n17     False  False       False    False  False  False   False   \n18     False  False       False    False  False  False   False   \n19     False  False       False    False  False  False   False   \n20     False  False       False    False  False  False   False   \n21     False  False       False    False  False  False   False   \n22     False  False       False    False  False  False   False   \n23     False  False       False    False  False  False   False   \n24     False  False       False    False  False  False   False   \n25     False  False       False    False  False  False   False   \n26     False  False       False    False  False  False   False   \n27     False  False       False    False  False  False   False   \n28     False  False       False    False  False  False   False   \n29     False  False       False    False   True  False   False   \n30     False  False       False    False  False  False   False   \n31     False  False       False    False  False  False   False   \n32     False  False       False    False  False  False   False   \n33     False  False       False    False   True  False   False   \n34     False  False       False    False  False  False   False   \n35     False  False       False    False  False  False   False   \n36     False  False       False    False   True  False   False   \n37     False  False       False    False   True  False   False   \n38     False  False       False    False  False  False   False   \n39     False  False       False    False  False  False   False   \n40     False  False       False    False  False  False   False   \n41     False  False       False    False  False  False   False   \n42     False  False       False    False   True  False   False   \n43     False  False       False    False  False  False   False   \n44     False  False       False    False  False  False   False   \n45     False  False       False    False  False  False   False   \n46     False  False       False    False   True  False   False   \n47     False  False       False    False  False  False   False   \n48     False  False       False    False  False  False   False   \n49     False  False       False    False  False  False   False   \n50     False  False       False    False  False  False   False   \n\n    favorite_sport  native_city  year_of_passing_10th  \n0            False        False                 False  \n1            False        False                 False  \n2            False        False                 False  \n3            False        False                 False  \n4            False        False                 False  \n5            False        False                 False  \n6            False        False                 False  \n7            False        False                 False  \n8            False        False                 False  \n9            False        False                 False  \n10           False        False                 False  \n11           False        False                 False  \n12           False        False                 False  \n13           False        False                 False  \n14           False        False                 False  \n15           False        False                 False  \n16           False        False                 False  \n17           False        False                 False  \n18           False        False                 False  \n19           False        False                 False  \n20           False        False                 False  \n21           False        False                 False  \n22           False        False                 False  \n23           False        False                 False  \n24           False        False                 False  \n25           False        False                 False  \n26           False        False                 False  \n27           False        False                 False  \n28           False        False                 False  \n29           False        False                 False  \n30           False        False                 False  \n31           False        False                 False  \n32           False        False                 False  \n33           False        False                 False  \n34           False        False                 False  \n35           False        False                 False  \n36           False        False                 False  \n37           False        False                 False  \n38           False        False                 False  \n39           False        False                 False  \n40           False        False                 False  \n41           False        False                 False  \n42           False        False                 False  \n43           False        False                 False  \n44           False        False                 False  \n45           False        False                 False  \n46           False        False                 False  \n47           False        False                 False  \n48           False        False                 False  \n49           False        False                 False  \n50           False        False                 False  ",
            "text/html": "<div>\n<style scoped>\n    .dataframe tbody tr th:only-of-type {\n        vertical-align: middle;\n    }\n\n    .dataframe tbody tr th {\n        vertical-align: top;\n    }\n\n    .dataframe thead th {\n        text-align: right;\n    }\n</style>\n<table border=\"1\" class=\"dataframe\">\n  <thead>\n    <tr style=\"text-align: right;\">\n      <th></th>\n      <th>roll_num</th>\n      <th>name</th>\n      <th>middlename</th>\n      <th>surname</th>\n      <th>age</th>\n      <th>sgpa</th>\n      <th>gender</th>\n      <th>favorite_sport</th>\n      <th>native_city</th>\n      <th>year_of_passing_10th</th>\n    </tr>\n  </thead>\n  <tbody>\n    <tr>\n      <th>0</th>\n      <td>False</td>\n      <td>False</td>\n      <td>False</td>\n      <td>False</td>\n      <td>False</td>\n      <td>False</td>\n      <td>False</td>\n      <td>False</td>\n      <td>False</td>\n      <td>False</td>\n    </tr>\n    <tr>\n      <th>1</th>\n      <td>False</td>\n      <td>False</td>\n      <td>False</td>\n      <td>False</td>\n      <td>False</td>\n      <td>False</td>\n      <td>False</td>\n      <td>False</td>\n      <td>False</td>\n      <td>False</td>\n    </tr>\n    <tr>\n      <th>2</th>\n      <td>False</td>\n      <td>False</td>\n      <td>False</td>\n      <td>False</td>\n      <td>True</td>\n      <td>False</td>\n      <td>False</td>\n      <td>False</td>\n      <td>False</td>\n      <td>False</td>\n    </tr>\n    <tr>\n      <th>3</th>\n      <td>False</td>\n      <td>False</td>\n      <td>False</td>\n      <td>False</td>\n      <td>True</td>\n      <td>False</td>\n      <td>False</td>\n      <td>False</td>\n      <td>False</td>\n      <td>False</td>\n    </tr>\n    <tr>\n      <th>4</th>\n      <td>False</td>\n      <td>False</td>\n      <td>False</td>\n      <td>False</td>\n      <td>False</td>\n      <td>False</td>\n      <td>False</td>\n      <td>False</td>\n      <td>False</td>\n      <td>False</td>\n    </tr>\n    <tr>\n      <th>5</th>\n      <td>False</td>\n      <td>False</td>\n      <td>False</td>\n      <td>False</td>\n      <td>False</td>\n      <td>False</td>\n      <td>False</td>\n      <td>False</td>\n      <td>False</td>\n      <td>False</td>\n    </tr>\n    <tr>\n      <th>6</th>\n      <td>False</td>\n      <td>False</td>\n      <td>False</td>\n      <td>False</td>\n      <td>False</td>\n      <td>False</td>\n      <td>False</td>\n      <td>False</td>\n      <td>False</td>\n      <td>False</td>\n    </tr>\n    <tr>\n      <th>7</th>\n      <td>False</td>\n      <td>False</td>\n      <td>False</td>\n      <td>False</td>\n      <td>True</td>\n      <td>False</td>\n      <td>False</td>\n      <td>False</td>\n      <td>False</td>\n      <td>False</td>\n    </tr>\n    <tr>\n      <th>8</th>\n      <td>False</td>\n      <td>False</td>\n      <td>False</td>\n      <td>False</td>\n      <td>False</td>\n      <td>False</td>\n      <td>False</td>\n      <td>False</td>\n      <td>False</td>\n      <td>False</td>\n    </tr>\n    <tr>\n      <th>9</th>\n      <td>False</td>\n      <td>False</td>\n      <td>False</td>\n      <td>False</td>\n      <td>False</td>\n      <td>False</td>\n      <td>False</td>\n      <td>False</td>\n      <td>False</td>\n      <td>False</td>\n    </tr>\n    <tr>\n      <th>10</th>\n      <td>False</td>\n      <td>False</td>\n      <td>False</td>\n      <td>False</td>\n      <td>False</td>\n      <td>False</td>\n      <td>False</td>\n      <td>False</td>\n      <td>False</td>\n      <td>False</td>\n    </tr>\n    <tr>\n      <th>11</th>\n      <td>False</td>\n      <td>False</td>\n      <td>False</td>\n      <td>False</td>\n      <td>True</td>\n      <td>False</td>\n      <td>False</td>\n      <td>False</td>\n      <td>False</td>\n      <td>False</td>\n    </tr>\n    <tr>\n      <th>12</th>\n      <td>False</td>\n      <td>False</td>\n      <td>False</td>\n      <td>False</td>\n      <td>True</td>\n      <td>False</td>\n      <td>False</td>\n      <td>False</td>\n      <td>False</td>\n      <td>False</td>\n    </tr>\n    <tr>\n      <th>13</th>\n      <td>False</td>\n      <td>False</td>\n      <td>False</td>\n      <td>False</td>\n      <td>False</td>\n      <td>False</td>\n      <td>False</td>\n      <td>False</td>\n      <td>False</td>\n      <td>False</td>\n    </tr>\n    <tr>\n      <th>14</th>\n      <td>False</td>\n      <td>False</td>\n      <td>False</td>\n      <td>False</td>\n      <td>False</td>\n      <td>False</td>\n      <td>False</td>\n      <td>False</td>\n      <td>False</td>\n      <td>False</td>\n    </tr>\n    <tr>\n      <th>15</th>\n      <td>False</td>\n      <td>False</td>\n      <td>False</td>\n      <td>False</td>\n      <td>False</td>\n      <td>False</td>\n      <td>False</td>\n      <td>False</td>\n      <td>False</td>\n      <td>False</td>\n    </tr>\n    <tr>\n      <th>16</th>\n      <td>False</td>\n      <td>False</td>\n      <td>False</td>\n      <td>False</td>\n      <td>True</td>\n      <td>False</td>\n      <td>False</td>\n      <td>False</td>\n      <td>False</td>\n      <td>False</td>\n    </tr>\n    <tr>\n      <th>17</th>\n      <td>False</td>\n      <td>False</td>\n      <td>False</td>\n      <td>False</td>\n      <td>False</td>\n      <td>False</td>\n      <td>False</td>\n      <td>False</td>\n      <td>False</td>\n      <td>False</td>\n    </tr>\n    <tr>\n      <th>18</th>\n      <td>False</td>\n      <td>False</td>\n      <td>False</td>\n      <td>False</td>\n      <td>False</td>\n      <td>False</td>\n      <td>False</td>\n      <td>False</td>\n      <td>False</td>\n      <td>False</td>\n    </tr>\n    <tr>\n      <th>19</th>\n      <td>False</td>\n      <td>False</td>\n      <td>False</td>\n      <td>False</td>\n      <td>False</td>\n      <td>False</td>\n      <td>False</td>\n      <td>False</td>\n      <td>False</td>\n      <td>False</td>\n    </tr>\n    <tr>\n      <th>20</th>\n      <td>False</td>\n      <td>False</td>\n      <td>False</td>\n      <td>False</td>\n      <td>False</td>\n      <td>False</td>\n      <td>False</td>\n      <td>False</td>\n      <td>False</td>\n      <td>False</td>\n    </tr>\n    <tr>\n      <th>21</th>\n      <td>False</td>\n      <td>False</td>\n      <td>False</td>\n      <td>False</td>\n      <td>False</td>\n      <td>False</td>\n      <td>False</td>\n      <td>False</td>\n      <td>False</td>\n      <td>False</td>\n    </tr>\n    <tr>\n      <th>22</th>\n      <td>False</td>\n      <td>False</td>\n      <td>False</td>\n      <td>False</td>\n      <td>False</td>\n      <td>False</td>\n      <td>False</td>\n      <td>False</td>\n      <td>False</td>\n      <td>False</td>\n    </tr>\n    <tr>\n      <th>23</th>\n      <td>False</td>\n      <td>False</td>\n      <td>False</td>\n      <td>False</td>\n      <td>False</td>\n      <td>False</td>\n      <td>False</td>\n      <td>False</td>\n      <td>False</td>\n      <td>False</td>\n    </tr>\n    <tr>\n      <th>24</th>\n      <td>False</td>\n      <td>False</td>\n      <td>False</td>\n      <td>False</td>\n      <td>False</td>\n      <td>False</td>\n      <td>False</td>\n      <td>False</td>\n      <td>False</td>\n      <td>False</td>\n    </tr>\n    <tr>\n      <th>25</th>\n      <td>False</td>\n      <td>False</td>\n      <td>False</td>\n      <td>False</td>\n      <td>False</td>\n      <td>False</td>\n      <td>False</td>\n      <td>False</td>\n      <td>False</td>\n      <td>False</td>\n    </tr>\n    <tr>\n      <th>26</th>\n      <td>False</td>\n      <td>False</td>\n      <td>False</td>\n      <td>False</td>\n      <td>False</td>\n      <td>False</td>\n      <td>False</td>\n      <td>False</td>\n      <td>False</td>\n      <td>False</td>\n    </tr>\n    <tr>\n      <th>27</th>\n      <td>False</td>\n      <td>False</td>\n      <td>False</td>\n      <td>False</td>\n      <td>False</td>\n      <td>False</td>\n      <td>False</td>\n      <td>False</td>\n      <td>False</td>\n      <td>False</td>\n    </tr>\n    <tr>\n      <th>28</th>\n      <td>False</td>\n      <td>False</td>\n      <td>False</td>\n      <td>False</td>\n      <td>False</td>\n      <td>False</td>\n      <td>False</td>\n      <td>False</td>\n      <td>False</td>\n      <td>False</td>\n    </tr>\n    <tr>\n      <th>29</th>\n      <td>False</td>\n      <td>False</td>\n      <td>False</td>\n      <td>False</td>\n      <td>True</td>\n      <td>False</td>\n      <td>False</td>\n      <td>False</td>\n      <td>False</td>\n      <td>False</td>\n    </tr>\n    <tr>\n      <th>30</th>\n      <td>False</td>\n      <td>False</td>\n      <td>False</td>\n      <td>False</td>\n      <td>False</td>\n      <td>False</td>\n      <td>False</td>\n      <td>False</td>\n      <td>False</td>\n      <td>False</td>\n    </tr>\n    <tr>\n      <th>31</th>\n      <td>False</td>\n      <td>False</td>\n      <td>False</td>\n      <td>False</td>\n      <td>False</td>\n      <td>False</td>\n      <td>False</td>\n      <td>False</td>\n      <td>False</td>\n      <td>False</td>\n    </tr>\n    <tr>\n      <th>32</th>\n      <td>False</td>\n      <td>False</td>\n      <td>False</td>\n      <td>False</td>\n      <td>False</td>\n      <td>False</td>\n      <td>False</td>\n      <td>False</td>\n      <td>False</td>\n      <td>False</td>\n    </tr>\n    <tr>\n      <th>33</th>\n      <td>False</td>\n      <td>False</td>\n      <td>False</td>\n      <td>False</td>\n      <td>True</td>\n      <td>False</td>\n      <td>False</td>\n      <td>False</td>\n      <td>False</td>\n      <td>False</td>\n    </tr>\n    <tr>\n      <th>34</th>\n      <td>False</td>\n      <td>False</td>\n      <td>False</td>\n      <td>False</td>\n      <td>False</td>\n      <td>False</td>\n      <td>False</td>\n      <td>False</td>\n      <td>False</td>\n      <td>False</td>\n    </tr>\n    <tr>\n      <th>35</th>\n      <td>False</td>\n      <td>False</td>\n      <td>False</td>\n      <td>False</td>\n      <td>False</td>\n      <td>False</td>\n      <td>False</td>\n      <td>False</td>\n      <td>False</td>\n      <td>False</td>\n    </tr>\n    <tr>\n      <th>36</th>\n      <td>False</td>\n      <td>False</td>\n      <td>False</td>\n      <td>False</td>\n      <td>True</td>\n      <td>False</td>\n      <td>False</td>\n      <td>False</td>\n      <td>False</td>\n      <td>False</td>\n    </tr>\n    <tr>\n      <th>37</th>\n      <td>False</td>\n      <td>False</td>\n      <td>False</td>\n      <td>False</td>\n      <td>True</td>\n      <td>False</td>\n      <td>False</td>\n      <td>False</td>\n      <td>False</td>\n      <td>False</td>\n    </tr>\n    <tr>\n      <th>38</th>\n      <td>False</td>\n      <td>False</td>\n      <td>False</td>\n      <td>False</td>\n      <td>False</td>\n      <td>False</td>\n      <td>False</td>\n      <td>False</td>\n      <td>False</td>\n      <td>False</td>\n    </tr>\n    <tr>\n      <th>39</th>\n      <td>False</td>\n      <td>False</td>\n      <td>False</td>\n      <td>False</td>\n      <td>False</td>\n      <td>False</td>\n      <td>False</td>\n      <td>False</td>\n      <td>False</td>\n      <td>False</td>\n    </tr>\n    <tr>\n      <th>40</th>\n      <td>False</td>\n      <td>False</td>\n      <td>False</td>\n      <td>False</td>\n      <td>False</td>\n      <td>False</td>\n      <td>False</td>\n      <td>False</td>\n      <td>False</td>\n      <td>False</td>\n    </tr>\n    <tr>\n      <th>41</th>\n      <td>False</td>\n      <td>False</td>\n      <td>False</td>\n      <td>False</td>\n      <td>False</td>\n      <td>False</td>\n      <td>False</td>\n      <td>False</td>\n      <td>False</td>\n      <td>False</td>\n    </tr>\n    <tr>\n      <th>42</th>\n      <td>False</td>\n      <td>False</td>\n      <td>False</td>\n      <td>False</td>\n      <td>True</td>\n      <td>False</td>\n      <td>False</td>\n      <td>False</td>\n      <td>False</td>\n      <td>False</td>\n    </tr>\n    <tr>\n      <th>43</th>\n      <td>False</td>\n      <td>False</td>\n      <td>False</td>\n      <td>False</td>\n      <td>False</td>\n      <td>False</td>\n      <td>False</td>\n      <td>False</td>\n      <td>False</td>\n      <td>False</td>\n    </tr>\n    <tr>\n      <th>44</th>\n      <td>False</td>\n      <td>False</td>\n      <td>False</td>\n      <td>False</td>\n      <td>False</td>\n      <td>False</td>\n      <td>False</td>\n      <td>False</td>\n      <td>False</td>\n      <td>False</td>\n    </tr>\n    <tr>\n      <th>45</th>\n      <td>False</td>\n      <td>False</td>\n      <td>False</td>\n      <td>False</td>\n      <td>False</td>\n      <td>False</td>\n      <td>False</td>\n      <td>False</td>\n      <td>False</td>\n      <td>False</td>\n    </tr>\n    <tr>\n      <th>46</th>\n      <td>False</td>\n      <td>False</td>\n      <td>False</td>\n      <td>False</td>\n      <td>True</td>\n      <td>False</td>\n      <td>False</td>\n      <td>False</td>\n      <td>False</td>\n      <td>False</td>\n    </tr>\n    <tr>\n      <th>47</th>\n      <td>False</td>\n      <td>False</td>\n      <td>False</td>\n      <td>False</td>\n      <td>False</td>\n      <td>False</td>\n      <td>False</td>\n      <td>False</td>\n      <td>False</td>\n      <td>False</td>\n    </tr>\n    <tr>\n      <th>48</th>\n      <td>False</td>\n      <td>False</td>\n      <td>False</td>\n      <td>False</td>\n      <td>False</td>\n      <td>False</td>\n      <td>False</td>\n      <td>False</td>\n      <td>False</td>\n      <td>False</td>\n    </tr>\n    <tr>\n      <th>49</th>\n      <td>False</td>\n      <td>False</td>\n      <td>False</td>\n      <td>False</td>\n      <td>False</td>\n      <td>False</td>\n      <td>False</td>\n      <td>False</td>\n      <td>False</td>\n      <td>False</td>\n    </tr>\n    <tr>\n      <th>50</th>\n      <td>False</td>\n      <td>False</td>\n      <td>False</td>\n      <td>False</td>\n      <td>False</td>\n      <td>False</td>\n      <td>False</td>\n      <td>False</td>\n      <td>False</td>\n      <td>False</td>\n    </tr>\n  </tbody>\n</table>\n</div>"
          },
          "metadata": {}
        }
      ]
    },
    {
      "cell_type": "code",
      "source": "False + True",
      "metadata": {
        "trusted": true
      },
      "execution_count": 86,
      "outputs": [
        {
          "execution_count": 86,
          "output_type": "execute_result",
          "data": {
            "text/plain": "1"
          },
          "metadata": {}
        }
      ]
    },
    {
      "cell_type": "code",
      "source": "True + True",
      "metadata": {
        "trusted": true
      },
      "execution_count": 87,
      "outputs": [
        {
          "execution_count": 87,
          "output_type": "execute_result",
          "data": {
            "text/plain": "2"
          },
          "metadata": {}
        }
      ]
    },
    {
      "cell_type": "code",
      "source": "df.isnull().sum()",
      "metadata": {
        "trusted": true
      },
      "execution_count": 88,
      "outputs": [
        {
          "execution_count": 88,
          "output_type": "execute_result",
          "data": {
            "text/plain": "roll_num                 0\nname                     0\nmiddlename               0\nsurname                  0\nage                     12\nsgpa                     0\ngender                   0\nfavorite_sport           0\nnative_city              0\nyear_of_passing_10th     0\ndtype: int64"
          },
          "metadata": {}
        }
      ]
    },
    {
      "cell_type": "code",
      "source": "df['age'] = df['age'].fillna(df['age'].median())",
      "metadata": {
        "trusted": true
      },
      "execution_count": 89,
      "outputs": []
    },
    {
      "cell_type": "code",
      "source": "df",
      "metadata": {
        "trusted": true
      },
      "execution_count": 90,
      "outputs": [
        {
          "execution_count": 90,
          "output_type": "execute_result",
          "data": {
            "text/plain": "    roll_num       name   middlename     surname   age   sgpa  gender  \\\n0    2201184    Shubham        Kumar       Sinha  23.0   8.29    Male   \n1    2201129     Pranav     Prashant      Modale  25.0   7.80    Male   \n2    2201125     Pratik       Sharad    Masalkar  22.0   8.31    Male   \n3    2201154     Ranvir      Gajanan       Pawar  22.0   8.00    Male   \n4    2201193   Siddhesh       Suresh     Uttekar  21.0   8.40    Male   \n5    2201115     Sairaj      Shirish    Lumpatki  20.0   8.71    Male   \n6    2201110      Rahul        Kumar       Kumar  23.0   7.50    Male   \n7    2201124      Akash     Sambhaji     Markile  22.0   7.79    Male   \n8    2201145      Harsh      Subhash     Patidar  22.0   8.00    Male   \n9    2201105      Omkar       Milind    Kulkarni  22.0   9.81    Male   \n10   2201171    Prajwal       Pramod     Shendge  21.0   7.90    Male   \n11   2201121      Tejas  Uttareshwar        Mane  22.0   7.85    Male   \n12   2201159    Vaibhav       Kailas        Raut  22.0   7.00    Male   \n13   2201173     Gaurav        Mohan      Shimpi  22.0   8.90    Male   \n14   2201182    Sindura        Singh     Rathore  23.0   8.10  Female   \n15   2201130     Hitesh  Dnyaneshwar   Mohadikar  22.0   8.25    Male   \n16   2201163    Janhavi         Ajit  Sangaonkar  22.0   8.75  Female   \n17   2201195        Raj                    Verma  23.0   7.71    Male   \n18   2201187     Manish       Maruti        Teke  22.0   8.46    Male   \n19   1951022     Muskan      Shabbir      Shipai  21.0   8.05  Female   \n20   2201164   Ashutosh     Ghansham       Saoji  23.0   7.54    Male   \n21   2201133      Vivek     Yeshavnt        More  21.0   7.60    Male   \n22   2201175   Sharvari        Sunil      Shinde  22.0   7.82  Female   \n23   2201190      Leena       Sanjay      Thorat  22.0   7.89  Female   \n24   2201085     Vedika  Gorakshanth    Kandekar  22.0   8.89  Female   \n25   2201144    Atharva       Jayant    Paradkar  23.0   7.64    Male   \n26   2201196   Himanshi                     Vyas  22.0   8.80  Female   \n27    220126   Harshita                   Maurya  21.0   8.61  Female   \n28   2201146      Aditi    Pandurang       Patil  21.0   8.00  Female   \n29   2201188    Akshata        Vijay      Thakre  22.0  75.00  Female   \n30   2201141     Mahima       Lallan         Pal  22.0   7.68  Female   \n31   2201113  Aishwarya       Prasad    Lokhande  22.0   9.10  Female   \n32   2201155     Manali       Prayag      Petare  21.0   7.90  Female   \n33   2201116     Ankita       Tanaji      Madane  22.0   7.00  Female   \n34   2201152       Yash     Rajgonda       Patil  21.0   7.21    Male   \n35   2201139    Apeksha            D       Nimje  21.0   8.00  Female   \n36   2201206    Saurabh       Sanjay        Zute  22.0   7.50    Male   \n37   2201200    Kshitij       Kishor        Wani  22.0   7.60    Male   \n38   2201123    Sandesh       Sudhir     Manohar  22.0   7.54    Male   \n39   2201158      Suyog      Bapurao        Raut  22.0   7.67    Male   \n40   2201104     Prerna        Nitin      Kukade  21.0   7.40  Female   \n41    220143     Sakshi      Santosh     Patidar  22.0  10.00  Female   \n42   2201205      Jyoti            .       Yadav  22.0   8.14  Female   \n43   2201117     Nilesh      Prakash     Mahajan  22.0   7.56    Male   \n44   2201166     Pranav       Pravin     Sarkale  21.0   7.96    Male   \n45   2201167        Raj     Rajendra       Kumar  22.0   9.60    Male   \n46   2201157     Nikhil        Ashok       Rande  22.0   7.00    Male   \n47   2201118  ‎ Shubham     ‎ Sanjay      ‎ Mali  21.0   9.15    Male   \n48   2201194   Shraddha   Jaiprakash       Varma  22.0   7.89  Female   \n49   2201106      Priya       Pradip    Kulkarni  22.0   8.00  Female   \n50   2201107    Swapnil        Suhas    Kulkarni  22.0   7.28    Male   \n\n        favorite_sport  native_city  year_of_passing_10th  \n0   Cricket , Football        Patna                  2014  \n1              Cricket         Pune                  2014  \n2            Badminton         Pune                  2017  \n3                Chess      Buldana                  2014  \n4              Cricket         Pune                  2016  \n5           Volleyball   Ahmednagar                  2017  \n6            Badminton       Ranchi                  2015  \n7              Cricket        Latur                  2016  \n8           Volleyball       Indore                  2016  \n9     Sachin Tendulkar         Pune                  2018  \n10             Cricket        Miraj                  2018  \n11             Cricket     Baramati                  2016  \n12        Table Tennis         Beed                  2016  \n13             Cricket      Shahada                  2017  \n14             Cricket  Muzzafarpur                  2017  \n15             Cricket       Nagpur                  2017  \n16           Badminton     Kolhapur                  2017  \n17             Cricket   Jamshedpur                  2017  \n18             Cricket         Pune                  2016  \n19             Cricket         Pune                  2017  \n20             Cricket        Akola                  2017  \n21        Table Tennis     Kolhapur                  2017  \n22             Cricket        Karad                  2016  \n23           Badminton       Shirdi                  2017  \n24                   -   Ahmednagar                  2017  \n25            Football         Pune                  2016  \n26             Cricket       Indore                  2017  \n27           Vollyball         Pune                  2017  \n28            Football   Ahmednagar                  2017  \n29             Cricket         Pune                  2017  \n30           Badminton        Patna                  2015  \n31           Badminton         Pune                  2017  \n32            Football       Sangli                  2017  \n33             Cricket        Karad                  2017  \n34             Cricket     Kolhapur                  2017  \n35          Basketball       Nagpur                  2017  \n36             Cricket     Parbhani                  2016  \n37             Cricket       Nagpur                  2015  \n38            Football       Mumbai                  2016  \n39             Cricket         Pune                  2017  \n40           Badminton         Pune                  2017  \n41             Cricket         Durg                  2015  \n42             Cricket        Alwar                  2012  \n43           Badminton      Wadgaon                  2017  \n44              Carrom         Pune                  2017  \n45             Cricket         Pune                  2016  \n46             Kabaddi         Akot                  2016  \n47           ‎ Cricket       ‎ Pune                  2017  \n48           Badminton         Wani                  2017  \n49           Badminton         Pune                  2017  \n50             Cricket         Pune                  2016  ",
            "text/html": "<div>\n<style scoped>\n    .dataframe tbody tr th:only-of-type {\n        vertical-align: middle;\n    }\n\n    .dataframe tbody tr th {\n        vertical-align: top;\n    }\n\n    .dataframe thead th {\n        text-align: right;\n    }\n</style>\n<table border=\"1\" class=\"dataframe\">\n  <thead>\n    <tr style=\"text-align: right;\">\n      <th></th>\n      <th>roll_num</th>\n      <th>name</th>\n      <th>middlename</th>\n      <th>surname</th>\n      <th>age</th>\n      <th>sgpa</th>\n      <th>gender</th>\n      <th>favorite_sport</th>\n      <th>native_city</th>\n      <th>year_of_passing_10th</th>\n    </tr>\n  </thead>\n  <tbody>\n    <tr>\n      <th>0</th>\n      <td>2201184</td>\n      <td>Shubham</td>\n      <td>Kumar</td>\n      <td>Sinha</td>\n      <td>23.0</td>\n      <td>8.29</td>\n      <td>Male</td>\n      <td>Cricket , Football</td>\n      <td>Patna</td>\n      <td>2014</td>\n    </tr>\n    <tr>\n      <th>1</th>\n      <td>2201129</td>\n      <td>Pranav</td>\n      <td>Prashant</td>\n      <td>Modale</td>\n      <td>25.0</td>\n      <td>7.80</td>\n      <td>Male</td>\n      <td>Cricket</td>\n      <td>Pune</td>\n      <td>2014</td>\n    </tr>\n    <tr>\n      <th>2</th>\n      <td>2201125</td>\n      <td>Pratik</td>\n      <td>Sharad</td>\n      <td>Masalkar</td>\n      <td>22.0</td>\n      <td>8.31</td>\n      <td>Male</td>\n      <td>Badminton</td>\n      <td>Pune</td>\n      <td>2017</td>\n    </tr>\n    <tr>\n      <th>3</th>\n      <td>2201154</td>\n      <td>Ranvir</td>\n      <td>Gajanan</td>\n      <td>Pawar</td>\n      <td>22.0</td>\n      <td>8.00</td>\n      <td>Male</td>\n      <td>Chess</td>\n      <td>Buldana</td>\n      <td>2014</td>\n    </tr>\n    <tr>\n      <th>4</th>\n      <td>2201193</td>\n      <td>Siddhesh</td>\n      <td>Suresh</td>\n      <td>Uttekar</td>\n      <td>21.0</td>\n      <td>8.40</td>\n      <td>Male</td>\n      <td>Cricket</td>\n      <td>Pune</td>\n      <td>2016</td>\n    </tr>\n    <tr>\n      <th>5</th>\n      <td>2201115</td>\n      <td>Sairaj</td>\n      <td>Shirish</td>\n      <td>Lumpatki</td>\n      <td>20.0</td>\n      <td>8.71</td>\n      <td>Male</td>\n      <td>Volleyball</td>\n      <td>Ahmednagar</td>\n      <td>2017</td>\n    </tr>\n    <tr>\n      <th>6</th>\n      <td>2201110</td>\n      <td>Rahul</td>\n      <td>Kumar</td>\n      <td>Kumar</td>\n      <td>23.0</td>\n      <td>7.50</td>\n      <td>Male</td>\n      <td>Badminton</td>\n      <td>Ranchi</td>\n      <td>2015</td>\n    </tr>\n    <tr>\n      <th>7</th>\n      <td>2201124</td>\n      <td>Akash</td>\n      <td>Sambhaji</td>\n      <td>Markile</td>\n      <td>22.0</td>\n      <td>7.79</td>\n      <td>Male</td>\n      <td>Cricket</td>\n      <td>Latur</td>\n      <td>2016</td>\n    </tr>\n    <tr>\n      <th>8</th>\n      <td>2201145</td>\n      <td>Harsh</td>\n      <td>Subhash</td>\n      <td>Patidar</td>\n      <td>22.0</td>\n      <td>8.00</td>\n      <td>Male</td>\n      <td>Volleyball</td>\n      <td>Indore</td>\n      <td>2016</td>\n    </tr>\n    <tr>\n      <th>9</th>\n      <td>2201105</td>\n      <td>Omkar</td>\n      <td>Milind</td>\n      <td>Kulkarni</td>\n      <td>22.0</td>\n      <td>9.81</td>\n      <td>Male</td>\n      <td>Sachin Tendulkar</td>\n      <td>Pune</td>\n      <td>2018</td>\n    </tr>\n    <tr>\n      <th>10</th>\n      <td>2201171</td>\n      <td>Prajwal</td>\n      <td>Pramod</td>\n      <td>Shendge</td>\n      <td>21.0</td>\n      <td>7.90</td>\n      <td>Male</td>\n      <td>Cricket</td>\n      <td>Miraj</td>\n      <td>2018</td>\n    </tr>\n    <tr>\n      <th>11</th>\n      <td>2201121</td>\n      <td>Tejas</td>\n      <td>Uttareshwar</td>\n      <td>Mane</td>\n      <td>22.0</td>\n      <td>7.85</td>\n      <td>Male</td>\n      <td>Cricket</td>\n      <td>Baramati</td>\n      <td>2016</td>\n    </tr>\n    <tr>\n      <th>12</th>\n      <td>2201159</td>\n      <td>Vaibhav</td>\n      <td>Kailas</td>\n      <td>Raut</td>\n      <td>22.0</td>\n      <td>7.00</td>\n      <td>Male</td>\n      <td>Table Tennis</td>\n      <td>Beed</td>\n      <td>2016</td>\n    </tr>\n    <tr>\n      <th>13</th>\n      <td>2201173</td>\n      <td>Gaurav</td>\n      <td>Mohan</td>\n      <td>Shimpi</td>\n      <td>22.0</td>\n      <td>8.90</td>\n      <td>Male</td>\n      <td>Cricket</td>\n      <td>Shahada</td>\n      <td>2017</td>\n    </tr>\n    <tr>\n      <th>14</th>\n      <td>2201182</td>\n      <td>Sindura</td>\n      <td>Singh</td>\n      <td>Rathore</td>\n      <td>23.0</td>\n      <td>8.10</td>\n      <td>Female</td>\n      <td>Cricket</td>\n      <td>Muzzafarpur</td>\n      <td>2017</td>\n    </tr>\n    <tr>\n      <th>15</th>\n      <td>2201130</td>\n      <td>Hitesh</td>\n      <td>Dnyaneshwar</td>\n      <td>Mohadikar</td>\n      <td>22.0</td>\n      <td>8.25</td>\n      <td>Male</td>\n      <td>Cricket</td>\n      <td>Nagpur</td>\n      <td>2017</td>\n    </tr>\n    <tr>\n      <th>16</th>\n      <td>2201163</td>\n      <td>Janhavi</td>\n      <td>Ajit</td>\n      <td>Sangaonkar</td>\n      <td>22.0</td>\n      <td>8.75</td>\n      <td>Female</td>\n      <td>Badminton</td>\n      <td>Kolhapur</td>\n      <td>2017</td>\n    </tr>\n    <tr>\n      <th>17</th>\n      <td>2201195</td>\n      <td>Raj</td>\n      <td></td>\n      <td>Verma</td>\n      <td>23.0</td>\n      <td>7.71</td>\n      <td>Male</td>\n      <td>Cricket</td>\n      <td>Jamshedpur</td>\n      <td>2017</td>\n    </tr>\n    <tr>\n      <th>18</th>\n      <td>2201187</td>\n      <td>Manish</td>\n      <td>Maruti</td>\n      <td>Teke</td>\n      <td>22.0</td>\n      <td>8.46</td>\n      <td>Male</td>\n      <td>Cricket</td>\n      <td>Pune</td>\n      <td>2016</td>\n    </tr>\n    <tr>\n      <th>19</th>\n      <td>1951022</td>\n      <td>Muskan</td>\n      <td>Shabbir</td>\n      <td>Shipai</td>\n      <td>21.0</td>\n      <td>8.05</td>\n      <td>Female</td>\n      <td>Cricket</td>\n      <td>Pune</td>\n      <td>2017</td>\n    </tr>\n    <tr>\n      <th>20</th>\n      <td>2201164</td>\n      <td>Ashutosh</td>\n      <td>Ghansham</td>\n      <td>Saoji</td>\n      <td>23.0</td>\n      <td>7.54</td>\n      <td>Male</td>\n      <td>Cricket</td>\n      <td>Akola</td>\n      <td>2017</td>\n    </tr>\n    <tr>\n      <th>21</th>\n      <td>2201133</td>\n      <td>Vivek</td>\n      <td>Yeshavnt</td>\n      <td>More</td>\n      <td>21.0</td>\n      <td>7.60</td>\n      <td>Male</td>\n      <td>Table Tennis</td>\n      <td>Kolhapur</td>\n      <td>2017</td>\n    </tr>\n    <tr>\n      <th>22</th>\n      <td>2201175</td>\n      <td>Sharvari</td>\n      <td>Sunil</td>\n      <td>Shinde</td>\n      <td>22.0</td>\n      <td>7.82</td>\n      <td>Female</td>\n      <td>Cricket</td>\n      <td>Karad</td>\n      <td>2016</td>\n    </tr>\n    <tr>\n      <th>23</th>\n      <td>2201190</td>\n      <td>Leena</td>\n      <td>Sanjay</td>\n      <td>Thorat</td>\n      <td>22.0</td>\n      <td>7.89</td>\n      <td>Female</td>\n      <td>Badminton</td>\n      <td>Shirdi</td>\n      <td>2017</td>\n    </tr>\n    <tr>\n      <th>24</th>\n      <td>2201085</td>\n      <td>Vedika</td>\n      <td>Gorakshanth</td>\n      <td>Kandekar</td>\n      <td>22.0</td>\n      <td>8.89</td>\n      <td>Female</td>\n      <td>-</td>\n      <td>Ahmednagar</td>\n      <td>2017</td>\n    </tr>\n    <tr>\n      <th>25</th>\n      <td>2201144</td>\n      <td>Atharva</td>\n      <td>Jayant</td>\n      <td>Paradkar</td>\n      <td>23.0</td>\n      <td>7.64</td>\n      <td>Male</td>\n      <td>Football</td>\n      <td>Pune</td>\n      <td>2016</td>\n    </tr>\n    <tr>\n      <th>26</th>\n      <td>2201196</td>\n      <td>Himanshi</td>\n      <td></td>\n      <td>Vyas</td>\n      <td>22.0</td>\n      <td>8.80</td>\n      <td>Female</td>\n      <td>Cricket</td>\n      <td>Indore</td>\n      <td>2017</td>\n    </tr>\n    <tr>\n      <th>27</th>\n      <td>220126</td>\n      <td>Harshita</td>\n      <td></td>\n      <td>Maurya</td>\n      <td>21.0</td>\n      <td>8.61</td>\n      <td>Female</td>\n      <td>Vollyball</td>\n      <td>Pune</td>\n      <td>2017</td>\n    </tr>\n    <tr>\n      <th>28</th>\n      <td>2201146</td>\n      <td>Aditi</td>\n      <td>Pandurang</td>\n      <td>Patil</td>\n      <td>21.0</td>\n      <td>8.00</td>\n      <td>Female</td>\n      <td>Football</td>\n      <td>Ahmednagar</td>\n      <td>2017</td>\n    </tr>\n    <tr>\n      <th>29</th>\n      <td>2201188</td>\n      <td>Akshata</td>\n      <td>Vijay</td>\n      <td>Thakre</td>\n      <td>22.0</td>\n      <td>75.00</td>\n      <td>Female</td>\n      <td>Cricket</td>\n      <td>Pune</td>\n      <td>2017</td>\n    </tr>\n    <tr>\n      <th>30</th>\n      <td>2201141</td>\n      <td>Mahima</td>\n      <td>Lallan</td>\n      <td>Pal</td>\n      <td>22.0</td>\n      <td>7.68</td>\n      <td>Female</td>\n      <td>Badminton</td>\n      <td>Patna</td>\n      <td>2015</td>\n    </tr>\n    <tr>\n      <th>31</th>\n      <td>2201113</td>\n      <td>Aishwarya</td>\n      <td>Prasad</td>\n      <td>Lokhande</td>\n      <td>22.0</td>\n      <td>9.10</td>\n      <td>Female</td>\n      <td>Badminton</td>\n      <td>Pune</td>\n      <td>2017</td>\n    </tr>\n    <tr>\n      <th>32</th>\n      <td>2201155</td>\n      <td>Manali</td>\n      <td>Prayag</td>\n      <td>Petare</td>\n      <td>21.0</td>\n      <td>7.90</td>\n      <td>Female</td>\n      <td>Football</td>\n      <td>Sangli</td>\n      <td>2017</td>\n    </tr>\n    <tr>\n      <th>33</th>\n      <td>2201116</td>\n      <td>Ankita</td>\n      <td>Tanaji</td>\n      <td>Madane</td>\n      <td>22.0</td>\n      <td>7.00</td>\n      <td>Female</td>\n      <td>Cricket</td>\n      <td>Karad</td>\n      <td>2017</td>\n    </tr>\n    <tr>\n      <th>34</th>\n      <td>2201152</td>\n      <td>Yash</td>\n      <td>Rajgonda</td>\n      <td>Patil</td>\n      <td>21.0</td>\n      <td>7.21</td>\n      <td>Male</td>\n      <td>Cricket</td>\n      <td>Kolhapur</td>\n      <td>2017</td>\n    </tr>\n    <tr>\n      <th>35</th>\n      <td>2201139</td>\n      <td>Apeksha</td>\n      <td>D</td>\n      <td>Nimje</td>\n      <td>21.0</td>\n      <td>8.00</td>\n      <td>Female</td>\n      <td>Basketball</td>\n      <td>Nagpur</td>\n      <td>2017</td>\n    </tr>\n    <tr>\n      <th>36</th>\n      <td>2201206</td>\n      <td>Saurabh</td>\n      <td>Sanjay</td>\n      <td>Zute</td>\n      <td>22.0</td>\n      <td>7.50</td>\n      <td>Male</td>\n      <td>Cricket</td>\n      <td>Parbhani</td>\n      <td>2016</td>\n    </tr>\n    <tr>\n      <th>37</th>\n      <td>2201200</td>\n      <td>Kshitij</td>\n      <td>Kishor</td>\n      <td>Wani</td>\n      <td>22.0</td>\n      <td>7.60</td>\n      <td>Male</td>\n      <td>Cricket</td>\n      <td>Nagpur</td>\n      <td>2015</td>\n    </tr>\n    <tr>\n      <th>38</th>\n      <td>2201123</td>\n      <td>Sandesh</td>\n      <td>Sudhir</td>\n      <td>Manohar</td>\n      <td>22.0</td>\n      <td>7.54</td>\n      <td>Male</td>\n      <td>Football</td>\n      <td>Mumbai</td>\n      <td>2016</td>\n    </tr>\n    <tr>\n      <th>39</th>\n      <td>2201158</td>\n      <td>Suyog</td>\n      <td>Bapurao</td>\n      <td>Raut</td>\n      <td>22.0</td>\n      <td>7.67</td>\n      <td>Male</td>\n      <td>Cricket</td>\n      <td>Pune</td>\n      <td>2017</td>\n    </tr>\n    <tr>\n      <th>40</th>\n      <td>2201104</td>\n      <td>Prerna</td>\n      <td>Nitin</td>\n      <td>Kukade</td>\n      <td>21.0</td>\n      <td>7.40</td>\n      <td>Female</td>\n      <td>Badminton</td>\n      <td>Pune</td>\n      <td>2017</td>\n    </tr>\n    <tr>\n      <th>41</th>\n      <td>220143</td>\n      <td>Sakshi</td>\n      <td>Santosh</td>\n      <td>Patidar</td>\n      <td>22.0</td>\n      <td>10.00</td>\n      <td>Female</td>\n      <td>Cricket</td>\n      <td>Durg</td>\n      <td>2015</td>\n    </tr>\n    <tr>\n      <th>42</th>\n      <td>2201205</td>\n      <td>Jyoti</td>\n      <td>.</td>\n      <td>Yadav</td>\n      <td>22.0</td>\n      <td>8.14</td>\n      <td>Female</td>\n      <td>Cricket</td>\n      <td>Alwar</td>\n      <td>2012</td>\n    </tr>\n    <tr>\n      <th>43</th>\n      <td>2201117</td>\n      <td>Nilesh</td>\n      <td>Prakash</td>\n      <td>Mahajan</td>\n      <td>22.0</td>\n      <td>7.56</td>\n      <td>Male</td>\n      <td>Badminton</td>\n      <td>Wadgaon</td>\n      <td>2017</td>\n    </tr>\n    <tr>\n      <th>44</th>\n      <td>2201166</td>\n      <td>Pranav</td>\n      <td>Pravin</td>\n      <td>Sarkale</td>\n      <td>21.0</td>\n      <td>7.96</td>\n      <td>Male</td>\n      <td>Carrom</td>\n      <td>Pune</td>\n      <td>2017</td>\n    </tr>\n    <tr>\n      <th>45</th>\n      <td>2201167</td>\n      <td>Raj</td>\n      <td>Rajendra</td>\n      <td>Kumar</td>\n      <td>22.0</td>\n      <td>9.60</td>\n      <td>Male</td>\n      <td>Cricket</td>\n      <td>Pune</td>\n      <td>2016</td>\n    </tr>\n    <tr>\n      <th>46</th>\n      <td>2201157</td>\n      <td>Nikhil</td>\n      <td>Ashok</td>\n      <td>Rande</td>\n      <td>22.0</td>\n      <td>7.00</td>\n      <td>Male</td>\n      <td>Kabaddi</td>\n      <td>Akot</td>\n      <td>2016</td>\n    </tr>\n    <tr>\n      <th>47</th>\n      <td>2201118</td>\n      <td>‎ Shubham</td>\n      <td>‎ Sanjay</td>\n      <td>‎ Mali</td>\n      <td>21.0</td>\n      <td>9.15</td>\n      <td>Male</td>\n      <td>‎ Cricket</td>\n      <td>‎ Pune</td>\n      <td>2017</td>\n    </tr>\n    <tr>\n      <th>48</th>\n      <td>2201194</td>\n      <td>Shraddha</td>\n      <td>Jaiprakash</td>\n      <td>Varma</td>\n      <td>22.0</td>\n      <td>7.89</td>\n      <td>Female</td>\n      <td>Badminton</td>\n      <td>Wani</td>\n      <td>2017</td>\n    </tr>\n    <tr>\n      <th>49</th>\n      <td>2201106</td>\n      <td>Priya</td>\n      <td>Pradip</td>\n      <td>Kulkarni</td>\n      <td>22.0</td>\n      <td>8.00</td>\n      <td>Female</td>\n      <td>Badminton</td>\n      <td>Pune</td>\n      <td>2017</td>\n    </tr>\n    <tr>\n      <th>50</th>\n      <td>2201107</td>\n      <td>Swapnil</td>\n      <td>Suhas</td>\n      <td>Kulkarni</td>\n      <td>22.0</td>\n      <td>7.28</td>\n      <td>Male</td>\n      <td>Cricket</td>\n      <td>Pune</td>\n      <td>2016</td>\n    </tr>\n  </tbody>\n</table>\n</div>"
          },
          "metadata": {}
        }
      ]
    },
    {
      "cell_type": "markdown",
      "source": "## boolean filtering",
      "metadata": {}
    },
    {
      "cell_type": "code",
      "source": "df[df['sgpa']>10]",
      "metadata": {
        "trusted": true
      },
      "execution_count": 93,
      "outputs": [
        {
          "execution_count": 93,
          "output_type": "execute_result",
          "data": {
            "text/plain": "    roll_num     name middlename surname   age  sgpa  gender favorite_sport  \\\n29   2201188  Akshata      Vijay  Thakre  22.0  75.0  Female        Cricket   \n\n   native_city  year_of_passing_10th  \n29        Pune                  2017  ",
            "text/html": "<div>\n<style scoped>\n    .dataframe tbody tr th:only-of-type {\n        vertical-align: middle;\n    }\n\n    .dataframe tbody tr th {\n        vertical-align: top;\n    }\n\n    .dataframe thead th {\n        text-align: right;\n    }\n</style>\n<table border=\"1\" class=\"dataframe\">\n  <thead>\n    <tr style=\"text-align: right;\">\n      <th></th>\n      <th>roll_num</th>\n      <th>name</th>\n      <th>middlename</th>\n      <th>surname</th>\n      <th>age</th>\n      <th>sgpa</th>\n      <th>gender</th>\n      <th>favorite_sport</th>\n      <th>native_city</th>\n      <th>year_of_passing_10th</th>\n    </tr>\n  </thead>\n  <tbody>\n    <tr>\n      <th>29</th>\n      <td>2201188</td>\n      <td>Akshata</td>\n      <td>Vijay</td>\n      <td>Thakre</td>\n      <td>22.0</td>\n      <td>75.0</td>\n      <td>Female</td>\n      <td>Cricket</td>\n      <td>Pune</td>\n      <td>2017</td>\n    </tr>\n  </tbody>\n</table>\n</div>"
          },
          "metadata": {}
        }
      ]
    },
    {
      "cell_type": "code",
      "source": "df.loc[29,'sgpa'] = 7.5",
      "metadata": {
        "trusted": true
      },
      "execution_count": 94,
      "outputs": []
    },
    {
      "cell_type": "code",
      "source": "df['sgpa'].min(), df['sgpa'].max()",
      "metadata": {
        "trusted": true
      },
      "execution_count": 99,
      "outputs": [
        {
          "execution_count": 99,
          "output_type": "execute_result",
          "data": {
            "text/plain": "(7.0, 10.0)"
          },
          "metadata": {}
        }
      ]
    },
    {
      "cell_type": "code",
      "source": "df[df['sgpa']>9]",
      "metadata": {
        "trusted": true
      },
      "execution_count": 101,
      "outputs": [
        {
          "execution_count": 101,
          "output_type": "execute_result",
          "data": {
            "text/plain": "    roll_num       name middlename   surname   age   sgpa  gender  \\\n9    2201105      Omkar     Milind  Kulkarni  22.0   9.81    Male   \n31   2201113  Aishwarya     Prasad  Lokhande  22.0   9.10  Female   \n41    220143     Sakshi    Santosh   Patidar  22.0  10.00  Female   \n45   2201167        Raj   Rajendra     Kumar  22.0   9.60    Male   \n47   2201118  ‎ Shubham   ‎ Sanjay    ‎ Mali  21.0   9.15    Male   \n\n      favorite_sport native_city  year_of_passing_10th  \n9   Sachin Tendulkar        Pune                  2018  \n31         Badminton        Pune                  2017  \n41           Cricket        Durg                  2015  \n45           Cricket        Pune                  2016  \n47         ‎ Cricket      ‎ Pune                  2017  ",
            "text/html": "<div>\n<style scoped>\n    .dataframe tbody tr th:only-of-type {\n        vertical-align: middle;\n    }\n\n    .dataframe tbody tr th {\n        vertical-align: top;\n    }\n\n    .dataframe thead th {\n        text-align: right;\n    }\n</style>\n<table border=\"1\" class=\"dataframe\">\n  <thead>\n    <tr style=\"text-align: right;\">\n      <th></th>\n      <th>roll_num</th>\n      <th>name</th>\n      <th>middlename</th>\n      <th>surname</th>\n      <th>age</th>\n      <th>sgpa</th>\n      <th>gender</th>\n      <th>favorite_sport</th>\n      <th>native_city</th>\n      <th>year_of_passing_10th</th>\n    </tr>\n  </thead>\n  <tbody>\n    <tr>\n      <th>9</th>\n      <td>2201105</td>\n      <td>Omkar</td>\n      <td>Milind</td>\n      <td>Kulkarni</td>\n      <td>22.0</td>\n      <td>9.81</td>\n      <td>Male</td>\n      <td>Sachin Tendulkar</td>\n      <td>Pune</td>\n      <td>2018</td>\n    </tr>\n    <tr>\n      <th>31</th>\n      <td>2201113</td>\n      <td>Aishwarya</td>\n      <td>Prasad</td>\n      <td>Lokhande</td>\n      <td>22.0</td>\n      <td>9.10</td>\n      <td>Female</td>\n      <td>Badminton</td>\n      <td>Pune</td>\n      <td>2017</td>\n    </tr>\n    <tr>\n      <th>41</th>\n      <td>220143</td>\n      <td>Sakshi</td>\n      <td>Santosh</td>\n      <td>Patidar</td>\n      <td>22.0</td>\n      <td>10.00</td>\n      <td>Female</td>\n      <td>Cricket</td>\n      <td>Durg</td>\n      <td>2015</td>\n    </tr>\n    <tr>\n      <th>45</th>\n      <td>2201167</td>\n      <td>Raj</td>\n      <td>Rajendra</td>\n      <td>Kumar</td>\n      <td>22.0</td>\n      <td>9.60</td>\n      <td>Male</td>\n      <td>Cricket</td>\n      <td>Pune</td>\n      <td>2016</td>\n    </tr>\n    <tr>\n      <th>47</th>\n      <td>2201118</td>\n      <td>‎ Shubham</td>\n      <td>‎ Sanjay</td>\n      <td>‎ Mali</td>\n      <td>21.0</td>\n      <td>9.15</td>\n      <td>Male</td>\n      <td>‎ Cricket</td>\n      <td>‎ Pune</td>\n      <td>2017</td>\n    </tr>\n  </tbody>\n</table>\n</div>"
          },
          "metadata": {}
        }
      ]
    },
    {
      "cell_type": "code",
      "source": "df['favorite_sport'].value_counts()",
      "metadata": {
        "trusted": true
      },
      "execution_count": 102,
      "outputs": [
        {
          "execution_count": 102,
          "output_type": "execute_result",
          "data": {
            "text/plain": "Cricket               24\nBadminton             10\nFootball               4\nVolleyball             2\nTable Tennis           2\nCricket , Football     1\nChess                  1\nSachin Tendulkar       1\n-                      1\nVollyball              1\nBasketball             1\nCarrom                 1\nKabaddi                1\n‎ Cricket              1\nName: favorite_sport, dtype: int64"
          },
          "metadata": {}
        }
      ]
    },
    {
      "cell_type": "code",
      "source": "df['favorite_sport'].mode()",
      "metadata": {
        "trusted": true
      },
      "execution_count": 103,
      "outputs": [
        {
          "execution_count": 103,
          "output_type": "execute_result",
          "data": {
            "text/plain": "0    Cricket\nName: favorite_sport, dtype: object"
          },
          "metadata": {}
        }
      ]
    },
    {
      "cell_type": "code",
      "source": "df[(df['gender']=='Female')&(df['favorite_sport']=='Cricket')]",
      "metadata": {
        "trusted": true
      },
      "execution_count": 104,
      "outputs": [
        {
          "execution_count": 104,
          "output_type": "execute_result",
          "data": {
            "text/plain": "    roll_num      name middlename  surname   age   sgpa  gender  \\\n14   2201182   Sindura      Singh  Rathore  23.0   8.10  Female   \n19   1951022    Muskan    Shabbir   Shipai  21.0   8.05  Female   \n22   2201175  Sharvari      Sunil   Shinde  22.0   7.82  Female   \n26   2201196  Himanshi                Vyas  22.0   8.80  Female   \n29   2201188   Akshata      Vijay   Thakre  22.0   7.50  Female   \n33   2201116    Ankita     Tanaji   Madane  22.0   7.00  Female   \n41    220143    Sakshi    Santosh  Patidar  22.0  10.00  Female   \n42   2201205     Jyoti          .    Yadav  22.0   8.14  Female   \n\n   favorite_sport  native_city  year_of_passing_10th  \n14        Cricket  Muzzafarpur                  2017  \n19        Cricket         Pune                  2017  \n22        Cricket        Karad                  2016  \n26        Cricket       Indore                  2017  \n29        Cricket         Pune                  2017  \n33        Cricket        Karad                  2017  \n41        Cricket         Durg                  2015  \n42        Cricket        Alwar                  2012  ",
            "text/html": "<div>\n<style scoped>\n    .dataframe tbody tr th:only-of-type {\n        vertical-align: middle;\n    }\n\n    .dataframe tbody tr th {\n        vertical-align: top;\n    }\n\n    .dataframe thead th {\n        text-align: right;\n    }\n</style>\n<table border=\"1\" class=\"dataframe\">\n  <thead>\n    <tr style=\"text-align: right;\">\n      <th></th>\n      <th>roll_num</th>\n      <th>name</th>\n      <th>middlename</th>\n      <th>surname</th>\n      <th>age</th>\n      <th>sgpa</th>\n      <th>gender</th>\n      <th>favorite_sport</th>\n      <th>native_city</th>\n      <th>year_of_passing_10th</th>\n    </tr>\n  </thead>\n  <tbody>\n    <tr>\n      <th>14</th>\n      <td>2201182</td>\n      <td>Sindura</td>\n      <td>Singh</td>\n      <td>Rathore</td>\n      <td>23.0</td>\n      <td>8.10</td>\n      <td>Female</td>\n      <td>Cricket</td>\n      <td>Muzzafarpur</td>\n      <td>2017</td>\n    </tr>\n    <tr>\n      <th>19</th>\n      <td>1951022</td>\n      <td>Muskan</td>\n      <td>Shabbir</td>\n      <td>Shipai</td>\n      <td>21.0</td>\n      <td>8.05</td>\n      <td>Female</td>\n      <td>Cricket</td>\n      <td>Pune</td>\n      <td>2017</td>\n    </tr>\n    <tr>\n      <th>22</th>\n      <td>2201175</td>\n      <td>Sharvari</td>\n      <td>Sunil</td>\n      <td>Shinde</td>\n      <td>22.0</td>\n      <td>7.82</td>\n      <td>Female</td>\n      <td>Cricket</td>\n      <td>Karad</td>\n      <td>2016</td>\n    </tr>\n    <tr>\n      <th>26</th>\n      <td>2201196</td>\n      <td>Himanshi</td>\n      <td></td>\n      <td>Vyas</td>\n      <td>22.0</td>\n      <td>8.80</td>\n      <td>Female</td>\n      <td>Cricket</td>\n      <td>Indore</td>\n      <td>2017</td>\n    </tr>\n    <tr>\n      <th>29</th>\n      <td>2201188</td>\n      <td>Akshata</td>\n      <td>Vijay</td>\n      <td>Thakre</td>\n      <td>22.0</td>\n      <td>7.50</td>\n      <td>Female</td>\n      <td>Cricket</td>\n      <td>Pune</td>\n      <td>2017</td>\n    </tr>\n    <tr>\n      <th>33</th>\n      <td>2201116</td>\n      <td>Ankita</td>\n      <td>Tanaji</td>\n      <td>Madane</td>\n      <td>22.0</td>\n      <td>7.00</td>\n      <td>Female</td>\n      <td>Cricket</td>\n      <td>Karad</td>\n      <td>2017</td>\n    </tr>\n    <tr>\n      <th>41</th>\n      <td>220143</td>\n      <td>Sakshi</td>\n      <td>Santosh</td>\n      <td>Patidar</td>\n      <td>22.0</td>\n      <td>10.00</td>\n      <td>Female</td>\n      <td>Cricket</td>\n      <td>Durg</td>\n      <td>2015</td>\n    </tr>\n    <tr>\n      <th>42</th>\n      <td>2201205</td>\n      <td>Jyoti</td>\n      <td>.</td>\n      <td>Yadav</td>\n      <td>22.0</td>\n      <td>8.14</td>\n      <td>Female</td>\n      <td>Cricket</td>\n      <td>Alwar</td>\n      <td>2012</td>\n    </tr>\n  </tbody>\n</table>\n</div>"
          },
          "metadata": {}
        }
      ]
    },
    {
      "cell_type": "code",
      "source": "df[df['year_of_passing_10th']==2015]['name'].count()",
      "metadata": {
        "trusted": true
      },
      "execution_count": 105,
      "outputs": [
        {
          "execution_count": 105,
          "output_type": "execute_result",
          "data": {
            "text/plain": "4"
          },
          "metadata": {}
        }
      ]
    },
    {
      "cell_type": "code",
      "source": "x=df[(df['gender']=='Female')&(df['favorite_sport']=='Cricket')]",
      "metadata": {
        "trusted": true
      },
      "execution_count": 106,
      "outputs": []
    },
    {
      "cell_type": "code",
      "source": "x.to_csv('output.csv',index=False)",
      "metadata": {
        "trusted": true
      },
      "execution_count": 107,
      "outputs": []
    },
    {
      "cell_type": "code",
      "source": "",
      "metadata": {},
      "execution_count": null,
      "outputs": []
    }
  ]
}